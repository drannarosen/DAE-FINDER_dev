{
 "cells": [
  {
   "cell_type": "markdown",
   "id": "6f2b32ed-1efe-402f-963a-44a020baad17",
   "metadata": {},
   "source": [
    "# Simple pendulum"
   ]
  },
  {
   "cell_type": "code",
   "execution_count": 1,
   "id": "2f352add-6385-4885-8a9e-6d29c23137db",
   "metadata": {},
   "source": [
    "import numpy as np\n",
    "from scipy.integrate import odeint\n",
    "import pandas as pd\n",
    "import warnings\n",
    "pd.set_option('display.float_format', '{:0.8f}'.format)\n",
    "import operator"
   ],
   "outputs": []
  },
  {
   "cell_type": "markdown",
   "id": "2091babb-3247-4194-b253-37a7b1a30563",
   "metadata": {},
   "source": [
    "Upright Pendulum link\n",
    "\n",
    "https://www.12000.org/my_notes/cart_motion/report.htm"
   ]
  },
  {
   "cell_type": "code",
   "execution_count": 4,
   "id": "dc62d1e7-ff4d-41b6-8afd-4a365dc02976",
   "metadata": {},
   "source": [
    "import numpy as np\n",
    "import matplotlib.pyplot as plt\n",
    "from scipy.integrate import solve_ivp\n",
    "\n",
    "# Function to compute derivatives\n",
    "def pendulum_rhs(t, y, gamma, L=1):\n",
    "    \"\"\"\n",
    "    Function to compute derivatives for simple pendulum with damping\n",
    "    \n",
    "    Parameters:\n",
    "        t : float\n",
    "            Time\n",
    "        y : array_like\n",
    "            Vector containing [theta, omega], where\n",
    "            theta is the angle and omega is the angular velocity\n",
    "        gamma : float\n",
    "            Damping coefficient\n",
    "        L : float\n",
    "            Length of the pendulum\n",
    "        \n",
    "    Returns:\n",
    "        dydt : array_like\n",
    "            Vector containing [omega, alpha], where\n",
    "            omega is the angular velocity and alpha is the angular acceleration\n",
    "    \"\"\"\n",
    "    theta, omega = y\n",
    "    alpha = - (9.81 / L) * np.sin(theta) - gamma * omega\n",
    "    return [omega, alpha]\n",
    "\n",
    "# Parameters\n",
    "theta0 = np.pi / 4  # Initial angle (radians)\n",
    "omega0 = 0.0        # Initial angular velocity (radians per second)\n",
    "gamma = 0.0       # Damping coefficient\n",
    "L = 1.0             # Length of the pendulum (meters)\n",
    "t_span = (0, 10)    # Time span for the simulation\n",
    "\n",
    "# Function to integrate the system of ODEs\n",
    "def integrate_pendulum(t_span, y0, gamma, L):\n",
    "\n",
    "    sol = solve_ivp(lambda t, y: pendulum_rhs(t, y, gamma, L), t_span, y0, method='RK45', t_eval=np.linspace(*t_span, 1000))\n",
    "    return sol\n",
    "\n",
    "# Integrate the pendulum system\n",
    "sol = integrate_pendulum(t_span, [theta0, omega0], gamma, L)\n",
    "\n",
    "# Plot the results\n",
    "plt.figure(figsize=(10, 5))\n",
    "plt.plot(sol.t, sol.y[0], label='Angle (radians)')\n",
    "plt.plot(sol.t, sol.y[1], label='Angular velocity (rad/s)')\n",
    "plt.title('Damped Simple Pendulum Simulation using scipy.solve_ivp')\n",
    "plt.xlabel('Time (s)')\n",
    "plt.ylabel('Value')\n",
    "plt.legend()\n",
    "plt.grid(True)\n",
    "plt.show()"
   ],
   "outputs": []
  },
  {
   "cell_type": "code",
   "execution_count": 103,
   "id": "d08d685a-49c2-4618-ab7c-9f4f4a08e00c",
   "metadata": {
    "ExecuteTime": {
     "end_time": "2023-12-19T01:33:54.790920Z",
     "start_time": "2023-12-19T01:33:54.739046Z"
    }
   },
   "source": [
    "IC_df = pd.read_csv(\"parameters/init_cond_simp_pend.csv\")"
   ],
   "outputs": []
  },
  {
   "cell_type": "code",
   "execution_count": 104,
   "id": "05638299-c496-4b49-853c-9679afd9f0cb",
   "metadata": {
    "ExecuteTime": {
     "end_time": "2023-12-19T01:33:55.045040Z",
     "start_time": "2023-12-19T01:33:54.768538Z"
    }
   },
   "source": [
    "# IC_df = IC_df[0:2]\n",
    "IC_df"
   ],
   "outputs": []
  },
  {
   "cell_type": "code",
   "execution_count": 105,
   "id": "801569fb-a75c-46ff-adc2-88b667dfe0ef",
   "metadata": {},
   "source": [
    "# Mechanical eEnergy level\n",
    "0.5*(IC_df[\"omega\"])**2 + 9.81*(1-np.cos(IC_df[\"theta\"]))"
   ],
   "outputs": []
  },
  {
   "cell_type": "code",
   "execution_count": 106,
   "id": "33254d67-4830-41f4-8763-977fb6b9f88e",
   "metadata": {
    "ExecuteTime": {
     "end_time": "2023-12-19T01:33:54.174589Z",
     "start_time": "2023-12-19T01:33:54.090332Z"
    }
   },
   "source": [
    "params_df = pd.read_csv(\"parameters/pend_param.csv\")\n",
    "params_df\n"
   ],
   "outputs": []
  },
  {
   "cell_type": "code",
   "execution_count": 107,
   "id": "8bb2a132-b59f-4512-8910-de817ff5cacf",
   "metadata": {},
   "source": [
    "g = 9.81   # Acceleration due to gravity (m/s^2)\n"
   ],
   "outputs": []
  },
  {
   "cell_type": "markdown",
   "id": "756d9ec5-4360-4d34-a1ac-82a7d713ebca",
   "metadata": {},
   "source": [
    "### Synthesizing data from different ICs"
   ]
  },
  {
   "cell_type": "markdown",
   "id": "a3686d5e-cb41-4045-a68d-37c2dd4fdc97",
   "metadata": {},
   "source": [
    "### Synthesizing data from different ICs"
   ]
  },
  {
   "cell_type": "code",
   "execution_count": 116,
   "id": "eb2f7a58-2a07-4f93-b7c1-649b2453553c",
   "metadata": {
    "ExecuteTime": {
     "end_time": "2023-12-19T01:33:55.410915Z",
     "start_time": "2023-12-19T01:33:55.304700Z"
    }
   },
   "source": [
    "L = 5.0\n",
    "# y_shift = 0.9 * L\n",
    "# y_shift = 0\n",
    "\n",
    "# Time span\n",
    "t_span = (0.0, 10)  # from 0 to 10 seconds\n",
    "#Valuation points\n",
    "t_eval_ = np.linspace(t_span[0], t_span[1], 100)\n",
    "data_matrix_df_list = []\n",
    "\n",
    "\n",
    "for param_index in params_df.index:\n",
    "    params = params_df.loc[param_index]\n",
    "    # Define parameters\n",
    "    m_c = params['m_c']  # Mass of the cart (kg)\n",
    "    m_p = params['m_p']  # Mass of the pendulum (kg)\n",
    "    l = params['l']    # Length of the pendulum (m)\n",
    "    for IC_index in IC_df.index:\n",
    "        IC = IC_df.loc[IC_index]\n",
    "        y0 = IC.values\n",
    "                # Parameters\n",
    "        theta0 = IC[\"theta\"]  # Initial angle (radians)\n",
    "        omega0 = IC[\"omega\"]        # Initial angular velocity (radians per second)\n",
    "        gamma = 0.0         # Damping coefficient\n",
    "        # Solve the ODEs\n",
    "        sol = solve_ivp(lambda t, y: pendulum_rhs(t, y, gamma, L), t_span, [theta0, omega0], method='RK45', t_eval=t_eval_)\n",
    "        sol_df = pd.DataFrame(sol.y.T, columns=[\"theta\", \"omega\"])\n",
    "        sol_df[\"x\"] = L*np.sin(sol_df[\"theta\"])\n",
    "        sol_df[\"y\"] = -L*np.cos(sol_df[\"theta\"])\n",
    "        data_matrix_df_list.append(sol_df[[\"x\", \"y\"]])\n",
    "        # if IC_index == 0:\n",
    "        #     # Plot the results\n",
    "        #     plt.figure(figsize=(10, 6))\n",
    "        #     plt.plot(sol.t, sol.y[0], label='Cart Position (x)')\n",
    "        #     plt.plot(sol.t, sol.y[2], label='Pendulum Angle (theta)')\n",
    "        #     plt.xlabel('Time (s)')\n",
    "        #     plt.ylabel('Position (m) / Angle (rad)')\n",
    "        #     plt.title('Upright Pendulum on Moving Cart')\n",
    "        #     plt.legend()\n",
    "        #     plt.grid(True)\n",
    "        #     plt.show()\n",
    "\n",
    "data_matrix_df = pd.concat(data_matrix_df_list, ignore_index=True)\n",
    "data_matrix_df"
   ],
   "outputs": []
  },
  {
   "cell_type": "code",
   "execution_count": 117,
   "id": "0cbaa92b-49d1-4c82-845e-50ef0396753e",
   "metadata": {},
   "source": [
    "(3/4)*np.pi"
   ],
   "outputs": []
  },
  {
   "cell_type": "code",
   "execution_count": 110,
   "id": "cb578091-f24d-45ca-a666-4ffbff1d84f3",
   "metadata": {},
   "source": [
    "data_matrix_df[[\"x\",\"y\"]].plot()"
   ],
   "outputs": []
  },
  {
   "cell_type": "code",
   "execution_count": 87,
   "id": "a49eba6a-ad69-424a-9970-31b03385f10e",
   "metadata": {},
   "source": [
    "data_matrix_df_appended[\"d(theta) /dt\"]"
   ],
   "outputs": []
  },
  {
   "cell_type": "code",
   "execution_count": 43,
   "id": "d25d42b7-924b-4f29-8e4c-9edee881d030",
   "metadata": {},
   "source": [
    "from copy import deepcopy\n",
    "new_df = deepcopy(data_matrix_df_appended)\n",
    "\n",
    "new_df[\"energy\"] = 0.5*((new_df[\"d(x) /dt\"])**2 + (new_df[\"d(y) /dt\"])**2) +  9.81*new_df[\"y\"]"
   ],
   "outputs": []
  },
  {
   "cell_type": "code",
   "execution_count": 44,
   "id": "4c78e05a-016f-4a64-ae02-94d942da230e",
   "metadata": {},
   "source": [
    "new_df.plot()"
   ],
   "outputs": []
  },
  {
   "cell_type": "markdown",
   "id": "386adc28-f9d5-4e0c-b678-6f6cc0b7be15",
   "metadata": {},
   "source": [
    "### Calculating the derivatives of data"
   ]
  },
  {
   "cell_type": "code",
   "execution_count": 118,
   "id": "a9cefbea-dd69-4e21-ac8c-d6d56bd05f58",
   "metadata": {},
   "source": [
    "from dae_finder import der_matrix_calculator"
   ],
   "outputs": []
  },
  {
   "cell_type": "code",
   "execution_count": 119,
   "id": "07634d95-fe14-49b9-be1d-6ef0fddfc3c6",
   "metadata": {},
   "source": [
    "delta_t = t_eval_[1]- t_eval_[0]\n",
    "data_matrix_features = data_matrix_df_list[0].columns\n",
    "for ind, data_matrix_ in enumerate(data_matrix_df_list):\n",
    "    derr_matrix = der_matrix_calculator(data_matrix_, delta_t)\n",
    "    data_matrix_df_list[ind] = pd.concat([data_matrix_.iloc[:-1], derr_matrix], axis=1)\n",
    "\n",
    "data_matrix_df_appended = pd.concat(data_matrix_df_list, ignore_index=True)\n",
    "data_matrix_df_appended"
   ],
   "outputs": []
  },
  {
   "cell_type": "code",
   "execution_count": 30,
   "id": "a77dcc00-1afe-400e-b1ca-b21594dabbc3",
   "metadata": {},
   "source": [
    "delta_t = t_eval_[1]- t_eval_[0]\n",
    "data_matrix_features = data_matrix_df_list[0].columns\n",
    "for ind, data_matrix_ in enumerate(data_matrix_df_list):\n",
    "    derr_matrix = der_matrix_calculator(data_matrix_, delta_t)\n",
    "    data_matrix_df_list[ind] = pd.concat([data_matrix_.iloc[:-1], derr_matrix], axis=1)\n",
    "\n",
    "data_matrix_df_appended = pd.concat(data_matrix_df_list, ignore_index=True)\n",
    "data_matrix_df_appended"
   ],
   "outputs": []
  },
  {
   "cell_type": "code",
   "execution_count": null,
   "id": "ac583985-e26a-45cb-ab6d-24a6a93ad47c",
   "metadata": {},
   "source": [
    "data_matrix_df_appended[\"x\"]"
   ],
   "outputs": []
  },
  {
   "cell_type": "code",
   "execution_count": 122,
   "id": "acfdcd4c-ef3f-46b0-90bf-cf1d8a5ea85b",
   "metadata": {},
   "source": [
    "# data_matrix_df = data_matrix_df_appended[[\"x\",\"y\"]]\n",
    "# data_matrix_df = pd.concat([data_matrix_df, data_matrix_df_appended[[\"d(u) /dt\"]]], axis=1)\n",
    "data_matrix_df = data_matrix_df_appended[[\"x\",\"y\", \"d(x) /dt\", \"d(y) /dt\"]]\n",
    "data_matrix_df"
   ],
   "outputs": []
  },
  {
   "cell_type": "markdown",
   "id": "083b7d72-e44a-4fb8-8fc4-4cf8b95cbaba",
   "metadata": {},
   "source": [
    "## Forming candiate library"
   ]
  },
  {
   "cell_type": "code",
   "execution_count": 113,
   "id": "d96eea43-765b-465b-ac71-bdfde5a350c2",
   "metadata": {},
   "source": [
    "from sklearn.preprocessing import FunctionTransformer\n",
    "from copy import deepcopy\n",
    "\n",
    "def sin_transformer(period):\n",
    "    return FunctionTransformer(lambda x: np.sin(x / period * 2 * np.pi))\n",
    "\n",
    "\n",
    "def cos_transformer(period):\n",
    "    return FunctionTransformer(lambda x: np.cos(x / period * 2 * np.pi))\n",
    "\n",
    "\n",
    "data_matrix_df_with_trig = deepcopy(data_matrix_df)\n",
    "data_matrix_df_with_trig[\"sin(theta)\"] = sin_transformer(1).fit_transform(data_matrix_df_with_trig)[\"theta\"]\n",
    "data_matrix_df_with_trig[\"cos(theta)\"] = cos_transformer(1).fit_transform(data_matrix_df_with_trig)[\"theta\"]"
   ],
   "outputs": []
  },
  {
   "cell_type": "code",
   "execution_count": 123,
   "id": "c667a96b-12c0-4bab-808a-5d7b7e884fbb",
   "metadata": {},
   "source": [
    "from dae_finder import PolyFeatureMatrix\n",
    "\n",
    "poly_feature_ob = PolyFeatureMatrix(2)\n",
    "\n",
    "candidate_lib_full = poly_feature_ob.fit_transform(data_matrix_df)"
   ],
   "outputs": []
  },
  {
   "cell_type": "code",
   "execution_count": 124,
   "id": "4a11429f-1cc4-4c85-a27a-d10c6aa4e339",
   "metadata": {},
   "source": [
    "candidate_lib_full = candidate_lib_full.drop([\"1\"], axis=1)\n",
    "candidate_lib_full"
   ],
   "outputs": []
  },
  {
   "cell_type": "code",
   "execution_count": 319,
   "id": "7a541b6a-b5c9-467c-8471-4c1e67769de8",
   "metadata": {},
   "source": [
    "candid_lib_comb = pd.concat([candidate_lib_full, data_matrix_df_with_trig[[\"cos(theta)\", \"sin(theta)\"]]], axis=1)\n",
    "candid_lib_comb"
   ],
   "outputs": []
  },
  {
   "cell_type": "markdown",
   "id": "1283b467-fa54-4a0f-adab-fbd8108b142e",
   "metadata": {},
   "source": [
    "### SVD analysis"
   ]
  },
  {
   "cell_type": "code",
   "execution_count": 136,
   "id": "aa17c052-a6be-47e3-aaec-51dc2bf35833",
   "metadata": {},
   "source": [
    "from sklearn import decomposition\n",
    "pca_1 = decomposition.PCA()\n",
    "pca_1.fit(candidate_lib_full)\n",
    "\n",
    "# pca_2 = decomposition.PCA()\n",
    "# pca_2.fit(mean_candidate_lib)\n",
    "\n",
    "# pca_3 = decomposition.PCA()\n",
    "# pca_3.fit(selected_data_matrix_df)\n",
    "\n",
    "pca_2 = decomposition.PCA()\n",
    "pca_2.fit(candidate_lib_full.drop([\"x^2\", \"x d(x) /dt\"],axis=1))\n",
    "\n",
    "pca_3 = decomposition.PCA()\n",
    "pca_3.fit(candidate_lib_full.drop([\"x^2\", \"x d(x) /dt\", \"y\"],axis=1))\n",
    "\n",
    "\n",
    "# singular_values = pca_1.singular_values_\n",
    "# mean_singular_values = pca_2.singular_values_\n",
    "\n",
    "var_expl_ratio = pca_1.explained_variance_ratio_\n",
    "theta_dot_sq_rem_expl_ratio = pca_2.explained_variance_ratio_\n",
    "theta_dot_rem_expl_ratio = pca_3.explained_variance_ratio_\n",
    "# data_var_expl_ratio_E = pca_4.explained_variance_\n",
    "\n",
    "# var_expl_ratio_E_rem = pca_5.explained_variance_\n"
   ],
   "outputs": []
  },
  {
   "cell_type": "code",
   "execution_count": 137,
   "id": "e4d5314b-0ce0-4734-9143-c0a37e5467e9",
   "metadata": {},
   "source": [
    "from matplotlib import pyplot as plt\n",
    "\n",
    "plt.scatter(np.arange(len(var_expl_ratio)),np.log(var_expl_ratio))\n",
    "plt.grid()\n",
    "# for x, y in zip(np.arange(len(candid_lib_sing_values)),np.log(candid_lib_sing_values)):\n",
    "#     plt.text(x,y,y)"
   ],
   "outputs": []
  },
  {
   "cell_type": "code",
   "execution_count": 138,
   "id": "2fcc41f2-42e3-4f21-bde5-7e1d2b754630",
   "metadata": {},
   "source": [
    "from matplotlib import pyplot as plt\n",
    "\n",
    "plt.scatter(np.arange(len(theta_dot_sq_rem_expl_ratio)),np.log(theta_dot_sq_rem_expl_ratio))\n",
    "plt.grid()\n",
    "# for x, y in zip(np.arange(len(candid_lib_sing_values)),np.log(candid_lib_sing_values)):\n",
    "#     plt.text(x,y,y)"
   ],
   "outputs": []
  },
  {
   "cell_type": "code",
   "execution_count": 139,
   "id": "382d4f54-9e25-4477-b043-07a39575acc4",
   "metadata": {},
   "source": [
    "from matplotlib import pyplot as plt\n",
    "\n",
    "plt.scatter(np.arange(len(theta_dot_rem_expl_ratio)),np.log(theta_dot_rem_expl_ratio))\n",
    "plt.grid()\n",
    "# for x, y in zip(np.arange(len(candid_lib_sing_values)),np.log(candid_lib_sing_values)):\n",
    "#     plt.text(x,y,y)"
   ],
   "outputs": []
  },
  {
   "cell_type": "markdown",
   "id": "c027ef7f-5809-4802-a7da-9003b5d0b876",
   "metadata": {},
   "source": [
    "### Finding the remaining algebraic relationships"
   ]
  },
  {
   "cell_type": "code",
   "execution_count": 125,
   "id": "d6dd00b7-96a1-4761-9b86-8d3040b0024c",
   "metadata": {},
   "source": [
    "from dae_finder import AlgModelFinder\n",
    "\n",
    "\n",
    "\n",
    "\n",
    "\n",
    "from dae_finder import sequentialThLin, AlgModelFinder\n",
    "seq_th_model = sequentialThLin(fit_intercept=True, coef_threshold= 0.1)\n",
    "algebraic_model_th = AlgModelFinder(custom_model=True, custom_model_ob= seq_th_model)\n"
   ],
   "outputs": []
  },
  {
   "cell_type": "code",
   "execution_count": null,
   "id": "8bb527d7-9828-45b5-a009-af12714bca79",
   "metadata": {},
   "source": [],
   "outputs": []
  },
  {
   "cell_type": "code",
   "execution_count": 126,
   "id": "db0ec33a-0c54-4c99-9209-93bbbc532514",
   "metadata": {},
   "source": [
    "algebraic_model_th.fit(candidate_lib_full, scale_columns= False)"
   ],
   "outputs": []
  },
  {
   "cell_type": "code",
   "execution_count": 127,
   "id": "c81e5a6c-9d3a-4725-8aa7-0d5e4b270690",
   "metadata": {},
   "source": [
    "algebraic_model_th.best_models(5)"
   ],
   "outputs": []
  },
  {
   "cell_type": "code",
   "execution_count": 128,
   "id": "c6a8a0a4-ee69-4262-812f-bfc4cfa3d45d",
   "metadata": {},
   "source": [
    "seq_th_model = sequentialThLin(fit_intercept=True, coef_threshold= 0.05)\n",
    "algebraic_model_th = AlgModelFinder(custom_model=True, custom_model_ob= seq_th_model)\n",
    "\n",
    "algebraic_model_th.fit(candidate_lib_full.drop([\"x^2\", \"x d(x) /dt\"], axis=1), scale_columns= False)"
   ],
   "outputs": []
  },
  {
   "cell_type": "code",
   "execution_count": 129,
   "id": "31434cc6-0419-4b7a-8600-0c558a96ec6d",
   "metadata": {},
   "source": [
    "algebraic_model_th.best_models(5)"
   ],
   "outputs": []
  },
  {
   "cell_type": "code",
   "execution_count": 98,
   "id": "9bd5ca69-1a27-46d0-b284-4d86f2476989",
   "metadata": {},
   "source": [
    "0.99995441 - 0.99993971"
   ],
   "outputs": []
  },
  {
   "cell_type": "code",
   "execution_count": 100,
   "id": "ad9cbb30-4556-47f5-991d-23f773c4b6f7",
   "metadata": {},
   "source": [
    "candidate_lib_full[\"d(y) /dt\"].plot()"
   ],
   "outputs": []
  },
  {
   "cell_type": "code",
   "execution_count": 328,
   "id": "13346bd3-72f5-48ef-b197-ee86b792952d",
   "metadata": {},
   "source": [
    "plt.plcandid_lib_comb[\"theta^2\"]"
   ],
   "outputs": []
  },
  {
   "cell_type": "code",
   "execution_count": 130,
   "id": "0f68fdc2-a2ef-49d0-9be5-a495d3b0224f",
   "metadata": {},
   "source": [
    "#Use lasso model by default\n",
    "algebraic_model_1 = AlgModelFinder(model_id='lasso', alpha=0.3, fit_intercept=True)\n",
    "algebraic_model_1.fit(candidate_lib_full, scale_columns= True)\n",
    "\n",
    "\n",
    "algebraic_model_1.best_models(5)"
   ],
   "outputs": []
  },
  {
   "cell_type": "code",
   "execution_count": 131,
   "id": "d28f33d3-b4ba-436b-8291-8322234747b7",
   "metadata": {},
   "source": [
    "#Use lasso model by default\n",
    "algebraic_model_1 = AlgModelFinder(model_id='lasso', alpha=0.3, fit_intercept=True)\n",
    "algebraic_model_1.fit(candidate_lib_full.drop([\"x^2\", \"x d(x) /dt\"], axis=1), scale_columns= True)\n",
    "\n",
    "\n",
    "algebraic_model_1.best_models(5)"
   ],
   "outputs": []
  },
  {
   "cell_type": "code",
   "execution_count": null,
   "id": "16e4e1b8-cfb2-4f13-ba25-dc35b7925a02",
   "metadata": {},
   "source": [],
   "outputs": []
  },
  {
   "cell_type": "code",
   "execution_count": null,
   "id": "745f2bc8-9186-4e17-93d0-a9f38d66bc3f",
   "metadata": {},
   "source": [],
   "outputs": []
  },
  {
   "cell_type": "code",
   "execution_count": null,
   "id": "f4a2155a-f18b-43b3-91d3-0e181f8e82fc",
   "metadata": {},
   "source": [],
   "outputs": []
  },
  {
   "cell_type": "code",
   "execution_count": 303,
   "id": "1c55399b-d218-4142-94d7-8c282b797cb0",
   "metadata": {},
   "source": [
    "candidate_lib_full[\"y^2\"]"
   ],
   "outputs": []
  },
  {
   "cell_type": "code",
   "execution_count": 304,
   "id": "db4ae97e-d64d-4437-9e16-c687d1696515",
   "metadata": {},
   "source": [
    "from sklearn.linear_model import LinearRegression\n",
    "\n",
    "lin_model = LinearRegression(fit_intercept=True)\n",
    "lin_model.fit(X=candidate_lib_full[[\"x^2\"]], y=candidate_lib_full[\"y^2\"])\n"
   ],
   "outputs": []
  },
  {
   "cell_type": "code",
   "execution_count": 305,
   "id": "dde3612b-5ff4-49f2-be39-0218781dcbf9",
   "metadata": {},
   "source": [
    "lin_model.coef_\n",
    "lin_model.intercept_"
   ],
   "outputs": []
  },
  {
   "cell_type": "code",
   "execution_count": 306,
   "id": "b0baf537-b514-49ed-b878-9c977367225c",
   "metadata": {},
   "source": [
    "plt.plot(candidate_lib_full[\"x^2\"], -0.7310178*candidate_lib_full[\"y^2\"] + 0.41957709*-0.7310178*candidate_lib_full[\"y\"])"
   ],
   "outputs": []
  },
  {
   "cell_type": "code",
   "execution_count": 94,
   "id": "c052469b-718a-4f3e-a3a7-a398697e015b",
   "metadata": {},
   "source": [
    "(3/2)*np.pi"
   ],
   "outputs": []
  },
  {
   "cell_type": "code",
   "execution_count": 89,
   "id": "21a930dc-17d9-40dc-9ec5-79cd62317c65",
   "metadata": {},
   "source": [
    "thet = (3/2)*np.pi\n",
    "theta_dot = 6\n",
    "\n",
    "0.5*(theta_dot)**2 + 9.81*(1-np.cos(thet))"
   ],
   "outputs": []
  },
  {
   "cell_type": "code",
   "execution_count": 90,
   "id": "eb04ed65-e65d-46e8-8d6f-d6489a9fa6e7",
   "metadata": {},
   "source": [
    "thet = (3/2)*np.pi\n",
    "theta_dot = -6\n",
    "\n",
    "0.5*(theta_dot)**2 + 9.81*(1-np.cos(thet))"
   ],
   "outputs": []
  },
  {
   "cell_type": "code",
   "execution_count": 92,
   "id": "7cd170e0-e460-4e56-adf9-eaecb32e28bd",
   "metadata": {},
   "source": [
    "thet = -(3/2)*np.pi\n",
    "theta_dot = 6\n",
    "\n",
    "0.5*(theta_dot)**2 + 9.81*(1-np.cos(thet))"
   ],
   "outputs": []
  },
  {
   "cell_type": "code",
   "execution_count": 93,
   "id": "c3844ece-730c-48b6-854a-f198210ea693",
   "metadata": {},
   "source": [
    "thet = -(3/2)*np.pi\n",
    "theta_dot = -6\n",
    "\n",
    "0.5*(theta_dot)**2 + 9.81*(1-np.cos(thet))"
   ],
   "outputs": []
  },
  {
   "cell_type": "code",
   "execution_count": null,
   "id": "0e21829c-da75-4bd7-ab75-2d64b813398a",
   "metadata": {},
   "source": [],
   "outputs": []
  },
  {
   "cell_type": "code",
   "execution_count": null,
   "id": "9defd333-0b8b-4d95-bf80-78cf1ab8d5ba",
   "metadata": {},
   "source": [],
   "outputs": []
  },
  {
   "cell_type": "code",
   "execution_count": 82,
   "id": "bf7bb110-95a3-42f8-b26b-eec1fbeddc60",
   "metadata": {},
   "source": [
    "thet = 3/4*np.pi\n",
    "theta_dot = 0\n",
    "\n",
    "0.5*(theta_dot)**2 + 9.81*(1-np.cos(thet))"
   ],
   "outputs": []
  },
  {
   "cell_type": "code",
   "execution_count": null,
   "id": "a9b3da16-c67b-4510-95a8-ac6be80f8ecb",
   "metadata": {},
   "source": [],
   "outputs": []
  },
  {
   "cell_type": "code",
   "execution_count": null,
   "id": "d896a075-194b-40f3-bd05-4ccd35f291fa",
   "metadata": {},
   "source": [],
   "outputs": []
  },
  {
   "cell_type": "code",
   "execution_count": null,
   "id": "a3163c8c-cfb1-4b8a-a72f-93fc435d4b5b",
   "metadata": {},
   "source": [],
   "outputs": []
  },
  {
   "cell_type": "code",
   "execution_count": null,
   "id": "5e983056-8607-4af1-8cb7-bb238f1c3311",
   "metadata": {},
   "source": [],
   "outputs": []
  },
  {
   "cell_type": "markdown",
   "id": "0663b526-eb5c-4b36-b124-eacc40949ecf",
   "metadata": {},
   "source": [
    "## Testing dynamics finding "
   ]
  },
  {
   "cell_type": "code",
   "execution_count": 327,
   "id": "36c14d02-526b-461b-b858-46f138e1a99e",
   "metadata": {},
   "source": [
    "refined_candid_lib = candidate_lib_full.drop(['x^2'], axis=1)\n",
    "# refined_candid_lib = candidate_lib_full.drop(['1'], axis=1)\n",
    "# refined_candid_lib = pd.concat([refined_candid_lib, dummy_der[['d(omega) /dt']]], axis=1)"
   ],
   "outputs": []
  },
  {
   "cell_type": "code",
   "execution_count": 328,
   "id": "8a99c162-9b7e-4c38-ab68-5a8bd144f83a",
   "metadata": {},
   "source": [
    "refined_candid_lib"
   ],
   "outputs": []
  },
  {
   "cell_type": "markdown",
   "id": "27cd1985-4c26-408c-a1a7-43881c003807",
   "metadata": {},
   "source": [
    "## Refined candidate library is able to find the model "
   ]
  },
  {
   "cell_type": "code",
   "execution_count": 329,
   "id": "d758d4d7-b845-4e36-b249-53aa7d64f553",
   "metadata": {},
   "source": [
    "data_matrix_df_appended[\"d(d(x) /dt) /dt\"]"
   ],
   "outputs": []
  },
  {
   "cell_type": "code",
   "execution_count": 330,
   "id": "019b50cf-1448-41b2-82ad-ee5514a4f168",
   "metadata": {},
   "source": [
    "from dae_finder import sequentialThLin\n",
    "\n",
    "seq_th_model = sequentialThLin(fit_intercept=False, coef_threshold=0.2)\n",
    "\n",
    "seq_th_model.fit(X=refined_candid_lib,  y=data_matrix_df_appended[\"d(d(x) /dt) /dt\"])"
   ],
   "outputs": []
  },
  {
   "cell_type": "code",
   "execution_count": 331,
   "id": "98eb6792-c8fe-458e-897a-ed532bcc75cf",
   "metadata": {},
   "source": [
    "dict(zip(seq_th_model.feature_names_in_, seq_th_model.coef_))"
   ],
   "outputs": []
  },
  {
   "cell_type": "code",
   "execution_count": null,
   "id": "9fffe795-7d37-4d07-a628-5aaf933474cf",
   "metadata": {},
   "source": [],
   "outputs": []
  },
  {
   "cell_type": "markdown",
   "id": "dae40dc0-5b9c-4461-b3a8-0287a8778017",
   "metadata": {},
   "source": [
    "#### Using lasso"
   ]
  },
  {
   "cell_type": "code",
   "execution_count": 332,
   "id": "cae2ff97-490d-4c6b-b8e3-bd1db6169d43",
   "metadata": {},
   "source": [
    "from sklearn.preprocessing import StandardScaler\n",
    "s_scaler = StandardScaler(with_std=True, with_mean=False)\n",
    "scaled_cand_lib = pd.DataFrame(s_scaler.fit_transform(refined_candid_lib), columns=s_scaler.feature_names_in_)"
   ],
   "outputs": []
  },
  {
   "cell_type": "code",
   "execution_count": 333,
   "id": "331fe9bf-29ff-4c88-937a-ea0954606925",
   "metadata": {},
   "source": [
    "from sklearn.linear_model import Lasso\n",
    "alg_lasso = Lasso(fit_intercept=False, alpha=0.3)\n",
    "alg_lasso.fit(X=refined_candid_lib,  y=data_matrix_df_appended[\"d(d(x) /dt) /dt\"])"
   ],
   "outputs": []
  },
  {
   "cell_type": "code",
   "execution_count": 334,
   "id": "334fe17f-57d3-4a7d-b848-d03d8d84788c",
   "metadata": {},
   "source": [
    "dict(zip(alg_lasso.feature_names_in_, alg_lasso.coef_))"
   ],
   "outputs": []
  },
  {
   "cell_type": "code",
   "execution_count": null,
   "id": "c45bba2a-4374-4a65-96f4-fe529e24c33b",
   "metadata": {},
   "source": [],
   "outputs": []
  },
  {
   "cell_type": "code",
   "execution_count": null,
   "id": "5c8d5e25-e30f-4c02-9b24-45e219bac840",
   "metadata": {},
   "source": [],
   "outputs": []
  },
  {
   "cell_type": "code",
   "execution_count": 185,
   "id": "5e0b3b69-c456-42f6-9211-9fdbb18148dc",
   "metadata": {},
   "source": [
    "plt.plot(dummy_der[\"d(theta) /dt\"], data_matrix_df_list[0][\"omega\"][:999])"
   ],
   "outputs": []
  },
  {
   "cell_type": "code",
   "execution_count": 184,
   "id": "f022260d-1b99-4d66-97e0-647bd652ea9b",
   "metadata": {},
   "source": [
    "(dummy_der[\"d(theta) /dt\"] - data_matrix_df_list[0][\"omega\"][:999]).hist()"
   ],
   "outputs": []
  },
  {
   "cell_type": "code",
   "execution_count": 182,
   "id": "518f6cd0-16eb-4d6c-be72-d8de04b5dfe2",
   "metadata": {},
   "source": [
    "data_matrix_df_list[0][\"u\"][:999].hist()"
   ],
   "outputs": []
  },
  {
   "cell_type": "code",
   "execution_count": 31,
   "id": "55e1449a-fe0e-4d7b-81e3-022ccd61a4d1",
   "metadata": {},
   "source": [
    "pend_data.columns"
   ],
   "outputs": []
  },
  {
   "cell_type": "code",
   "execution_count": 37,
   "id": "b361a5dc-9444-47d6-a755-2e0866583a86",
   "metadata": {},
   "source": [
    "pend_data = pd.read_csv(\"pendulum_data.txt\")\n",
    "\n",
    "pend_data.columns = pend_data.iloc[0]\n",
    "\n",
    "pend_data = pend_data[1:]\n",
    "\n",
    "pend_data = pend_data[list(pend_data.columns)[:-1]]\n",
    "\n",
    "pend_data\n"
   ],
   "outputs": []
  },
  {
   "cell_type": "code",
   "execution_count": 47,
   "id": "8fe53913-2de0-48cc-93f1-6abd7e421c11",
   "metadata": {},
   "source": [
    "pend_data[\"t\"] = pend_data[\"t\"].apply(lambda x: float(x))\n",
    "pend_data[\"x\"] = pend_data[\"x\"].apply(lambda x: float(x))\n",
    "pend_data[\"y\"] = pend_data[\"y\"].apply(lambda x: float(x))\n"
   ],
   "outputs": []
  },
  {
   "cell_type": "code",
   "execution_count": 53,
   "id": "e02d5125-b8cf-4b66-b0a8-b41935fa8ef0",
   "metadata": {},
   "source": [
    "pend_data[\"theta\"] = np.arctan(-pend_data[\"y\"]/pend_data[\"x\"])"
   ],
   "outputs": []
  },
  {
   "cell_type": "code",
   "execution_count": null,
   "id": "1b21c54f-3e54-48e2-b832-a9de50760566",
   "metadata": {},
   "source": [],
   "outputs": []
  },
  {
   "cell_type": "code",
   "execution_count": null,
   "id": "b10bca4b-5517-4095-8873-bddd80df444f",
   "metadata": {},
   "source": [],
   "outputs": []
  },
  {
   "cell_type": "code",
   "execution_count": null,
   "id": "23867a52-e504-4425-9a23-186c31363cc4",
   "metadata": {},
   "source": [],
   "outputs": []
  },
  {
   "cell_type": "code",
   "execution_count": 66,
   "id": "01f328e8-44a4-4b43-ab9d-e2b17d7d410e",
   "metadata": {},
   "source": [
    "import numpy as np\n",
    "from scipy.integrate import solve_ivp\n",
    "import matplotlib.pyplot as plt\n",
    "\n",
    "def deriv(t, y):\n",
    "    \"\"\"ODEs for Robertson's chemical reaction system.\"\"\"\n",
    "    x, y, z = y\n",
    "    xdot = -0.04 * x + 1.e4 * y * z\n",
    "    ydot = 0.04 * x - 1.e4 * y * z - 3.e7 * y**2\n",
    "    zdot = 3.e7 * y**2\n",
    "    return xdot, ydot, zdot\n",
    "\n",
    "# Initial and final times.\n",
    "t0, tf = 0, 500\n",
    "t_eval = np.linspace(t0, tf, 1000)\n",
    "# Initial conditions: [X] = 1; [Y] = [Z] = 0.\n",
    "y0 = 1, 0, 0\n",
    "# Solve, using a method resilient to stiff ODEs.\n",
    "soln = solve_ivp(deriv, (t0, tf), y0, method='Radau', t_eval=t_eval)\n",
    "print(soln.nfev, 'evaluations required.')\n",
    "\n",
    "# Plot the concentrations as a function of time. Scale [Y] by 10**YFAC\n",
    "# so its variation is visible on the same axis used for [X] and [Z].\n",
    "YFAC = 4\n",
    "plt.plot(soln.t, soln.y[0], label='[X]')\n",
    "plt.plot(soln.t, 10**YFAC*soln.y[1], label=r'$10^{}\\times$[Y]'.format(YFAC))\n",
    "plt.plot(soln.t, soln.y[2], label='[Z]')\n",
    "plt.xlabel('time /s')\n",
    "plt.ylabel('concentration /arb. units')\n",
    "plt.legend()\n",
    "plt.show()"
   ],
   "outputs": []
  },
  {
   "cell_type": "code",
   "execution_count": 70,
   "id": "5be7e197-311d-46ae-8098-94c33b98a501",
   "metadata": {},
   "source": [
    "dat_mat = pd.DataFrame(soln.y.T, columns=[\"x\",\"y\",\"z\"])"
   ],
   "outputs": []
  },
  {
   "cell_type": "code",
   "execution_count": 68,
   "id": "ebcfe093-d22d-4502-bac4-077f0d748bf9",
   "metadata": {},
   "source": [
    "dat_mat[\"x\"] + dat_mat[\"y\"] + dat_mat[\"z\"]"
   ],
   "outputs": []
  },
  {
   "cell_type": "code",
   "execution_count": 85,
   "id": "7975a791-31d9-4e01-bfef-b731b7de8a8c",
   "metadata": {},
   "source": [
    "#Use lasso model by default\n",
    "algebraic_model_1 = AlgModelFinder(model_id='lasso', alpha=0.5, fit_intercept=True)\n",
    "algebraic_model_1.fit(dat_mat, scale_columns= True)\n",
    "\n",
    "\n",
    "algebraic_model_1.best_models(5)"
   ],
   "outputs": []
  },
  {
   "cell_type": "code",
   "execution_count": 79,
   "id": "4bac4073-8f93-4df0-9d0b-e10d9f52d73c",
   "metadata": {},
   "source": [
    "from dae_finder import AlgModelFinder\n",
    "\n",
    "\n",
    "\n",
    "\n",
    "\n",
    "from dae_finder import sequentialThLin, AlgModelFinder\n",
    "seq_th_model = sequentialThLin(fit_intercept=True, coef_threshold= 0.1)\n",
    "algebraic_model_th = AlgModelFinder(custom_model=True, custom_model_ob= seq_th_model)\n",
    "\n",
    "\n",
    "algebraic_model_th.fit(dat_mat, scale_columns= True)\n",
    "\n",
    "\n",
    "algebraic_model_th.best_models(5)"
   ],
   "outputs": []
  },
  {
   "cell_type": "code",
   "execution_count": 81,
   "id": "542a8094-cb85-4869-a572-06d4b9a29844",
   "metadata": {},
   "source": [
    "algebraic_model_th.fit(dat_mat, scale_columns= False)\n",
    "\n",
    "\n",
    "algebraic_model_th.best_models(5)"
   ],
   "outputs": []
  },
  {
   "cell_type": "code",
   "execution_count": 80,
   "id": "a7c61882-ce51-48a2-8a30-ff3a91e4f040",
   "metadata": {},
   "source": [
    "dat_mat.describe()"
   ],
   "outputs": []
  },
  {
   "cell_type": "code",
   "execution_count": null,
   "id": "ec6551c2-fcdb-438f-9f8a-a76f541f4a20",
   "metadata": {},
   "source": [],
   "outputs": []
  }
 ],
 "metadata": {
  "kernelspec": {
   "display_name": "Python 3 (ipykernel)",
   "language": "python",
   "name": "python3"
  },
  "language_info": {
   "codemirror_mode": {
    "name": "ipython",
    "version": 3
   },
   "file_extension": ".py",
   "mimetype": "text/x-python",
   "name": "python",
   "nbconvert_exporter": "python",
   "pygments_lexer": "ipython3",
   "version": "3.11.5"
  }
 },
 "nbformat": 4,
 "nbformat_minor": 5
}
