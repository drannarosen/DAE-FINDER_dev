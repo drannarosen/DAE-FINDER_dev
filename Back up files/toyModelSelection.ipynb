{
 "cells": [
  {
   "cell_type": "markdown",
   "metadata": {},
   "source": [
    "NB to define ground truth model and generate data for single substrate, single product ireversible enzyme-mediated reaction.  \n",
    "\n",
    "1) Define ODE system, solver"
   ]
  },
  {
   "cell_type": "code",
   "execution_count": 1,
   "metadata": {},
   "source": [
    "import numpy as np\n",
    "from scipy.integrate import odeint\n",
    "\n",
    "def toyEnzRHS(y, t, theta):\n",
    "    # Unpack states, params\n",
    "    S, E, ES, P = y\n",
    "    k, kr, kcat = theta\n",
    "\n",
    "    dydt = [kr*ES - k*E*S, \n",
    "            (kr + kcat)*ES - k*S*E,\n",
    "            k*E*S - (kr + kcat)*ES,\n",
    "            kcat*ES]\n",
    "    return dydt\n",
    "\n",
    "def solveToyEnz(y0, theta, solvedT, tsID):\n",
    "    sol = odeint(lambda y,t : toyEnzRHS(y, t, theta), y0, solvedT)\n",
    "    \n",
    "    paramID = \"\".join(str(theta).strip(\"()\").split())\n",
    "    np.savetxt('toyEnzData_' + paramID + '_' + tsID + '.txt', sol)\n",
    "    return sol"
   ],
   "outputs": []
  },
  {
   "cell_type": "markdown",
   "metadata": {},
   "source": [
    "2) Construct data for dense, evenly spaced sampling and plot\n",
    "3) Construct data for sparse sampling, evenly spaced\n",
    "4) Construct data for dense initial sampling, sparse final sampling\n",
    "5) Construct data for randomly selected timing of samples"
   ]
  },
  {
   "cell_type": "code",
   "execution_count": 11,
   "metadata": {},
   "source": [
    "import matplotlib.pyplot as plt\n",
    "\n",
    "k = 2 \n",
    "kr = 1\n",
    "kcat = 1\n",
    "\n",
    "theta_ = k, kr, kcat\n",
    "\n",
    "\n",
    "\n",
    "# 2)\n",
    "solT1 = np.linspace(0, 10, 101)\n",
    "sol1 = solveToyEnz((8,4,0,0), theta_, solT1, \"dense\")\n",
    "\n",
    "# 3)\n",
    "solT2 = np.linspace(0, 10, 21)\n",
    "sol2 = solveToyEnz((8,4,0,0), theta_, solT2, \"sparse\")\n",
    "\n",
    "# 4) \n",
    "solT3 = np.append(np.linspace(0, 1.5, 10), np.linspace(2, 10, 9))\n",
    "sol3 = solveToyEnz((8,4,0,0), theta_, solT3, \"sparseInit\")\n",
    "\n",
    "# 5)\n",
    "solT4 = np.insert(np.sort(np.random.uniform(0, 10, 20)), 0, 0., axis=0)\n",
    "sol4 = solveToyEnz((8,4,0,0), theta_, solT4, \"random\")\n",
    "\n",
    "\n",
    "def plotToyEnz(solT, sol):\n",
    "    plt.plot(solT, sol[:, 0], '-ob', label='S(t)', ms=3)\n",
    "    plt.plot(solT, sol[:, 1], '-og', label='E(t)', ms=3)\n",
    "    plt.plot(solT, sol[:, 2], '-or', label='ES(t)', ms=3)\n",
    "    plt.plot(solT, sol[:, 3], '-ok', label='P(t)', ms=3)\n",
    "    plt.legend(loc='best')\n",
    "    plt.xlabel('t')\n",
    "    plt.grid()\n",
    "    plt.show()\n",
    "    return\n",
    "\n",
    "plotToyEnz(solT1, sol1)\n",
    "plotToyEnz(solT2, sol2)\n",
    "plotToyEnz(solT3, sol3)\n",
    "plotToyEnz(solT4, sol4)"
   ],
   "outputs": []
  },
  {
   "cell_type": "code",
   "execution_count": 5,
   "metadata": {},
   "source": [
    "sol1.size"
   ],
   "outputs": []
  },
  {
   "cell_type": "markdown",
   "metadata": {},
   "source": [
    "Combinatorial library construction:"
   ]
  },
  {
   "cell_type": "code",
   "execution_count": 33,
   "metadata": {},
   "source": [
    "from itertools import combinations, chain, product\n",
    "import sympy as sp\n",
    "\n",
    "def powerset(symlst):\n",
    "    s = list(symlst)\n",
    "    return chain.from_iterable(combinations(s, r) for r in range(len(s)+1))\n",
    "\n",
    "def makeOrder(maxOrder, numsym):\n",
    "    return list(product(np.arange(maxOrder+1), repeat = numsym))\n",
    "\n",
    "def makeLibTerms(symlst, maxOrder):\n",
    "    ordlst = makeOrder(maxOrder, len(symlst))\n",
    "    return list(map(np.prod, [tuple(map(sp.Pow, symlst, i)) for i in ordlst]))\n",
    "\n",
    "makeLibTerms(sp.symbols('S, E, ES, P'), 3)"
   ],
   "outputs": []
  },
  {
   "cell_type": "code",
   "execution_count": null,
   "metadata": {},
   "source": [
    "model.score\n",
    "\n",
    "model.feature_names_in_"
   ],
   "outputs": []
  }
 ],
 "metadata": {
  "kernelspec": {
   "display_name": "Python 3 (ipykernel)",
   "language": "python",
   "name": "python3"
  },
  "language_info": {
   "codemirror_mode": {
    "name": "ipython",
    "version": 3
   },
   "file_extension": ".py",
   "mimetype": "text/x-python",
   "name": "python",
   "nbconvert_exporter": "python",
   "pygments_lexer": "ipython3",
   "version": "3.11.5"
  }
 },
 "nbformat": 4,
 "nbformat_minor": 4
}
