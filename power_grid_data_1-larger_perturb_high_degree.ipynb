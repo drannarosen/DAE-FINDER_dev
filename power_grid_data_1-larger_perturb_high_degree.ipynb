{
 "cells": [
  {
   "cell_type": "markdown",
   "id": "6f2b32ed-1efe-402f-963a-44a020baad17",
   "metadata": {},
   "source": [
    "# Powergrid library construction and zero gamma data"
   ]
  },
  {
   "cell_type": "markdown",
   "id": "eabf5e9f-06fd-4cbd-b993-9575b851952b",
   "metadata": {},
   "source": [
    "$\\Gamma = 0$,\n",
    "\n",
    "Perburbations = large"
   ]
  },
  {
   "cell_type": "code",
   "execution_count": 1,
   "id": "2f352add-6385-4885-8a9e-6d29c23137db",
   "metadata": {
    "ExecuteTime": {
     "end_time": "2024-05-30T22:31:49.014891Z",
     "start_time": "2024-05-30T22:31:48.570618Z"
    }
   },
   "source": [
    "import numpy as np\n",
    "from scipy.integrate import odeint\n",
    "import pandas as pd\n",
    "import warnings\n",
    "pd.set_option('display.float_format', '{:0.8f}'.format)\n",
    "import operator\n",
    "\n",
    "import numpy as np\n",
    "import matplotlib.pyplot as plt\n",
    "from scipy.integrate import solve_ivp\n",
    "from scipy.sparse import coo_array"
   ],
   "outputs": []
  },
  {
   "cell_type": "markdown",
   "id": "c323906f-ab1b-4b2d-b62c-361ca68e2d03",
   "metadata": {},
   "source": [
    "## Loading data"
   ]
  },
  {
   "cell_type": "markdown",
   "id": "847b22f7-17a1-4454-a69e-a95bbea6ff12",
   "metadata": {},
   "source": [
    "#### Reading gamma values "
   ]
  },
  {
   "cell_type": "code",
   "execution_count": 2,
   "id": "1153bb86-8ebf-479c-ab3a-58398f3c2ef4",
   "metadata": {
    "ExecuteTime": {
     "end_time": "2024-05-30T22:31:49.153647Z",
     "start_time": "2024-05-30T22:31:49.150654Z"
    }
   },
   "source": [
    "gamma_df = pd.read_csv(\"powergrid/Datasets/case_4bus2gen_largeperturb/case_4bus2gen_gamma.csv\")"
   ],
   "outputs": []
  },
  {
   "cell_type": "code",
   "execution_count": 3,
   "id": "f6bed91a-b2e6-4e90-9699-e7f77e79fb40",
   "metadata": {
    "ExecuteTime": {
     "end_time": "2024-05-30T22:31:49.420792Z",
     "start_time": "2024-05-30T22:31:49.415082Z"
    }
   },
   "source": [
    "gamma_df"
   ],
   "outputs": []
  },
  {
   "cell_type": "markdown",
   "id": "f62191c6-5c17-486d-8149-c2ed8654e496",
   "metadata": {},
   "source": [
    "#### Reading time series data and skipping rows to sub sample"
   ]
  },
  {
   "cell_type": "code",
   "execution_count": 4,
   "id": "b8487dae-1a17-434e-ab45-ef303c05a65f",
   "metadata": {
    "ExecuteTime": {
     "end_time": "2024-05-30T22:31:49.949669Z",
     "start_time": "2024-05-30T22:31:49.649154Z"
    }
   },
   "source": [
    "data_matrix_df_orig = pd.read_csv(\"powergrid/Datasets/case_4bus2gen_largeperturb/case_4bus2gen_timeseries.csv\")"
   ],
   "outputs": []
  },
  {
   "cell_type": "code",
   "execution_count": 46,
   "id": "0713be27-3217-4d8f-bb57-4bfd3a8042b1",
   "metadata": {
    "ExecuteTime": {
     "end_time": "2024-05-30T22:31:49.964639Z",
     "start_time": "2024-05-30T22:31:49.962899Z"
    }
   },
   "source": [
    "skip_n_rows_btw = 100\n",
    "rows_to_keep = np.arange(0, len(data_matrix_df_orig), skip_n_rows_btw)"
   ],
   "outputs": []
  },
  {
   "cell_type": "code",
   "execution_count": 47,
   "id": "3bcacf48-1eeb-410e-8a67-cd60ae98fbfb",
   "metadata": {
    "ExecuteTime": {
     "end_time": "2024-05-30T22:31:50.106640Z",
     "start_time": "2024-05-30T22:31:50.103761Z"
    }
   },
   "source": [
    "data_matrix_df = data_matrix_df_orig.iloc[rows_to_keep].reset_index(drop=True)"
   ],
   "outputs": []
  },
  {
   "cell_type": "code",
   "execution_count": 48,
   "id": "6588acda-56ef-4026-beb7-92a64f666f07",
   "metadata": {
    "ExecuteTime": {
     "end_time": "2024-05-30T22:31:50.447131Z",
     "start_time": "2024-05-30T22:31:50.444874Z"
    }
   },
   "source": [
    "new_column_names = [\"time\", \"Phi_0\", \"Phi_1\", \"Phi_2\", \"Phi_3\", \"Phi_4\", \"Phi_5\",\n",
    "                   \"om_0\", \"om_1\", \"P_0\", \"P_1\", \"P_2\", \"P_3\", \"P_4\", \"P_5\",\n",
    "                   \"Q_0\", \"Q_1\", \"Q_2\", \"Q_3\", \"Q_4\", \"Q_5\"]\n",
    "data_matrix_df.rename(columns=dict((zip(data_matrix_df.columns, new_column_names))),\n",
    "                     inplace=True)"
   ],
   "outputs": []
  },
  {
   "cell_type": "code",
   "execution_count": 49,
   "id": "8dee5015-72f4-4623-a550-3727f5fce24b",
   "metadata": {
    "ExecuteTime": {
     "end_time": "2024-05-30T22:31:50.887374Z",
     "start_time": "2024-05-30T22:31:50.882078Z"
    }
   },
   "source": [
    "data_matrix_df = data_matrix_df[[\"time\", \"Phi_0\", \"Phi_1\", \"Phi_2\", \"Phi_3\", \"Phi_4\", \"Phi_5\",\n",
    "                   \"om_0\", \"om_1\", \"P_0\", \"P_1\", \"P_2\", \"P_3\", \"P_4\", \"P_5\"]]\n",
    "\n",
    "data_matrix_df"
   ],
   "outputs": []
  },
  {
   "cell_type": "code",
   "execution_count": 50,
   "id": "327cb89d-1ae4-4210-bbb7-7c7ed98a99f1",
   "metadata": {
    "ExecuteTime": {
     "end_time": "2024-05-30T22:31:51.354042Z",
     "start_time": "2024-05-30T22:31:51.351782Z"
    }
   },
   "source": [
    "data_matrix_df.columns"
   ],
   "outputs": []
  },
  {
   "cell_type": "markdown",
   "id": "c606f395-3002-4f8b-b44c-ba99519c07da",
   "metadata": {},
   "source": [
    "#### Loading admittance matrix, Y"
   ]
  },
  {
   "cell_type": "code",
   "execution_count": 51,
   "id": "ec506723-7da2-46ee-86ee-203e439e6fc7",
   "metadata": {
    "ExecuteTime": {
     "end_time": "2024-05-30T22:31:51.471174Z",
     "start_time": "2024-05-30T22:31:51.467172Z"
    }
   },
   "source": [
    "admittance_Y_df = pd.read_csv(\"powergrid/Datasets/case_4bus2gen_largeperturb/case_4bus2gen_Y.csv\")\n",
    "for column in admittance_Y_df.columns:\n",
    "    admittance_Y_df[column] = admittance_Y_df[column].apply(lambda x: x.replace('i', 'j'))"
   ],
   "outputs": []
  },
  {
   "cell_type": "code",
   "execution_count": 52,
   "id": "cc827ee4-4571-4ede-903a-87ab46bb51f5",
   "metadata": {
    "ExecuteTime": {
     "end_time": "2024-05-30T22:31:51.777250Z",
     "start_time": "2024-05-30T22:31:51.773600Z"
    }
   },
   "source": [
    "admittance_Y_df"
   ],
   "outputs": []
  },
  {
   "cell_type": "markdown",
   "id": "12d5f012-c31e-4cf2-a518-a17bfbb34689",
   "metadata": {},
   "source": [
    "#### Loading static parameters"
   ]
  },
  {
   "cell_type": "code",
   "execution_count": 53,
   "id": "625b67d4-3372-48d3-b16e-204372fbd547",
   "metadata": {
    "ExecuteTime": {
     "end_time": "2024-05-30T22:31:55.658106Z",
     "start_time": "2024-05-30T22:31:55.655099Z"
    }
   },
   "source": [
    "static_param_df = pd.read_csv(\"powergrid/Datasets/case_4bus2gen_largeperturb/case_4bus2gen_staticparams.csv\")"
   ],
   "outputs": []
  },
  {
   "cell_type": "code",
   "execution_count": 54,
   "id": "08ecfcb6-d166-4fa9-97d1-27c3a69fb2ee",
   "metadata": {
    "ExecuteTime": {
     "end_time": "2024-05-30T22:31:55.937733Z",
     "start_time": "2024-05-30T22:31:55.934524Z"
    }
   },
   "source": [
    "static_param_df"
   ],
   "outputs": []
  },
  {
   "cell_type": "markdown",
   "id": "72c4ce9d-c681-44c6-b885-cf0a2542dd98",
   "metadata": {},
   "source": [
    "#### Loading coupling matrix, K"
   ]
  },
  {
   "cell_type": "code",
   "execution_count": 55,
   "id": "0c4032f8-283c-4a7a-bd52-d16f452b0145",
   "metadata": {
    "ExecuteTime": {
     "end_time": "2024-05-30T22:31:56.295085Z",
     "start_time": "2024-05-30T22:31:56.292230Z"
    }
   },
   "source": [
    "coupling_K_df = pd.read_csv(\"powergrid/Datasets/case_4bus2gen_largeperturb/case_4bus2gen_K.csv\")"
   ],
   "outputs": []
  },
  {
   "cell_type": "code",
   "execution_count": 56,
   "id": "be0d3b1f-6813-47f6-8355-bca337730974",
   "metadata": {
    "ExecuteTime": {
     "end_time": "2024-05-30T22:31:59.092352Z",
     "start_time": "2024-05-30T22:31:59.088198Z"
    }
   },
   "source": [
    "coupling_K_df_labeled = coupling_K_df.set_index(coupling_K_df.columns)\n",
    "coupling_K_df_labeled"
   ],
   "outputs": []
  },
  {
   "cell_type": "markdown",
   "id": "babb38d5-94cd-447b-a64a-5ef4119ee20e",
   "metadata": {},
   "source": [
    "## Forming candidate library for powersystems"
   ]
  },
  {
   "cell_type": "code",
   "execution_count": 57,
   "id": "70022649-a469-45e9-8f7b-ce591f99df9d",
   "metadata": {
    "ExecuteTime": {
     "end_time": "2024-05-30T22:31:59.815472Z",
     "start_time": "2024-05-30T22:31:59.812024Z"
    }
   },
   "source": [
    "gamma_df"
   ],
   "outputs": []
  },
  {
   "cell_type": "code",
   "execution_count": 58,
   "id": "b59a4e39-9793-4229-9f0a-e8df90f21a6b",
   "metadata": {
    "ExecuteTime": {
     "end_time": "2024-05-30T22:32:00.086926Z",
     "start_time": "2024-05-30T22:32:00.084304Z"
    }
   },
   "source": [
    "gamma_matrix = gamma_df.to_numpy()\n",
    "admittance_Y_matrix = admittance_Y_df.to_numpy()\n",
    "\n",
    "gamma_matrix"
   ],
   "outputs": []
  },
  {
   "cell_type": "code",
   "execution_count": 59,
   "id": "0cb182e2-72e3-4220-bcab-088b1788f957",
   "metadata": {
    "ExecuteTime": {
     "end_time": "2024-05-30T22:32:00.279271Z",
     "start_time": "2024-05-30T22:32:00.274523Z"
    }
   },
   "source": [
    "coupling_matrix_init = np.ones(admittance_Y_matrix.shape)\n",
    "# coupling_matrix_init = np.zeros(admittance_Y_matrix.shape)\n",
    "# coupling_matrix_init[3,:] = 1\n",
    "\n",
    "coupling_matrix_init = np.triu(coupling_matrix_init, 0)\n",
    "coupling_matrix_init\n",
    "sparse_coupling_matrix_init = coo_array(coupling_matrix_init)\n",
    "sparse_coupling_matrix_init.toarray()"
   ],
   "outputs": []
  },
  {
   "cell_type": "markdown",
   "id": "7c956671-f542-4dd5-b845-efc51d3275c0",
   "metadata": {},
   "source": [
    "### Defining the sin interaction terms "
   ]
  },
  {
   "cell_type": "code",
   "execution_count": 60,
   "id": "7780a30a-b490-497a-9f4e-6860e798ca29",
   "metadata": {
    "ExecuteTime": {
     "end_time": "2024-05-30T22:32:01.208284Z",
     "start_time": "2024-05-30T22:32:00.757260Z"
    }
   },
   "source": [
    "from dae_finder import FeatureCouplingTransformer\n",
    "\n",
    "def coup_fun(x,y,i,j,gam_matrix):\n",
    "    return np.sin(x-y- gam_matrix[i,j])\n",
    "\n",
    "def coup_namer(x,y,i,j,gam_matrix):\n",
    "    return \"sin( {}-{} -gamma_{},{} )\".format(x,y,i,j)\n",
    "    \n",
    "\n",
    "dummy_tr_sin_diff = FeatureCouplingTransformer(sparse_coupling_matrix_init,\n",
    "                                           coupling_func= coup_fun,\n",
    "                                           coupling_namer= coup_namer,\n",
    "                                           coupling_func_args={\"gam_matrix\":gamma_matrix},\n",
    "                                              return_df=True)"
   ],
   "outputs": []
  },
  {
   "cell_type": "code",
   "execution_count": 61,
   "id": "51edd95d-31b9-4266-92c3-9a6c69fcef53",
   "metadata": {
    "ExecuteTime": {
     "end_time": "2024-05-30T22:32:01.212445Z",
     "start_time": "2024-05-30T22:32:01.209289Z"
    }
   },
   "source": [
    "sin_diff_library = dummy_tr_sin_diff.fit_transform(data_matrix_df.drop([\"time\"], axis=1))\n",
    "cop_ind = dummy_tr_sin_diff.coupled_indices_list\n",
    "\n",
    "# cop_ind"
   ],
   "outputs": []
  },
  {
   "cell_type": "code",
   "execution_count": 62,
   "id": "9bc7be7b-d7b7-44aa-9535-52cee8374187",
   "metadata": {
    "ExecuteTime": {
     "end_time": "2024-05-30T22:32:01.234788Z",
     "start_time": "2024-05-30T22:32:01.228599Z"
    }
   },
   "source": [
    "sin_diff_library"
   ],
   "outputs": []
  },
  {
   "cell_type": "code",
   "execution_count": 63,
   "id": "8124e21d-d9c4-4ed4-8d3b-d3c3f0bb6041",
   "metadata": {
    "ExecuteTime": {
     "end_time": "2024-05-30T22:32:04.895746Z",
     "start_time": "2024-05-30T22:32:04.893135Z"
    }
   },
   "source": [
    "candidate_lib = pd.concat([data_matrix_df.drop(\"time\", axis=1), sin_diff_library], axis=1)"
   ],
   "outputs": []
  },
  {
   "cell_type": "code",
   "execution_count": 64,
   "id": "0c7e11f0-9702-4397-abac-4276c073b7a9",
   "metadata": {
    "ExecuteTime": {
     "end_time": "2024-05-30T22:32:05.128036Z",
     "start_time": "2024-05-30T22:32:05.122354Z"
    }
   },
   "source": [
    "candidate_lib"
   ],
   "outputs": []
  },
  {
   "cell_type": "markdown",
   "id": "e247c7faab479777",
   "metadata": {},
   "source": [
    "### Removing zero features"
   ]
  },
  {
   "cell_type": "code",
   "execution_count": 65,
   "id": "83a3c1c58c0abd78",
   "metadata": {
    "ExecuteTime": {
     "end_time": "2024-05-30T22:32:05.513681Z",
     "start_time": "2024-05-30T22:32:05.510436Z"
    }
   },
   "source": [
    "non_zero_column_series = (candidate_lib**2).sum() > 0.00001\n",
    "non_zero_column_series\n",
    "non_columns = [column for column in candidate_lib if non_zero_column_series[column]]\n",
    "\n",
    "candidate_lib = candidate_lib[non_columns]"
   ],
   "outputs": []
  },
  {
   "cell_type": "code",
   "execution_count": 66,
   "id": "0ce42641-02bb-43d7-90e8-23619955712e",
   "metadata": {},
   "source": [
    "candidate_lib"
   ],
   "outputs": []
  },
  {
   "cell_type": "markdown",
   "id": "bddf153f-996c-42c7-a822-7ffde1f3f231",
   "metadata": {},
   "source": [
    "## Smoothening data and finding derivatives using splines"
   ]
  },
  {
   "cell_type": "code",
   "execution_count": 67,
   "id": "20c13d25-6232-4434-b886-f1378b0b16c8",
   "metadata": {},
   "source": [
    "from dae_finder import add_noise_to_df\n",
    "\n",
    "noise_perc = 0\n",
    "data_matrix_df_list = [data_matrix_df]\n",
    "num_time_points = len(data_matrix_df)\n",
    "data_matrix_features = data_matrix_df_list[0].columns\n",
    "for ind, data_matrix_ in enumerate(data_matrix_df_list):\n",
    "    t_exact = data_matrix_[\"time\"]\n",
    "    noisy_data_df = add_noise_to_df(data_matrix_, noise_perc=noise_perc, random_seed=111)\n",
    "    noisy_data_df[\"time\"] = t_exact\n",
    "    data_matrix_df_list[ind] = noisy_data_df"
   ],
   "outputs": []
  },
  {
   "cell_type": "code",
   "execution_count": 68,
   "id": "10a97d10-4cd7-4474-9a71-083f865ec6d8",
   "metadata": {},
   "source": [
    "from dae_finder import smooth_data\n",
    "\n",
    "# Calling the smoothening function\n",
    "data_matrix_smooth_df_list = [smooth_data(data_matrix, domain_var=\"time\", derr_order=1, noise_perc=noise_perc) for\n",
    "                              data_matrix in data_matrix_df_list]\n",
    "\n",
    "if len(data_matrix_df_list) > 1:\n",
    "    data_matrix_df_smooth_appended = pd.concat(data_matrix_smooth_df_list, ignore_index=True)\n",
    "else:\n",
    "    data_matrix_df_smooth_appended = data_matrix_smooth_df_list[0]\n",
    "\n",
    "data_matrix_df_smooth = data_matrix_df_smooth_appended[data_matrix_features]\n",
    "# if \"time\" in data_matrix_df_smooth:\n",
    "#     data_matrix_df_smooth = data_matrix_df_smooth.drop(\"time\", axis=1)"
   ],
   "outputs": []
  },
  {
   "cell_type": "code",
   "execution_count": 69,
   "id": "fb057228-9a3f-4fed-9d96-038ddb56ca2a",
   "metadata": {},
   "source": [
    "data_matrix_df_smooth - data_matrix_df"
   ],
   "outputs": []
  },
  {
   "cell_type": "code",
   "execution_count": 70,
   "id": "fc59cff4-c1ae-41f3-978d-45cc699faa18",
   "metadata": {},
   "source": [
    "ind = 0\n",
    "feature_ = \"Phi_1\"\n",
    "\n",
    "plt.figure()\n",
    "# plt.plot(data_matrix_df_list[1][\"t\"], data_matrix_df_list[1][\"x\"], \"x\", t_eval_new, x_new,\n",
    "#         data_matrix_df[50:100][\"t\"], data_matrix_df[50:100][\"x\"], \"o\")\n",
    "\n",
    "plt.plot(data_matrix_df_list[ind][\"time\"], data_matrix_df_list[ind][feature_], \".\",\n",
    "         data_matrix_smooth_df_list[ind][\"time\"],\n",
    "         data_matrix_smooth_df_list[ind][feature_], \".\",\n",
    "         data_matrix_df[ind * num_time_points:(ind + 1) * num_time_points][\"time\"],\n",
    "         data_matrix_df[ind * num_time_points:(ind + 1) * num_time_points][feature_], \".\")\n",
    "plt.legend(['Noisy', 'Cubic Spline', 'True'])\n",
    "# plt.axis([-0.05, 6.33, -1.05, 1.05])\n",
    "plt.title('Cubic-spline interpolation of {} - Noise: {}%'.format(feature_, noise_perc))\n",
    "plt.show()"
   ],
   "outputs": []
  },
  {
   "cell_type": "markdown",
   "id": "b09cc8c4-b3c8-459c-944d-70f39c742e63",
   "metadata": {},
   "source": [
    "### Removing some of the outliers coming from sudden jump during perturbations\n"
   ]
  },
  {
   "cell_type": "code",
   "execution_count": 71,
   "id": "77051162-ae70-415b-a9de-6ad0dfcbe0a0",
   "metadata": {},
   "source": [
    "new_df = data_matrix_df_smooth_appended[abs(data_matrix_df_smooth_appended) <= 20]\n",
    "\n",
    "plt.plot(new_df[[\"time\"]], new_df[[\"d(Phi_0) /dt\"]], \".\",\n",
    "         new_df[[\"time\"]], new_df[[\"om_0\"]], \".\",\n",
    "         new_df[[\"time\"]], new_df[[\"d(om_0) /dt\"]], \".\")\n",
    "\n",
    "new_df.plot()"
   ],
   "outputs": []
  },
  {
   "cell_type": "markdown",
   "id": "d8e562e7-2a23-4d88-9ce2-eb417570d84a",
   "metadata": {},
   "source": [
    "## Finding Algebraic relationship"
   ]
  },
  {
   "cell_type": "markdown",
   "id": "1c2ff3e7-6c16-4cc0-aac2-a1c2ad8cab4e",
   "metadata": {},
   "source": [
    "### Using sympy to find factors of redundant feature and refine the library"
   ]
  },
  {
   "cell_type": "code",
   "execution_count": 72,
   "id": "74d45159-ccac-4259-a221-a2990bbef246",
   "metadata": {},
   "source": [
    "import sympy\n",
    "\n",
    "from dae_finder import get_refined_lib, remove_paranth_from_feat\n",
    "\n",
    "# Adding the state variables as scipy symbols\n",
    "feat_list = list(data_matrix_df.columns)\n",
    "feat_list_str = \", \".join(remove_paranth_from_feat(data_matrix_df.columns))\n",
    "exec(feat_list_str+ \"= sympy.symbols(\"+str(feat_list)+\")\")"
   ],
   "outputs": []
  },
  {
   "cell_type": "code",
   "execution_count": 73,
   "id": "5841262c-0506-4969-ac09-a4ec6f9d1ec2",
   "metadata": {},
   "source": [
    "refined_candid_lib = data_matrix_df_smooth_appended[['Phi_0', 'Phi_1', 'Phi_2', 'Phi_3', 'Phi_4', 'Phi_5', 'om_0',\n",
    "                                                     'om_1', 'P_0', 'P_1', 'P_2', 'P_3', 'P_4', 'P_5']]"
   ],
   "outputs": []
  },
  {
   "cell_type": "code",
   "execution_count": 74,
   "id": "e05a66ab-fcf6-484b-89b2-8c56cd5f9796",
   "metadata": {},
   "source": [
    "from sklearn.preprocessing import StandardScaler\n",
    "\n",
    "s_scaler = StandardScaler(with_std=True, with_mean=False)\n",
    "scaled_refined_lib = pd.DataFrame(s_scaler.fit_transform(refined_candid_lib), columns=s_scaler.feature_names_in_)\n",
    "scaled_cand_lib = pd.DataFrame(s_scaler.fit_transform(candidate_lib), columns=s_scaler.feature_names_in_)"
   ],
   "outputs": []
  },
  {
   "cell_type": "markdown",
   "id": "ebb7f087-1d0e-469f-8721-bdd8c2855bbb",
   "metadata": {},
   "source": [
    "# Using Lasso"
   ]
  },
  {
   "cell_type": "markdown",
   "id": "7f222300-aebe-4a68-8140-6a86b8453fce",
   "metadata": {},
   "source": [
    "## Finding the conservation laws"
   ]
  },
  {
   "cell_type": "code",
   "execution_count": 75,
   "id": "f941add7-f0db-4c35-87e1-e5191e1be874",
   "metadata": {},
   "source": [
    "from dae_finder import sequentialThLin, AlgModelFinder\n",
    "algebraic_model_lasso = AlgModelFinder(model_id='lasso',\n",
    "                                       alpha=0.3,\n",
    "                                       fit_intercept=True)"
   ],
   "outputs": []
  },
  {
   "cell_type": "code",
   "execution_count": 76,
   "id": "7b2d0868-9f24-42c5-a8f2-b2d538e2725d",
   "metadata": {},
   "source": [
    "features_to_fit_ = [\"Phi_0\", \"Phi_1\", \"Phi_2\", \"Phi_3\", \"Phi_4\", \"Phi_5\",\n",
    "                    \"P_0\", \"P_1\", \"P_2\", \"P_3\", \"P_4\", \"P_5\"]\n",
    "# features_to_fit_ = [\"P_0\", \"P_1\", \"P_2\", \"P_3\", \"P_4\", \"P_5\"]\n",
    "num_nodes = 6\n",
    "power_features = [\"P_{}\".format(ind) for ind in range(num_nodes)]\n",
    "# Mapping each power feature to possible expressions in the algebraic relationship\n",
    "feature_to_libr_map = {power_feat: candidate_lib.columns.drop(power_features) for power_feat in power_features}\n",
    "\n",
    "algebraic_model_lasso.fit(candidate_lib, scale_columns=True,\n",
    "                          features_to_fit=features_to_fit_,\n",
    "                          feature_to_library_map=feature_to_libr_map)"
   ],
   "outputs": []
  },
  {
   "cell_type": "code",
   "execution_count": 77,
   "id": "fe401449-ec66-47ad-91a7-c5ab33eb4db5",
   "metadata": {
    "scrolled": true
   },
   "source": [
    "algebraic_model_lasso.best_models()"
   ],
   "outputs": []
  },
  {
   "cell_type": "code",
   "execution_count": 98,
   "id": "485e42a2-7009-4d86-9802-103f3ba7d4ea",
   "metadata": {},
   "source": [
    "any(data_matrix_df.duplicated(subset=['time']))"
   ],
   "outputs": []
  },
  {
   "cell_type": "code",
   "execution_count": 97,
   "id": "7f892624-20a0-4f24-9bd1-866571e123c6",
   "metadata": {},
   "source": [
    "data_matrix_df[['P_0', 'P_1', 'P_2', 'P_3', 'P_4', 'P_5']].sum(axis=1).plot()"
   ],
   "outputs": []
  },
  {
   "cell_type": "code",
   "execution_count": 99,
   "id": "db0d4e37-96c7-4b97-ad7b-fdbb9e5b86cd",
   "metadata": {},
   "source": [
    "feat = \"P_5\"\n",
    "algebraic_model_lasso.best_models()[feat][abs(algebraic_model_lasso.best_models()[feat])>0.1]"
   ],
   "outputs": []
  },
  {
   "cell_type": "markdown",
   "id": "85cc124d-9115-4115-9699-8c047dac4266",
   "metadata": {},
   "source": [
    "## Finding the dynamic equation for generators"
   ]
  },
  {
   "cell_type": "markdown",
   "id": "b07fa0db-7694-42a0-b7b4-7c514fbc9f92",
   "metadata": {},
   "source": [
    "### Refined candidate library is able to find the model "
   ]
  },
  {
   "cell_type": "code",
   "execution_count": 64,
   "id": "bb3eefce-bbd6-45b6-aa71-b539c9c96e60",
   "metadata": {},
   "source": [
    "from sklearn.linear_model import Lasso\n",
    "\n",
    "alg_lasso = Lasso(fit_intercept=True, alpha=0.3)\n",
    "alg_lasso.fit(X=scaled_refined_lib, y=data_matrix_df_smooth_appended['d(om_0) /dt'])\n",
    "alg_lasso.score(X=scaled_refined_lib, y=data_matrix_df_smooth_appended['d(om_0) /dt'])"
   ],
   "outputs": []
  },
  {
   "cell_type": "code",
   "execution_count": 66,
   "id": "24c78584-534b-4614-bdad-a6528728d714",
   "metadata": {},
   "source": [
    "coef_dict = dict(zip(alg_lasso.feature_names_in_, alg_lasso.coef_))\n",
    "coef_dict"
   ],
   "outputs": []
  },
  {
   "cell_type": "code",
   "execution_count": 67,
   "id": "d570e108-1195-4a03-b287-d289a1786b3d",
   "metadata": {},
   "source": [
    "seq_th_model.intercept_"
   ],
   "outputs": []
  },
  {
   "cell_type": "code",
   "execution_count": 68,
   "id": "2856a1e9-f785-4a29-8044-f7032e7d43d5",
   "metadata": {},
   "source": [
    "non_zero_feat = [feat for feat, coef in coef_dict.items() if abs(coef) > 0.01]\n",
    "non_zero_feat"
   ],
   "outputs": []
  },
  {
   "cell_type": "code",
   "execution_count": 69,
   "id": "ca7a7c1d-59e0-46d4-9687-05f09fd19446",
   "metadata": {},
   "source": [
    "from sklearn.linear_model import LinearRegression\n",
    "\n",
    "lin_model = LinearRegression(fit_intercept=True)\n",
    "lin_model.fit(X=scaled_refined_lib[non_zero_feat], y=data_matrix_df_smooth_appended['d(om_0) /dt'])\n",
    "lin_model.score(X=scaled_refined_lib[non_zero_feat], y=data_matrix_df_smooth_appended['d(om_0) /dt'])"
   ],
   "outputs": []
  },
  {
   "cell_type": "code",
   "execution_count": 70,
   "id": "45791577-6609-4d5e-91c5-8d0b00138955",
   "metadata": {},
   "source": [
    "dict(zip(lin_model.feature_names_in_, lin_model.coef_))"
   ],
   "outputs": []
  },
  {
   "cell_type": "markdown",
   "id": "6c64003d-9578-4363-ad6f-0b83fc0ae5bc",
   "metadata": {},
   "source": [
    "### Full candidate library is unable to find the model "
   ]
  },
  {
   "cell_type": "code",
   "execution_count": 42,
   "id": "6f2745d0-96bc-49ed-b9a0-15ce53b2627c",
   "metadata": {},
   "source": [
    "alg_lasso.fit(X=scaled_cand_lib, y=data_matrix_df_smooth_appended['d(om_0) /dt'])\n",
    "alg_lasso.score(X=scaled_cand_lib, y=data_matrix_df_smooth_appended['d(om_0) /dt'])"
   ],
   "outputs": []
  },
  {
   "cell_type": "code",
   "execution_count": 43,
   "id": "a64206e3-99b9-413c-a151-c009c65687f7",
   "metadata": {},
   "source": [
    "dict(zip(alg_lasso.feature_names_in_, alg_lasso.coef_))"
   ],
   "outputs": []
  },
  {
   "cell_type": "markdown",
   "id": "64ba6d03-0601-4f04-aaa4-00b4e07d4de8",
   "metadata": {},
   "source": [
    "# Using Sequential Thresholding"
   ]
  },
  {
   "cell_type": "markdown",
   "id": "b0d238f5-e0b9-47f3-ba94-fe1795f298d1",
   "metadata": {},
   "source": [
    "## Finding the conservation laws"
   ]
  },
  {
   "cell_type": "code",
   "execution_count": 44,
   "id": "ae9f8667-acc2-4c66-9b1d-3846be8388ec",
   "metadata": {},
   "source": [
    "from dae_finder import sequentialThLin, AlgModelFinder\n",
    "from sklearn.linear_model import LinearRegression\n",
    "\n",
    "# lin_reg_model = LinearRegression\n",
    "# lin_reg_model_arg = {\"fit_intercept\": True}\n",
    "# seq_th_model = sequentialThLin(custom_model=True,\n",
    "#                                custom_model_ob = lin_reg_model,\n",
    "#                                custom_model_arg= lin_reg_model_arg,\n",
    "#                               coef_threshold=0.1)\n",
    "seq_th_model = sequentialThLin(coef_threshold=0.1, fit_intercept=True)\n",
    "\n",
    "algebraic_model_th = AlgModelFinder(custom_model=True, custom_model_ob=seq_th_model)"
   ],
   "outputs": []
  },
  {
   "cell_type": "code",
   "execution_count": 45,
   "id": "ac9d9d25-a7e4-4a93-a17f-9fca0614422a",
   "metadata": {},
   "source": [
    "algebraic_model_th.fit(candidate_lib, scale_columns=True,\n",
    "                       features_to_fit=features_to_fit_,\n",
    "                       feature_to_library_map=feature_to_libr_map)\n"
   ],
   "outputs": []
  },
  {
   "cell_type": "code",
   "execution_count": 46,
   "id": "5391732c-2250-4fd7-9d75-b26aa9b1dd71",
   "metadata": {
    "scrolled": true
   },
   "source": [
    "#Best 10 models using R2 metrix\n",
    "algebraic_model_th.best_models()"
   ],
   "outputs": []
  },
  {
   "cell_type": "code",
   "execution_count": 47,
   "id": "404a887d-cca9-4187-844e-ef617106bc9c",
   "metadata": {},
   "source": [
    "algebraic_model_th.get_fitted_intercepts()"
   ],
   "outputs": []
  },
  {
   "cell_type": "code",
   "execution_count": 54,
   "id": "98b4e9fd-9285-4e1f-b4f6-81cb5ba30896",
   "metadata": {},
   "source": [
    "feat = \"P_3\"\n",
    "algebraic_model_th.best_models()[feat][abs(algebraic_model_th.best_models()[feat]) > 0.1]"
   ],
   "outputs": []
  },
  {
   "cell_type": "markdown",
   "id": "248424c8-83c5-457e-b240-b275c864dc96",
   "metadata": {},
   "source": [
    "## Finding the dynamic equation for generators"
   ]
  },
  {
   "cell_type": "markdown",
   "id": "d39963c1-2244-45d5-a4d3-c5f50411d8e2",
   "metadata": {},
   "source": [
    "### Refined candidate library is able to find the model "
   ]
  },
  {
   "cell_type": "code",
   "execution_count": 56,
   "id": "d341dcc2-e076-43d8-80eb-e3f51a4180f6",
   "metadata": {},
   "source": [
    "from dae_finder import sequentialThLin, AlgModelFinder\n",
    "from sklearn.linear_model import LinearRegression\n",
    "\n",
    "# lin_reg_model = LinearRegression\n",
    "# lin_reg_model_arg = {\"fit_intercept\": True}\n",
    "# seq_th_model = sequentialThLin(custom_model=True,\n",
    "#                                custom_model_ob = lin_reg_model,\n",
    "#                                custom_model_arg= lin_reg_model_arg,\n",
    "#                               coef_threshold=0.1)\n",
    "seq_th_model = sequentialThLin(model_id=\"lasso\", coef_threshold=0.1, fit_intercept=True)\n",
    "\n",
    "seq_th_model.fit(X=scaled_refined_lib, y=data_matrix_df_smooth_appended['d(om_0) /dt'])\n",
    "seq_th_model.score(X=scaled_refined_lib, y=data_matrix_df_smooth_appended['d(om_0) /dt'])"
   ],
   "outputs": []
  },
  {
   "cell_type": "code",
   "execution_count": 57,
   "id": "ac59dd46-63b3-48eb-aa00-8553712830fd",
   "metadata": {},
   "source": [
    "coef_dict = dict(zip(seq_th_model.feature_names_in_, seq_th_model.coef_))\n",
    "coef_dict"
   ],
   "outputs": []
  },
  {
   "cell_type": "code",
   "execution_count": 58,
   "id": "7c9b6bdc-2018-4077-a56e-318ec8fda9c4",
   "metadata": {},
   "source": [
    "seq_th_model.intercept_"
   ],
   "outputs": []
  },
  {
   "cell_type": "code",
   "execution_count": 59,
   "id": "70188141-823b-44fa-a86d-c75e5109540d",
   "metadata": {},
   "source": [
    "non_zero_feat = [feat for feat, coef in coef_dict.items() if abs(coef) > 0.01]\n",
    "non_zero_feat"
   ],
   "outputs": []
  },
  {
   "cell_type": "code",
   "execution_count": 60,
   "id": "b6d5f41e-f289-4b71-90e6-3d2d6b1ae567",
   "metadata": {},
   "source": [
    "from sklearn.linear_model import LinearRegression\n",
    "\n",
    "lin_model = LinearRegression(fit_intercept=True)\n",
    "lin_model.fit(X=scaled_refined_lib[non_zero_feat], y=data_matrix_df_smooth_appended['d(om_0) /dt'])\n",
    "lin_model.score(X=scaled_refined_lib[non_zero_feat], y=data_matrix_df_smooth_appended['d(om_0) /dt'])"
   ],
   "outputs": []
  },
  {
   "cell_type": "code",
   "execution_count": 61,
   "id": "136433ed-a179-4fb8-8f0e-52ec9c58ed44",
   "metadata": {},
   "source": [
    "dict(zip(lin_model.feature_names_in_, lin_model.coef_))"
   ],
   "outputs": []
  },
  {
   "cell_type": "markdown",
   "id": "e4cd398c-b7f4-4261-b2b5-693779ad92a7",
   "metadata": {},
   "source": [
    "### Full candidate library is unable to find the model "
   ]
  },
  {
   "cell_type": "code",
   "execution_count": 62,
   "id": "f42cff25-3602-4096-82a8-efece9553dd8",
   "metadata": {},
   "source": [
    "seq_th_model.fit(X=scaled_cand_lib, y=data_matrix_df_smooth_appended['d(om_0) /dt'])\n",
    "seq_th_model.score(X=scaled_cand_lib, y=data_matrix_df_smooth_appended['d(om_0) /dt'])"
   ],
   "outputs": []
  },
  {
   "cell_type": "code",
   "execution_count": 63,
   "id": "386b4e33-59ad-4800-a8b7-046d693bb451",
   "metadata": {},
   "source": [
    "dict(zip(seq_th_model.feature_names_in_, seq_th_model.coef_))"
   ],
   "outputs": []
  },
  {
   "cell_type": "code",
   "execution_count": null,
   "id": "3d85c36e-465c-4038-b8cd-dfec3e8a8d6b",
   "metadata": {},
   "source": [],
   "outputs": []
  }
 ],
 "metadata": {
  "kernelspec": {
   "display_name": "Python 3 (ipykernel)",
   "language": "python",
   "name": "python3"
  },
  "language_info": {
   "codemirror_mode": {
    "name": "ipython",
    "version": 3
   },
   "file_extension": ".py",
   "mimetype": "text/x-python",
   "name": "python",
   "nbconvert_exporter": "python",
   "pygments_lexer": "ipython3",
   "version": "3.12.3"
  }
 },
 "nbformat": 4,
 "nbformat_minor": 5
}
