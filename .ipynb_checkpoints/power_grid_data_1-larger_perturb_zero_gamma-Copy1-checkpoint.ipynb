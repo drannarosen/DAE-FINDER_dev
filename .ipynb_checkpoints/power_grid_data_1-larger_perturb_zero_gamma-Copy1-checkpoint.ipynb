{
 "cells": [
  {
   "cell_type": "markdown",
   "id": "6f2b32ed-1efe-402f-963a-44a020baad17",
   "metadata": {},
   "source": [
    "# Powergrid library construction and zero gamma data"
   ]
  },
  {
   "cell_type": "markdown",
   "id": "eabf5e9f-06fd-4cbd-b993-9575b851952b",
   "metadata": {},
   "source": [
    "$\\Gamma = 0$,\n",
    "\n",
    "Perburbations = large"
   ]
  },
  {
   "cell_type": "code",
   "execution_count": 1,
   "id": "2f352add-6385-4885-8a9e-6d29c23137db",
   "metadata": {},
   "outputs": [],
   "source": [
    "import numpy as np\n",
    "from scipy.integrate import odeint\n",
    "import pandas as pd\n",
    "import warnings\n",
    "pd.set_option('display.float_format', '{:0.8f}'.format)\n",
    "import operator\n",
    "\n",
    "import numpy as np\n",
    "import matplotlib.pyplot as plt\n",
    "from scipy.integrate import solve_ivp\n",
    "from scipy.sparse import coo_array"
   ]
  },
  {
   "cell_type": "markdown",
   "id": "c323906f-ab1b-4b2d-b62c-361ca68e2d03",
   "metadata": {},
   "source": [
    "## Loading data"
   ]
  },
  {
   "cell_type": "markdown",
   "id": "847b22f7-17a1-4454-a69e-a95bbea6ff12",
   "metadata": {},
   "source": [
    "#### Reading gamma values "
   ]
  },
  {
   "cell_type": "code",
   "execution_count": 4,
   "id": "1153bb86-8ebf-479c-ab3a-58398f3c2ef4",
   "metadata": {},
   "outputs": [],
   "source": [
    "gamma_df = pd.read_csv(\"powergrid/Datasets/case_4bus2gen_largeperturb/case_4bus2gen_gamma.csv\")"
   ]
  },
  {
   "cell_type": "code",
   "execution_count": 5,
   "id": "f6bed91a-b2e6-4e90-9699-e7f77e79fb40",
   "metadata": {},
   "outputs": [],
   "source": [
    "gamma_df"
   ]
  },
  {
   "cell_type": "markdown",
   "id": "f62191c6-5c17-486d-8149-c2ed8654e496",
   "metadata": {},
   "source": [
    "#### Reading time series data and skipping rows to sub sample"
   ]
  },
  {
   "cell_type": "code",
   "execution_count": 6,
   "id": "b8487dae-1a17-434e-ab45-ef303c05a65f",
   "metadata": {},
   "outputs": [],
   "source": [
    "data_matrix_df_orig = pd.read_csv(\"powergrid/Datasets/case_4bus2gen_largeperturb/case_4bus2gen_timeseries.csv\")"
   ]
  },
  {
   "cell_type": "code",
   "execution_count": 7,
   "id": "0713be27-3217-4d8f-bb57-4bfd3a8042b1",
   "metadata": {},
   "outputs": [],
   "source": [
    "skip_n_rows_btw = 100\n",
    "rows_to_keep = np.arange(0, len(data_matrix_df_orig), skip_n_rows_btw)"
   ]
  },
  {
   "cell_type": "code",
   "execution_count": 8,
   "id": "3bcacf48-1eeb-410e-8a67-cd60ae98fbfb",
   "metadata": {},
   "outputs": [],
   "source": [
    "data_matrix_df = data_matrix_df_orig.iloc[rows_to_keep].reset_index(drop=True)"
   ]
  },
  {
   "cell_type": "code",
   "execution_count": 9,
   "id": "6588acda-56ef-4026-beb7-92a64f666f07",
   "metadata": {},
   "outputs": [],
   "source": [
    "new_column_names = [\"time\", \"Phi_0\", \"Phi_1\", \"Phi_2\", \"Phi_3\", \"Phi_4\", \"Phi_5\",\n",
    "                   \"om_0\", \"om_1\", \"P_0\", \"P_1\", \"P_2\", \"P_3\", \"P_4\", \"P_5\",\n",
    "                   \"Q_0\", \"Q_1\", \"Q_2\", \"Q_3\", \"Q_4\", \"Q_5\"]\n",
    "data_matrix_df.rename(columns=dict((zip(data_matrix_df.columns, new_column_names))),\n",
    "                     inplace=True)"
   ]
  },
  {
   "cell_type": "code",
   "execution_count": 10,
   "id": "8dee5015-72f4-4623-a550-3727f5fce24b",
   "metadata": {},
   "outputs": [],
   "source": [
    "data_matrix_df = data_matrix_df[[\"time\", \"Phi_0\", \"Phi_1\", \"Phi_2\", \"Phi_3\", \"Phi_4\", \"Phi_5\",\n",
    "                   \"om_0\", \"om_1\", \"P_0\", \"P_1\", \"P_2\", \"P_3\", \"P_4\", \"P_5\"]]\n",
    "\n",
    "data_matrix_df"
   ]
  },
  {
   "cell_type": "code",
   "execution_count": 11,
   "id": "327cb89d-1ae4-4210-bbb7-7c7ed98a99f1",
   "metadata": {},
   "outputs": [],
   "source": [
    "data_matrix_df.columns"
   ]
  },
  {
   "cell_type": "markdown",
   "id": "c606f395-3002-4f8b-b44c-ba99519c07da",
   "metadata": {},
   "source": [
    "#### Loading admittance matrix, Y"
   ]
  },
  {
   "cell_type": "code",
   "execution_count": 12,
   "id": "ec506723-7da2-46ee-86ee-203e439e6fc7",
   "metadata": {},
   "outputs": [],
   "source": [
    "admittance_Y_df = pd.read_csv(\"powergrid/Datasets/case_4bus2gen_largeperturb/case_4bus2gen_Y.csv\")\n",
    "for column in admittance_Y_df.columns:\n",
    "    admittance_Y_df[column] = admittance_Y_df[column].apply(lambda x: x.replace('i', 'j'))"
   ]
  },
  {
   "cell_type": "code",
   "execution_count": 13,
   "id": "cc827ee4-4571-4ede-903a-87ab46bb51f5",
   "metadata": {},
   "outputs": [],
   "source": [
    "admittance_Y_df"
   ]
  },
  {
   "cell_type": "markdown",
   "id": "12d5f012-c31e-4cf2-a518-a17bfbb34689",
   "metadata": {},
   "source": [
    "#### Loading static parameters"
   ]
  },
  {
   "cell_type": "code",
   "execution_count": 14,
   "id": "625b67d4-3372-48d3-b16e-204372fbd547",
   "metadata": {},
   "outputs": [],
   "source": [
    "static_param_df = pd.read_csv(\"powergrid/Datasets/case_4bus2gen_largeperturb/case_4bus2gen_staticparams.csv\")"
   ]
  },
  {
   "cell_type": "code",
   "execution_count": 15,
   "id": "08ecfcb6-d166-4fa9-97d1-27c3a69fb2ee",
   "metadata": {},
   "outputs": [],
   "source": [
    "static_param_df"
   ]
  },
  {
   "cell_type": "markdown",
   "id": "72c4ce9d-c681-44c6-b885-cf0a2542dd98",
   "metadata": {},
   "source": [
    "#### Loading coupling matrix, K"
   ]
  },
  {
   "cell_type": "code",
   "execution_count": 16,
   "id": "0c4032f8-283c-4a7a-bd52-d16f452b0145",
   "metadata": {},
   "outputs": [],
   "source": [
    "coupling_K_df = pd.read_csv(\"powergrid/Datasets/case_4bus2gen_largeperturb/case_4bus2gen_K.csv\")"
   ]
  },
  {
   "cell_type": "code",
   "execution_count": 17,
   "id": "be0d3b1f-6813-47f6-8355-bca337730974",
   "metadata": {},
   "outputs": [],
   "source": [
    "coupling_K_df_labeled = coupling_K_df.set_index(coupling_K_df.columns)\n",
    "coupling_K_df_labeled"
   ]
  },
  {
   "cell_type": "markdown",
   "id": "babb38d5-94cd-447b-a64a-5ef4119ee20e",
   "metadata": {},
   "source": [
    "## Forming candidate library for powersystems"
   ]
  },
  {
   "cell_type": "code",
   "execution_count": 18,
   "id": "70022649-a469-45e9-8f7b-ce591f99df9d",
   "metadata": {},
   "outputs": [],
   "source": [
    "gamma_df"
   ]
  },
  {
   "cell_type": "code",
   "execution_count": 19,
   "id": "b59a4e39-9793-4229-9f0a-e8df90f21a6b",
   "metadata": {},
   "outputs": [],
   "source": [
    "gamma_matrix = gamma_df.to_numpy()\n",
    "admittance_Y_matrix = admittance_Y_df.to_numpy()\n",
    "\n",
    "gamma_matrix"
   ]
  },
  {
   "cell_type": "code",
   "execution_count": 20,
   "id": "0cb182e2-72e3-4220-bcab-088b1788f957",
   "metadata": {},
   "outputs": [],
   "source": [
    "coupling_matrix_init = np.ones(admittance_Y_matrix.shape)\n",
    "# coupling_matrix_init = np.zeros(admittance_Y_matrix.shape)\n",
    "# coupling_matrix_init[3,:] = 1\n",
    "\n",
    "coupling_matrix_init = np.triu(coupling_matrix_init, 0)\n",
    "coupling_matrix_init\n",
    "sparse_coupling_matrix_init = coo_array(coupling_matrix_init)\n",
    "sparse_coupling_matrix_init.toarray()"
   ]
  },
  {
   "cell_type": "markdown",
   "id": "7c956671-f542-4dd5-b845-efc51d3275c0",
   "metadata": {},
   "source": [
    "### Defining the sin interaction terms "
   ]
  },
  {
   "cell_type": "code",
   "execution_count": 21,
   "id": "7780a30a-b490-497a-9f4e-6860e798ca29",
   "metadata": {},
   "outputs": [],
   "source": [
    "from dae_finder import FeatureCouplingTransformer\n",
    "\n",
    "def coup_fun(x,y,i,j,gam_matrix):\n",
    "    return np.sin(x-y- gam_matrix[i,j])\n",
    "\n",
    "def coup_namer(x,y,i,j,gam_matrix):\n",
    "    return \"sin( {}-{} -gamma_{},{} )\".format(x,y,i,j)\n",
    "    \n",
    "\n",
    "dummy_tr_sin_diff = FeatureCouplingTransformer(sparse_coupling_matrix_init,\n",
    "                                           coupling_func= coup_fun,\n",
    "                                           coupling_namer= coup_namer,\n",
    "                                           coupling_func_args={\"gam_matrix\":gamma_matrix},\n",
    "                                              return_df=True)"
   ]
  },
  {
   "cell_type": "code",
   "execution_count": 22,
   "id": "51edd95d-31b9-4266-92c3-9a6c69fcef53",
   "metadata": {},
   "outputs": [],
   "source": [
    "sin_diff_library = dummy_tr_sin_diff.fit_transform(data_matrix_df.drop([\"time\"], axis=1))\n",
    "cop_ind = dummy_tr_sin_diff.coupled_indices_list\n",
    "\n",
    "# cop_ind"
   ]
  },
  {
   "cell_type": "code",
   "execution_count": 23,
   "id": "9bc7be7b-d7b7-44aa-9535-52cee8374187",
   "metadata": {},
   "outputs": [],
   "source": [
    "sin_diff_library"
   ]
  },
  {
   "cell_type": "code",
   "execution_count": 24,
   "id": "8124e21d-d9c4-4ed4-8d3b-d3c3f0bb6041",
   "metadata": {},
   "outputs": [],
   "source": [
    "candidate_lib = pd.concat([data_matrix_df.drop(\"time\", axis=1), sin_diff_library], axis=1)"
   ]
  },
  {
   "cell_type": "code",
   "execution_count": 25,
   "id": "0c7e11f0-9702-4397-abac-4276c073b7a9",
   "metadata": {},
   "outputs": [],
   "source": [
    "candidate_lib"
   ]
  },
  {
   "cell_type": "markdown",
   "id": "d8e562e7-2a23-4d88-9ce2-eb417570d84a",
   "metadata": {},
   "source": [
    "## Finding Algebraic relationship"
   ]
  },
  {
   "cell_type": "markdown",
   "id": "1c2ff3e7-6c16-4cc0-aac2-a1c2ad8cab4e",
   "metadata": {},
   "source": [
    "### Using sympy to find factors of redundant feature and refine the library"
   ]
  },
  {
   "cell_type": "code",
   "execution_count": 26,
   "id": "74d45159-ccac-4259-a221-a2990bbef246",
   "metadata": {},
   "outputs": [],
   "source": [
    "import sympy\n",
    "\n",
    "from dae_finder import get_refined_lib, remove_paranth_from_feat\n",
    "\n",
    "# Adding the state variables as scipy symbols\n",
    "feat_list = list(data_matrix_df.columns)\n",
    "feat_list_str = \", \".join(remove_paranth_from_feat(data_matrix_df.columns))\n",
    "exec(feat_list_str+ \"= sympy.symbols(\"+str(feat_list)+\")\")"
   ]
  },
  {
   "cell_type": "markdown",
   "id": "ebb7f087-1d0e-469f-8721-bdd8c2855bbb",
   "metadata": {},
   "source": [
    "# Using Lasso"
   ]
  },
  {
   "cell_type": "markdown",
   "id": "7f222300-aebe-4a68-8140-6a86b8453fce",
   "metadata": {},
   "source": [
    "## Finding the conservation laws"
   ]
  },
  {
   "cell_type": "code",
   "execution_count": 27,
   "id": "f941add7-f0db-4c35-87e1-e5191e1be874",
   "metadata": {},
   "outputs": [],
   "source": [
    "from dae_finder import sequentialThLin, AlgModelFinder\n",
    "algebraic_model_lasso = AlgModelFinder(model_id='lasso',\n",
    "                                       alpha=0.3,\n",
    "                                       fit_intercept=True)"
   ]
  },
  {
   "cell_type": "code",
   "execution_count": 28,
   "id": "ae4cc13f-e958-46e7-92d4-7adcef8b99d0",
   "metadata": {},
   "outputs": [],
   "source": [
    "algebraic_model_lasso.fit(candidate_lib, scale_columns= True,\n",
    "                          features_to_fit=[\"Phi_0\", \"Phi_1\", \"Phi_2\", \"Phi_3\", \"Phi_4\", \"Phi_5\",\n",
    "                                          \"P_0\", \"P_1\", \"P_2\", \"P_3\", \"P_4\", \"P_5\"])"
   ]
  },
  {
   "cell_type": "code",
   "execution_count": 29,
   "id": "fe401449-ec66-47ad-91a7-c5ab33eb4db5",
   "metadata": {
    "scrolled": true
   },
   "outputs": [],
   "source": [
    "algebraic_model_lasso.best_models()"
   ]
  },
  {
   "cell_type": "code",
   "execution_count": 62,
   "id": "0c19bff5-6e3e-41e4-9b10-3192840e16f6",
   "metadata": {},
   "outputs": [],
   "source": [
    "algebraic_model_lasso.best_models()[\"P_1\"][abs(algebraic_model_lasso.best_models()[\"P_1\"])>0.01]"
   ]
  },
  {
   "cell_type": "code",
   "execution_count": 36,
   "id": "db0d4e37-96c7-4b97-ad7b-fdbb9e5b86cd",
   "metadata": {},
   "outputs": [],
   "source": [
    "feat = \"P_5\"\n",
    "algebraic_model_lasso.best_models()[feat][abs(algebraic_model_lasso.best_models()[feat])>0.1]"
   ]
  },
  {
   "cell_type": "markdown",
   "id": "64ba6d03-0601-4f04-aaa4-00b4e07d4de8",
   "metadata": {},
   "source": [
    "# Using Sequential Thresholding"
   ]
  },
  {
   "cell_type": "code",
   "execution_count": 113,
   "id": "ae9f8667-acc2-4c66-9b1d-3846be8388ec",
   "metadata": {},
   "outputs": [],
   "source": [
    "from dae_finder import sequentialThLin, AlgModelFinder\n",
    "from sklearn.linear_model import LinearRegression\n",
    "lin_reg_model = LinearRegression\n",
    "lin_reg_model_arg = {\"fit_intercept\": False}\n",
    "seq_th_model = sequentialThLin(custom_model=True,\n",
    "                               custom_model_ob = lin_reg_model,\n",
    "                               custom_model_arg= lin_reg_model_arg,\n",
    "                              coef_threshold=0.5)\n",
    "# seq_th_model = sequentialThLin(coef_threshold=0.1, fit_intercept=True)\n",
    "\n",
    "algebraic_model_th = AlgModelFinder(custom_model=True, custom_model_ob= seq_th_model)"
   ]
  },
  {
   "cell_type": "code",
   "execution_count": 114,
   "id": "ac9d9d25-a7e4-4a93-a17f-9fca0614422a",
   "metadata": {},
   "outputs": [],
   "source": [
    "algebraic_model_th.fit(candidate_lib, scale_columns= False,\n",
    "                          features_to_fit=[\"Phi_0\", \"Phi_1\", \"Phi_2\", \"Phi_3\", \"Phi_4\", \"Phi_5\",\n",
    "                                          \"P_0\", \"P_1\", \"P_2\", \"P_3\", \"P_4\", \"P_5\"])"
   ]
  },
  {
   "cell_type": "code",
   "execution_count": 115,
   "id": "5391732c-2250-4fd7-9d75-b26aa9b1dd71",
   "metadata": {
    "scrolled": true
   },
   "outputs": [],
   "source": [
    "#Best 10 models using R2 metrix\n",
    "algebraic_model_th.best_models()"
   ]
  },
  {
   "cell_type": "code",
   "execution_count": 116,
   "id": "404a887d-cca9-4187-844e-ef617106bc9c",
   "metadata": {},
   "outputs": [],
   "source": [
    "algebraic_model_th.get_fitted_intercepts()"
   ]
  },
  {
   "cell_type": "code",
   "execution_count": 117,
   "id": "98b4e9fd-9285-4e1f-b4f6-81cb5ba30896",
   "metadata": {},
   "outputs": [],
   "source": [
    "feat = \"P_2\"\n",
    "algebraic_model_th.best_models()[feat][abs(algebraic_model_th.best_models()[feat])>0.1]"
   ]
  },
  {
   "cell_type": "code",
   "execution_count": null,
   "id": "7c9b6bdc-2018-4077-a56e-318ec8fda9c4",
   "metadata": {},
   "outputs": [],
   "source": []
  },
  {
   "cell_type": "code",
   "execution_count": null,
   "id": "b00729f1-19ff-40fe-bff4-662613b06ee0",
   "metadata": {},
   "outputs": [],
   "source": []
  },
  {
   "cell_type": "code",
   "execution_count": null,
   "id": "8ae24ceb-23fe-4d2a-b49a-f93d31b0ec49",
   "metadata": {},
   "outputs": [],
   "source": []
  },
  {
   "cell_type": "markdown",
   "id": "dd84ab92-0b1c-489f-a743-20f5ef9b0702",
   "metadata": {},
   "source": [
    "## Finding the conservation laws"
   ]
  },
  {
   "cell_type": "code",
   "execution_count": 27,
   "id": "9c5bdefb-e6b6-4db6-8e0e-b85cd973e1a2",
   "metadata": {},
   "outputs": [],
   "source": [
    "from dae_finder import sequentialThLin, AlgModelFinder\n",
    "algebraic_model_lasso = AlgModelFinder(model_id='lasso',\n",
    "                                       alpha=0.3,\n",
    "                                       fit_intercept=True)"
   ]
  },
  {
   "cell_type": "code",
   "execution_count": 28,
   "id": "47d78ebc-e5e6-4aef-8930-c16968a677a8",
   "metadata": {},
   "outputs": [],
   "source": [
    "algebraic_model_lasso.fit(candidate_lib, scale_columns= True,\n",
    "                          features_to_fit=[\"Phi_0\", \"Phi_1\", \"Phi_2\", \"Phi_3\", \"Phi_4\", \"Phi_5\",\n",
    "                                          \"P_0\", \"P_1\", \"P_2\", \"P_3\", \"P_4\", \"P_5\"])"
   ]
  },
  {
   "cell_type": "code",
   "execution_count": 29,
   "id": "2b6f712c-a161-489a-88dd-f15f22af23e3",
   "metadata": {
    "scrolled": true
   },
   "outputs": [],
   "source": [
    "algebraic_model_lasso.best_models()"
   ]
  },
  {
   "cell_type": "code",
   "execution_count": 30,
   "id": "5cad3bc4-d9e6-4d28-89a8-02ade7130fef",
   "metadata": {},
   "outputs": [],
   "source": [
    "algebraic_model_lasso.best_models()[\"P_1\"][abs(algebraic_model_lasso.best_models()[\"P_1\"])>0.01]"
   ]
  },
  {
   "cell_type": "code",
   "execution_count": 36,
   "id": "069fdce2-ffe4-4091-912f-6e08bf62cfe1",
   "metadata": {},
   "outputs": [],
   "source": [
    "feat = \"P_5\"\n",
    "algebraic_model_lasso.best_models()[feat][abs(algebraic_model_lasso.best_models()[feat])>0.1]"
   ]
  },
  {
   "cell_type": "code",
   "execution_count": null,
   "id": "439d23b0-9723-468a-a11f-e5d666d0b6c8",
   "metadata": {},
   "outputs": [],
   "source": []
  },
  {
   "cell_type": "code",
   "execution_count": null,
   "id": "c27bb129-18a4-4433-8efc-2640b6490e49",
   "metadata": {},
   "outputs": [],
   "source": []
  },
  {
   "cell_type": "code",
   "execution_count": null,
   "id": "8fa9a220-c3fe-41ca-99fd-61be3ca1774a",
   "metadata": {},
   "outputs": [],
   "source": []
  },
  {
   "cell_type": "code",
   "execution_count": null,
   "id": "cc110b04-3e10-464a-96d6-bbf219331aab",
   "metadata": {},
   "outputs": [],
   "source": []
  },
  {
   "cell_type": "code",
   "execution_count": null,
   "id": "76eb0433-a834-452a-a594-947a9678fc18",
   "metadata": {},
   "outputs": [],
   "source": []
  },
  {
   "cell_type": "code",
   "execution_count": 96,
   "id": "8c3c4c99-2a17-4020-96e9-536188eb2344",
   "metadata": {},
   "outputs": [],
   "source": [
    "from sklearn.linear_model import LinearRegression, Lasso, Ridge"
   ]
  },
  {
   "cell_type": "code",
   "execution_count": 97,
   "id": "0161b34b-a97e-4386-83c0-86858769a20d",
   "metadata": {},
   "outputs": [],
   "source": [
    "lin_model = LinearRegression()\n",
    "lass_model = Lasso(alpha=0.01)\n",
    "ridge_model = Ridge()"
   ]
  },
  {
   "cell_type": "code",
   "execution_count": 83,
   "id": "e52a5912-b96a-4eee-8e75-1f126837e3e8",
   "metadata": {},
   "outputs": [],
   "source": [
    "lin_model.fit(candidate_lib[['sin( Phi_3-Phi_0 -gamma_3,0 )', 'sin( Phi_3-Phi_1 -gamma_3,1 )',\n",
    "       'sin( Phi_3-Phi_2 -gamma_3,2 )', 'sin( Phi_3-Phi_3 -gamma_3,3 )',\n",
    "       'sin( Phi_3-Phi_4 -gamma_3,4 )', 'sin( Phi_3-Phi_5 -gamma_3,5 )']], candidate_lib[\"P_3\"])"
   ]
  },
  {
   "cell_type": "code",
   "execution_count": 98,
   "id": "38f42e43-d5ef-4992-aed2-e502aef42053",
   "metadata": {},
   "outputs": [],
   "source": [
    "lass_model.fit(candidate_lib[['sin( Phi_3-Phi_0 -gamma_3,0 )', 'sin( Phi_3-Phi_1 -gamma_3,1 )',\n",
    "       'sin( Phi_3-Phi_2 -gamma_3,2 )', 'sin( Phi_3-Phi_3 -gamma_3,3 )',\n",
    "       'sin( Phi_3-Phi_4 -gamma_3,4 )', 'sin( Phi_3-Phi_5 -gamma_3,5 )']], candidate_lib[\"P_3\"])\n",
    "\n",
    "ridge_model.fit(candidate_lib[['sin( Phi_3-Phi_0 -gamma_3,0 )', 'sin( Phi_3-Phi_1 -gamma_3,1 )',\n",
    "       'sin( Phi_3-Phi_2 -gamma_3,2 )', 'sin( Phi_3-Phi_3 -gamma_3,3 )',\n",
    "       'sin( Phi_3-Phi_4 -gamma_3,4 )', 'sin( Phi_3-Phi_5 -gamma_3,5 )']], candidate_lib[\"P_3\"])"
   ]
  },
  {
   "cell_type": "code",
   "execution_count": 84,
   "id": "978f8e36-d376-4ec4-ab82-070e41be57fd",
   "metadata": {},
   "outputs": [],
   "source": [
    "lin_model.coef_"
   ]
  },
  {
   "cell_type": "code",
   "execution_count": 93,
   "id": "448aeffb-6516-4270-b98f-e7407d93d1c1",
   "metadata": {},
   "outputs": [],
   "source": [
    "lass_model.coef_"
   ]
  },
  {
   "cell_type": "code",
   "execution_count": 99,
   "id": "8d659e9b-fc7e-4ca9-80ec-1f0adb2e0ae3",
   "metadata": {},
   "outputs": [],
   "source": [
    "ridge_model.coef_"
   ]
  },
  {
   "cell_type": "code",
   "execution_count": 100,
   "id": "e1a20778-4775-42e9-8d58-2404697407d1",
   "metadata": {},
   "outputs": [],
   "source": [
    "ridge_model.score(candidate_lib[['sin( Phi_3-Phi_0 -gamma_3,0 )', 'sin( Phi_3-Phi_1 -gamma_3,1 )',\n",
    "       'sin( Phi_3-Phi_2 -gamma_3,2 )', 'sin( Phi_3-Phi_3 -gamma_3,3 )',\n",
    "       'sin( Phi_3-Phi_4 -gamma_3,4 )', 'sin( Phi_3-Phi_5 -gamma_3,5 )']], candidate_lib[\"P_3\"])"
   ]
  },
  {
   "cell_type": "code",
   "execution_count": null,
   "id": "6568b8c3-5628-4065-a169-b74a1e670cdb",
   "metadata": {},
   "outputs": [],
   "source": []
  },
  {
   "cell_type": "code",
   "execution_count": null,
   "id": "995dad12-8a38-416f-9520-a6ffaa3ee616",
   "metadata": {},
   "outputs": [],
   "source": []
  },
  {
   "cell_type": "code",
   "execution_count": 94,
   "id": "77cffac1-86af-4a39-9b2a-91b4bbd8565b",
   "metadata": {},
   "outputs": [],
   "source": [
    "lass_model.score(candidate_lib[['sin( Phi_3-Phi_0 -gamma_3,0 )', 'sin( Phi_3-Phi_1 -gamma_3,1 )',\n",
    "       'sin( Phi_3-Phi_2 -gamma_3,2 )', 'sin( Phi_3-Phi_3 -gamma_3,3 )',\n",
    "       'sin( Phi_3-Phi_4 -gamma_3,4 )', 'sin( Phi_3-Phi_5 -gamma_3,5 )']], candidate_lib[\"P_3\"])"
   ]
  },
  {
   "cell_type": "code",
   "execution_count": null,
   "id": "cf64b4bf-d06c-4111-9eb0-0d33e6ff6d49",
   "metadata": {},
   "outputs": [],
   "source": []
  },
  {
   "cell_type": "code",
   "execution_count": null,
   "id": "d5e8c260-3dc6-456d-a36d-9114269061ed",
   "metadata": {},
   "outputs": [],
   "source": []
  },
  {
   "cell_type": "code",
   "execution_count": 85,
   "id": "0076d486-1576-477b-845d-e321256c5990",
   "metadata": {},
   "outputs": [],
   "source": [
    "lin_model.score(candidate_lib[['sin( Phi_3-Phi_0 -gamma_3,0 )', 'sin( Phi_3-Phi_1 -gamma_3,1 )',\n",
    "       'sin( Phi_3-Phi_2 -gamma_3,2 )', 'sin( Phi_3-Phi_3 -gamma_3,3 )',\n",
    "       'sin( Phi_3-Phi_4 -gamma_3,4 )', 'sin( Phi_3-Phi_5 -gamma_3,5 )']], candidate_lib[\"P_3\"])"
   ]
  },
  {
   "cell_type": "code",
   "execution_count": 80,
   "id": "3d998ce0-93f1-4b7a-98eb-06b626c7ef70",
   "metadata": {},
   "outputs": [],
   "source": [
    "candidate_lib.columns"
   ]
  },
  {
   "cell_type": "code",
   "execution_count": 82,
   "id": "01f48f7b-ce00-4572-ae27-9cb86e5f98dd",
   "metadata": {},
   "outputs": [],
   "source": [
    "candidate_lib[['sin( Phi_3-Phi_0 -gamma_3,0 )', 'sin( Phi_3-Phi_1 -gamma_3,1 )',\n",
    "       'sin( Phi_3-Phi_2 -gamma_3,2 )', 'sin( Phi_3-Phi_3 -gamma_3,3 )',\n",
    "       'sin( Phi_3-Phi_4 -gamma_3,4 )', 'sin( Phi_3-Phi_5 -gamma_3,5 )']]"
   ]
  },
  {
   "cell_type": "code",
   "execution_count": null,
   "id": "1ce05a8f-9e5c-4817-8b6c-21caa65619c3",
   "metadata": {},
   "outputs": [],
   "source": []
  },
  {
   "cell_type": "code",
   "execution_count": null,
   "id": "b1296428-e7c1-4167-b1a0-d15dc5b23c78",
   "metadata": {},
   "outputs": [],
   "source": []
  },
  {
   "cell_type": "code",
   "execution_count": null,
   "id": "b8c6802d-5d01-4165-acaa-e6d942ce7cb5",
   "metadata": {},
   "outputs": [],
   "source": []
  },
  {
   "cell_type": "markdown",
   "id": "d03a1456-91f8-403e-b795-d1cdb24eef6d",
   "metadata": {},
   "source": [
    "### Finding the remaining algebraic relationships"
   ]
  },
  {
   "cell_type": "code",
   "execution_count": 60,
   "id": "3c9a5342-6c99-4096-a3d4-f765eb58069e",
   "metadata": {},
   "outputs": [],
   "source": [
    "features_to_remove = {E}\n",
    "\n",
    "features_to_remove, refined_candid_lib = get_refined_lib(features_to_remove, data_matrix_df,\n",
    "                                                  candidate_lib_full, get_dropped_feat=True)\n",
    "\n",
    "algebraic_model_lasso = AlgModelFinder(model_id='lasso',\n",
    "                                       fit_intercept=False, alpha=0.2)\n",
    "algebraic_model_lasso.fit(refined_candid_lib, scale_columns= True)"
   ]
  },
  {
   "cell_type": "code",
   "execution_count": 218,
   "id": "08095581-03b2-4a01-8116-cd6ba6f35a0e",
   "metadata": {},
   "outputs": [],
   "source": [
    "admittance_Y_df"
   ]
  },
  {
   "cell_type": "code",
   "execution_count": 266,
   "id": "07dba226-e919-4b0d-bb3a-1384e5ae5e47",
   "metadata": {},
   "outputs": [],
   "source": [
    "gamma_matrix"
   ]
  },
  {
   "cell_type": "code",
   "execution_count": 84,
   "id": "737e9f3a-0098-4896-8116-d8b4713b64dd",
   "metadata": {},
   "outputs": [],
   "source": [
    "lin_model.coef_"
   ]
  },
  {
   "cell_type": "code",
   "execution_count": null,
   "id": "a7f6789f-e9c5-4642-ad6c-d5d47150dfa2",
   "metadata": {},
   "outputs": [],
   "source": []
  },
  {
   "cell_type": "code",
   "execution_count": null,
   "id": "61ff30fe-d54a-44e2-963c-d721fcbd96fc",
   "metadata": {},
   "outputs": [],
   "source": []
  },
  {
   "cell_type": "code",
   "execution_count": null,
   "id": "1e4053da-9e5c-4372-a037-46f841ccaeb2",
   "metadata": {},
   "outputs": [],
   "source": []
  },
  {
   "cell_type": "code",
   "execution_count": null,
   "id": "e5b9c030-4ac3-403d-89bf-cac72153d511",
   "metadata": {},
   "outputs": [],
   "source": []
  },
  {
   "cell_type": "code",
   "execution_count": null,
   "id": "3d2ddd39-8be2-4158-9297-e6b64ebabc67",
   "metadata": {},
   "outputs": [],
   "source": []
  },
  {
   "cell_type": "code",
   "execution_count": 102,
   "id": "0205f2d1-f662-4079-966d-2cb981fb5ad5",
   "metadata": {},
   "outputs": [],
   "source": [
    "candidate_lib[['sin( Phi_3-Phi_0 -gamma_3,0 )', 'sin( Phi_3-Phi_1 -gamma_3,1 )',\n",
    "       'sin( Phi_3-Phi_2 -gamma_3,2 )', 'sin( Phi_3-Phi_3 -gamma_3,3 )',\n",
    "       'sin( Phi_3-Phi_4 -gamma_3,4 )', 'sin( Phi_3-Phi_5 -gamma_3,5 )']].plot()"
   ]
  },
  {
   "cell_type": "code",
   "execution_count": null,
   "id": "2c523c2a-eead-4477-97a7-83f904f6843d",
   "metadata": {},
   "outputs": [],
   "source": []
  },
  {
   "cell_type": "code",
   "execution_count": 109,
   "id": "25a0bf8d-df51-40bf-aa27-e7e3a7318cd6",
   "metadata": {},
   "outputs": [],
   "source": [
    "data_matrix_df.drop([\"time\", \"P_0\",\"P_1\",\"P_2\",\"P_3\",\"P_4\",\"P_5\", \"om_0\", \"om_1\"], axis=1).plot()"
   ]
  },
  {
   "cell_type": "code",
   "execution_count": null,
   "id": "9101cef4-45ff-4278-bbc5-65371b698430",
   "metadata": {},
   "outputs": [],
   "source": []
  },
  {
   "cell_type": "code",
   "execution_count": 112,
   "id": "6dca5e25-9c8b-41c4-b298-9ee2a2c8a9fa",
   "metadata": {},
   "outputs": [],
   "source": [
    "data_matrix_df[[\"P_0\",\"P_1\",\"P_2\",\"P_3\",\"P_4\",\"P_5\"]].plot()"
   ]
  },
  {
   "cell_type": "code",
   "execution_count": null,
   "id": "0ecdfb47-f121-407d-90b5-29a87c47ac2d",
   "metadata": {},
   "outputs": [],
   "source": []
  },
  {
   "cell_type": "code",
   "execution_count": null,
   "id": "071c86f4-33ee-4fff-8944-49a20b702d5b",
   "metadata": {},
   "outputs": [],
   "source": []
  },
  {
   "cell_type": "code",
   "execution_count": null,
   "id": "d2bb6e51-79a8-4a2f-8b7e-f0d60d357c01",
   "metadata": {},
   "outputs": [],
   "source": []
  },
  {
   "cell_type": "code",
   "execution_count": null,
   "id": "333e93ed-49fb-44d4-a797-bcc65db84f37",
   "metadata": {},
   "outputs": [],
   "source": []
  },
  {
   "cell_type": "code",
   "execution_count": null,
   "id": "fb530c1b-c6fe-42a3-b1f8-86bf3b0cf522",
   "metadata": {},
   "outputs": [],
   "source": []
  },
  {
   "cell_type": "code",
   "execution_count": null,
   "id": "3a36c43d-76d0-4b2c-98a8-1af1185d3b7e",
   "metadata": {},
   "outputs": [],
   "source": []
  },
  {
   "cell_type": "code",
   "execution_count": null,
   "id": "b5445d61-af77-474b-8997-3cb37107d91b",
   "metadata": {},
   "outputs": [],
   "source": []
  },
  {
   "cell_type": "code",
   "execution_count": null,
   "id": "ab4769d0-0780-4a2e-8d54-96de1b39cee3",
   "metadata": {},
   "outputs": [],
   "source": []
  },
  {
   "cell_type": "code",
   "execution_count": 10,
   "id": "ca89addb-3128-4023-aa57-56654fa2f9c6",
   "metadata": {},
   "outputs": [],
   "source": [
    "from scipy import interpolate"
   ]
  },
  {
   "cell_type": "code",
   "execution_count": 11,
   "id": "37b58adc-431d-4414-9fc6-dd72f0ecbe7e",
   "metadata": {},
   "outputs": [],
   "source": [
    "#smoothing parameter: when equal weightage: num_data_points * std of data\n",
    "s_param = num_time_points * (0.01*noise_perc*data_matrix_df_list[1].std()[\"x\"])**2\n",
    "\n",
    "tck = interpolate.splrep(data_matrix_df_list[1][\"t\"], data_matrix_df_list[1][\"x\"], s=s_param)\n",
    "t_eval_new = np.linspace(t_span[0], t_span[1], 500)\n",
    "x_new = interpolate.splev(t_eval_new, tck, der=0)\n",
    "\n",
    "plt.figure()\n",
    "plt.plot(data_matrix_df_list[1][\"t\"], data_matrix_df_list[1][\"x\"], \"x\", t_eval_new, x_new,\n",
    "        data_matrix_df[50:100][\"t\"], data_matrix_df[50:100][\"x\"], \"o\")\n",
    "plt.legend(['Linear', 'Cubic Spline', 'True'])\n",
    "# plt.axis([-0.05, 6.33, -1.05, 1.05])\n",
    "plt.title('Cubic-spline interpolation')\n",
    "plt.show()"
   ]
  },
  {
   "cell_type": "code",
   "execution_count": 12,
   "id": "0cbaa92b-49d1-4c82-845e-50ef0396753e",
   "metadata": {},
   "outputs": [],
   "source": [
    "(3/4)*np.pi"
   ]
  },
  {
   "cell_type": "code",
   "execution_count": 13,
   "id": "cb578091-f24d-45ca-a666-4ffbff1d84f3",
   "metadata": {},
   "outputs": [],
   "source": [
    "data_matrix_df[[\"x\",\"y\"]].plot()"
   ]
  },
  {
   "cell_type": "markdown",
   "id": "386adc28-f9d5-4e0c-b678-6f6cc0b7be15",
   "metadata": {},
   "source": [
    "### Smoothing data and finding derivatives"
   ]
  },
  {
   "attachments": {
    "c77aa784-201b-4c9a-b1b3-32fd7b314f37.png": {
     "image/png": "[encoded data removed]"
    }
   },
   "cell_type": "markdown",
   "id": "4fc6e9e9-8968-48c8-94be-658040df22bf",
   "metadata": {},
   "source": [
    "![Screenshot 2024-03-19 at 6.16.04 PM.png](attachment:c77aa784-201b-4c9a-b1b3-32fd7b314f37.png)"
   ]
  },
  {
   "cell_type": "markdown",
   "id": "f0516a86-c43a-4951-a950-20a6241c0c60",
   "metadata": {},
   "source": [
    "from dae_finder import der_matrix_calculator\n",
    "\n",
    "from scipy import interpolate"
   ]
  },
  {
   "cell_type": "markdown",
   "id": "a204092d-b2ad-4c30-8b6d-53679cc85656",
   "metadata": {},
   "source": [
    "def der_label(feature, der=1):\n",
    "    if der==0:\n",
    "        return feature\n",
    "    elif der==1:\n",
    "        return \"d({}) /dt\".format(feature)\n",
    "    else:\n",
    "        return \"d^{}({}) /dt^{}\".format(der, feature, der)\n",
    "\n",
    "def smooth_data(data_matrix, domain_var = \"t\", s_param=None, noise_perc=0, derr_order = 1, eval_points = []):\n",
    "    assert domain_var in data_matrix, \"domain variable not found in the data matrix\"\n",
    "\n",
    "    data_t = data_matrix[domain_var]\n",
    "    num_time_points = len(data_matrix)\n",
    "    find_s_param = !s_param and s_param !=0\n",
    "\n",
    "    if len(eval_points)==0:\n",
    "        eval_points = np.linspace(data_t.iloc[0], data_t.iloc[-1], 10*num_time_points)\n",
    "    t_eval_new = eval_points\n",
    "               \n",
    "    data_matrix_ = data_matrix.drop(domain_var, axis=1)\n",
    "    data_matrix_std = data_matrix_.std()\n",
    "\n",
    "    data_matrix_smooth = pd.DataFrame(t_eval_new, columns=[domain_var])\n",
    "    for feature in data_matrix_:\n",
    "        if find_s_param:\n",
    "            #smoothing parameter: when equal weightage: num_data_points * std of data\n",
    "            s_param = num_time_points * (0.01*noise_perc*data_matrix_std[feature])**2\n",
    "        tck = interpolate.splrep(data_t, data_matrix_[feature], s=s_param)\n",
    "        for der_ind in range(derr_order+1):\n",
    "            smoothed_data = interpolate.splev(t_eval_new, tck, der=der_ind)\n",
    "            data_matrix_smooth[der_label(feature, der_ind)] = smoothed_data\n",
    "\n",
    "    return data_matrix_smooth\n",
    "    "
   ]
  },
  {
   "cell_type": "markdown",
   "id": "bf603129-05a9-4463-8adf-42ca57c90f59",
   "metadata": {},
   "source": [
    "\n",
    "\n",
    "t_eval_new = np.linspace(data_matrix_df_list[1][\"t\"].iloc[0], data_matrix_df_list[1][\"t\"].iloc[-1], num_smoothed_points)\n",
    "\n",
    "smooth_data(data_matrix_df_list[1],derr_order=1, eval_points=t_eval_new, noise_perc=noise_perc) - data_matrix_smooth_df_list[1]"
   ]
  },
  {
   "cell_type": "code",
   "execution_count": null,
   "id": "b08ad0fa-115b-4b39-92c6-358187d64d7c",
   "metadata": {},
   "outputs": [],
   "source": []
  },
  {
   "cell_type": "markdown",
   "id": "b3d67a63-657f-4602-83ee-21dd2b687f5a",
   "metadata": {},
   "source": [
    "delta_t = t_eval_[1]- t_eval_[0]\n",
    "data_matrix_features = data_matrix_df_list[0].columns\n",
    "num_smoothed_points = num_time_points*10\n",
    "data_matrix_smooth_df_list = []\n",
    "\n",
    "for ind, data_matrix in enumerate(data_matrix_df_list):\n",
    "    data_t = data_matrix[\"t\"]\n",
    "    num_time_points = len(data_matrix)\n",
    "    data_matrix_ = data_matrix.drop([\"t\"], axis=1)\n",
    "    data_matrix_std = data_matrix_.std()\n",
    "    # print(data_matrix_std)\n",
    "    t_eval_new = np.linspace(data_t.iloc[0], data_t.iloc[-1], num_smoothed_points)\n",
    "    data_matrix_smooth = pd.DataFrame(t_eval_new, columns=[\"t\"])\n",
    "    for feature in data_matrix_:\n",
    "        #smoothing parameter: when equal weightage: num_data_points * std of data\n",
    "        s_param = num_time_points * (0.01*noise_perc*data_matrix_std[feature])**2\n",
    "        # print(s_param)\n",
    "        # s_param = 0\n",
    "        \n",
    "        tck = interpolate.splrep(data_t, data_matrix_[feature], s=s_param)\n",
    "        smoothed_data = interpolate.splev(t_eval_new, tck, der=0)\n",
    "        smoothed_derr = interpolate.splev(t_eval_new, tck, der=1)\n",
    "        data_matrix_smooth[feature] = smoothed_data\n",
    "        data_matrix_smooth[\"d({}) /dt\".format(feature)] = smoothed_derr\n",
    "\n",
    "    data_matrix_smooth_df_list.append(data_matrix_smooth)\n",
    "\n",
    "    \n",
    "    # derr_matrix = der_matrix_calculator(data_matrix_, delta_t)\n",
    "    # data_matrix_df_list[ind] = pd.concat([data_matrix_.iloc[:-1], derr_matrix], axis=1)\n",
    "\n",
    "data_matrix_df_smooth_appended = pd.concat(data_matrix_smooth_df_list[:-1], ignore_index=True)"
   ]
  },
  {
   "cell_type": "code",
   "execution_count": 14,
   "id": "774b6c99-506f-4371-b688-ebb87dfe4205",
   "metadata": {},
   "outputs": [],
   "source": [
    "from dae_finder import smooth_data\n",
    "\n",
    "num_smoothed_points = num_time_points*10\n",
    "\n",
    "t_eval_new = np.linspace(data_matrix_df_list[0][\"t\"].iloc[0], data_matrix_df_list[0][\"t\"].iloc[-1], num_smoothed_points)\n",
    "\n",
    "#Calling the smoothening function\n",
    "data_matrix_smooth_df_list = [smooth_data(data_matrix,derr_order=1, noise_perc=noise_perc, eval_points=t_eval_new) for data_matrix in data_matrix_df_list]\n",
    "\n",
    "data_matrix_df_smooth_appended = pd.concat(data_matrix_smooth_df_list[:-1], ignore_index=True)"
   ]
  },
  {
   "cell_type": "code",
   "execution_count": null,
   "id": "c92bb674-b5cf-478e-a787-81d0b4520f11",
   "metadata": {},
   "outputs": [],
   "source": []
  },
  {
   "cell_type": "code",
   "execution_count": 15,
   "id": "1130b677-3079-4f26-b6ae-821866e20307",
   "metadata": {},
   "outputs": [],
   "source": [
    "ind = 1\n",
    "feature_ = \"y\"\n",
    "\n",
    "plt.figure()\n",
    "# plt.plot(data_matrix_df_list[1][\"t\"], data_matrix_df_list[1][\"x\"], \"x\", t_eval_new, x_new,\n",
    "#         data_matrix_df[50:100][\"t\"], data_matrix_df[50:100][\"x\"], \"o\")\n",
    "\n",
    "plt.plot(data_matrix_df_list[ind][\"t\"], data_matrix_df_list[ind][feature_], \"x\", data_matrix_smooth_df_list[ind][\"t\"],\n",
    "         data_matrix_smooth_df_list[ind][feature_],data_matrix_df[ind*num_time_points:(ind+1)*num_time_points][\"t\"], data_matrix_df[ind*num_time_points:(ind+1)*num_time_points][feature_], \"o\")\n",
    "plt.legend(['Noisy', 'Cubic Spline', 'True'])\n",
    "# plt.axis([-0.05, 6.33, -1.05, 1.05])\n",
    "plt.title('Cubic-spline interpolation of {} - Noise: {}%'.format(feature_, noise_perc))\n",
    "plt.show()"
   ]
  },
  {
   "cell_type": "code",
   "execution_count": 16,
   "id": "c924d8cb-183a-4655-8c72-39fc680afea9",
   "metadata": {},
   "outputs": [],
   "source": [
    "data_matrix_smooth_df_list[0][[\"d(x) /dt\"]].plot()"
   ]
  },
  {
   "cell_type": "code",
   "execution_count": 17,
   "id": "f081dd15-d33b-42f3-a6e1-b04d200b495f",
   "metadata": {},
   "outputs": [],
   "source": [
    "data_matrix_smooth_df_list[0][[\"d(x) /dt\"]].plot()"
   ]
  },
  {
   "cell_type": "code",
   "execution_count": null,
   "id": "c71ce1ce-c6b0-44b6-b71e-f150c72de03d",
   "metadata": {},
   "outputs": [],
   "source": []
  },
  {
   "cell_type": "markdown",
   "id": "919ee083-27cc-46a9-aa63-80012571171e",
   "metadata": {},
   "source": [
    "#Taking second derivatives\n",
    "delta_t = t_eval_[1]- t_eval_[0]\n",
    "data_matrix_features = data_matrix_df_list[0].columns\n",
    "for ind, data_matrix_ in enumerate(data_matrix_df_list):\n",
    "    derr_matrix = der_matrix_calculator(data_matrix_, delta_t)\n",
    "    data_matrix_df_list[ind] = pd.concat([data_matrix_.iloc[:-1], derr_matrix], axis=1)\n",
    "\n",
    "data_matrix_df_appended = pd.concat(data_matrix_df_list, ignore_index=True)\n",
    "data_matrix_df_appended"
   ]
  },
  {
   "cell_type": "code",
   "execution_count": 18,
   "id": "acfdcd4c-ef3f-46b0-90bf-cf1d8a5ea85b",
   "metadata": {},
   "outputs": [],
   "source": [
    "# data_matrix_df = data_matrix_df_appended[[\"x\",\"y\"]]\n",
    "# data_matrix_df = pd.concat([data_matrix_df, data_matrix_df_appended[[\"d(u) /dt\"]]], axis=1)\n",
    "data_matrix_df_smooth = data_matrix_df_smooth_appended[[\"x\",\"y\", \"d(x) /dt\", \"d(y) /dt\"]]\n",
    "data_matrix_df_smooth"
   ]
  },
  {
   "cell_type": "code",
   "execution_count": 19,
   "id": "4c78e05a-016f-4a64-ae02-94d942da230e",
   "metadata": {},
   "outputs": [],
   "source": [
    "from copy import deepcopy\n",
    "new_df = deepcopy(data_matrix_df_smooth)\n",
    "\n",
    "new_df[\"energy\"] = 0.5*((new_df[\"d(x) /dt\"])**2 + (new_df[\"d(y) /dt\"])**2) +  9.81*new_df[\"y\"]\n",
    "\n",
    "new_df.plot()"
   ]
  },
  {
   "cell_type": "markdown",
   "id": "083b7d72-e44a-4fb8-8fc4-4cf8b95cbaba",
   "metadata": {},
   "source": [
    "## Forming candiate library"
   ]
  },
  {
   "cell_type": "code",
   "execution_count": 20,
   "id": "2363240e-706e-499d-98d4-4fb5beceab82",
   "metadata": {},
   "outputs": [],
   "source": [
    "from sklearn.preprocessing import FunctionTransformer\n",
    "from copy import deepcopy\n",
    "\n",
    "def sin_transformer(period = 2*np.pi):\n",
    "    return FunctionTransformer(lambda x: np.sin(x / period * 2 * np.pi))\n",
    "\n",
    "\n",
    "def sin_diff_transformer(period = 2*np.pi):\n",
    "    return FunctionTransformer(lambda x,y: np.sin((x-y) / period * 2 * np.pi))\n",
    "\n",
    "def cos_transformer(period = 2*np.pi):\n",
    "    return FunctionTransformer(lambda x: np.cos(x / period * 2 * np.pi))\n",
    "\n",
    "\n",
    "def sin_shift_transformer(period = 2*np.pi):\n",
    "    return FunctionTransformer(lambda x,y: np.sin((x-y) / period * 2 * np.pi))\n",
    "\n",
    "data_matrix_df_with_trig = deepcopy(data_matrix_df)\n",
    "# data_matrix_df_with_trig[\"sin(theta)\"] = sin_transformer(1).fit_transform(data_matrix_df_with_trig)[\"theta\"]\n",
    "# data_matrix_df_with_trig[\"cos(theta)\"] = cos_transformer(1).fit_transform(data_matrix_df_with_trig)[\"theta\"]"
   ]
  },
  {
   "cell_type": "code",
   "execution_count": null,
   "id": "6aeef1e1-372c-4588-a5c8-0ad721db7a27",
   "metadata": {},
   "outputs": [],
   "source": []
  },
  {
   "cell_type": "code",
   "execution_count": 148,
   "id": "1911862f-07ac-44fa-aff2-6a9d041c5c4b",
   "metadata": {},
   "outputs": [],
   "source": [
    "from scipy.sparse import coo_array\n",
    "\n",
    "row  = np.array([0, 3, 1, 0, 0, 0])\n",
    "col  = np.array([0, 3, 1, 1, 2, 4])\n",
    "data = np.array([4, 5, 7, 9, 100, 101])\n",
    "# sp_array = coo_array((data, (row, col)), shape=(4, 4))\n",
    "sp_array = coo_array((data, (row, col)))\n"
   ]
  },
  {
   "cell_type": "code",
   "execution_count": 150,
   "id": "1f84dd78-113c-4850-92ab-808c6f688cd3",
   "metadata": {},
   "outputs": [],
   "source": []
  },
  {
   "cell_type": "code",
   "execution_count": null,
   "id": "73a433cb-2a03-4e89-b4a2-1146093db659",
   "metadata": {},
   "outputs": [],
   "source": []
  },
  {
   "cell_type": "code",
   "execution_count": null,
   "id": "7d08640e-852e-4773-82d4-e0c9b3b1340b",
   "metadata": {},
   "outputs": [],
   "source": []
  },
  {
   "cell_type": "code",
   "execution_count": null,
   "id": "518f35be-a691-441a-8612-b4304d7f99b2",
   "metadata": {},
   "outputs": [],
   "source": []
  },
  {
   "cell_type": "code",
   "execution_count": 22,
   "id": "06817ca3-eaff-4141-b7bb-752059ea00ae",
   "metadata": {},
   "outputs": [],
   "source": [
    "list(zip(sp_array.row, sp_array.col))"
   ]
  },
  {
   "cell_type": "code",
   "execution_count": 30,
   "id": "5f88e8f6-7cfd-4922-a29d-6d33303bae00",
   "metadata": {},
   "outputs": [],
   "source": [
    "from dae_finder import FeatureCouplingTransformer\n",
    "\n",
    "from scipy.sparse import coo_array\n",
    "\n",
    "row  = np.array([0, 0, 1, 1])\n",
    "col  = np.array([0, 2, 2, 1])\n",
    "data = np.array([4, 5, 7, 5])\n",
    "sp_array_2 = coo_array((data, (row, col)))\n"
   ]
  },
  {
   "cell_type": "code",
   "execution_count": 39,
   "id": "078f2c53-c652-4cfa-80e6-ebfdb075ec3d",
   "metadata": {},
   "outputs": [],
   "source": [
    "np.triu(np.ones((3,3)), 1)"
   ]
  },
  {
   "cell_type": "markdown",
   "id": "c5914045-a626-4b6f-be27-1ef48c029e8a",
   "metadata": {},
   "source": [
    "### Defining the sin interaction terms "
   ]
  },
  {
   "cell_type": "code",
   "execution_count": 26,
   "id": "0d868e46-d855-4a46-83c7-90a86fc4db25",
   "metadata": {},
   "outputs": [],
   "source": [
    "phi_matrix = np.array([[1,2,3],[4,5,6],[7,8,9]])\n",
    "\n",
    "def coup_fun(x,y,i,j,ph_matrix):\n",
    "    return np.sin(x-y- ph_matrix[i,j])\n",
    "\n",
    "def coup_namer(x,y,i,j,ph_matrix):\n",
    "    return \"sin( {}-{} -phi_{},{} )\".format(x,y,i,j)\n",
    "dummy_tr_sin_diff = FeatureCouplingTransformer(sp_array_2,\n",
    "                                           coupling_func= coup_fun,\n",
    "                                           coupling_namer= coup_namer,\n",
    "                                           coupling_func_args={\"ph_matrix\":phi_matrix},\n",
    "                                              return_df=True)"
   ]
  },
  {
   "cell_type": "code",
   "execution_count": 27,
   "id": "121adddc-240c-49b8-99f4-18207d6ba932",
   "metadata": {},
   "outputs": [],
   "source": [
    "new_data = dummy_tr_sin_diff.fit_transform(data_matrix_)\n",
    "cop_ind = dummy_tr_sin_diff.coupled_indices_list\n",
    "\n",
    "cop_ind"
   ]
  },
  {
   "cell_type": "code",
   "execution_count": null,
   "id": "98197188-8db1-400d-a727-cf528e765187",
   "metadata": {},
   "outputs": [],
   "source": []
  },
  {
   "cell_type": "code",
   "execution_count": 28,
   "id": "9315f269-2867-42ce-87f4-288032c13731",
   "metadata": {},
   "outputs": [],
   "source": [
    "# dummy_tr._check_n_features(data_matrix_, 0)\n",
    "# dummy_tr._check_feature_names(data_matrix_, reset = 0)"
   ]
  },
  {
   "cell_type": "code",
   "execution_count": 29,
   "id": "84bff3ca-e5f2-4b9b-8646-55bb3ba60728",
   "metadata": {},
   "outputs": [],
   "source": [
    "new_data"
   ]
  },
  {
   "cell_type": "code",
   "execution_count": 29,
   "id": "b6a9f99f-2578-4ea8-9a4c-4f525fd275f2",
   "metadata": {},
   "outputs": [],
   "source": [
    "new_data_diff = dummy_tr_diff.fit_transform(data_matrix_)\n",
    "cop_ind_diff = dummy_tr_diff.coupled_indices_list\n",
    "\n",
    "cop_ind"
   ]
  },
  {
   "cell_type": "code",
   "execution_count": 30,
   "id": "f02f3d90-8748-4ca4-a9f0-a290ef5bf624",
   "metadata": {},
   "outputs": [],
   "source": [
    "new_data_diff_minus_k = dummy_tr_diff_minus_k.fit_transform(data_matrix_)\n",
    "cop_ind_diff_minus_k = dummy_tr_diff_minus_k.coupled_indices_list\n",
    "\n",
    "cop_ind"
   ]
  },
  {
   "cell_type": "code",
   "execution_count": 31,
   "id": "0e9f6448-ff7a-4749-bac0-244364a8df91",
   "metadata": {},
   "outputs": [],
   "source": [
    "new_data = dummy_tr.fit_transform(data_matrix_)\n",
    "cop_ind = dummy_tr.coupled_indices_list\n",
    "\n",
    "cop_ind"
   ]
  },
  {
   "cell_type": "code",
   "execution_count": 32,
   "id": "fadaf209-84c9-49b9-a564-35eabdd548a8",
   "metadata": {},
   "outputs": [],
   "source": [
    "dummy_tr_diff.get_feature_names_out()"
   ]
  },
  {
   "cell_type": "code",
   "execution_count": 33,
   "id": "c4c058ec-dd29-4dce-af2f-2c1e8d24a7f4",
   "metadata": {},
   "outputs": [],
   "source": [
    "dummy_tr.get_feature_names_out()"
   ]
  },
  {
   "cell_type": "code",
   "execution_count": 45,
   "id": "6e319ed2-9d63-4266-97be-501e48243712",
   "metadata": {},
   "outputs": [],
   "source": [
    "dummy_tr_sin_diff.get_feature_names_out()"
   ]
  },
  {
   "cell_type": "code",
   "execution_count": null,
   "id": "2327e97e-5499-4d41-b3a0-568fcf3d2843",
   "metadata": {},
   "outputs": [],
   "source": []
  },
  {
   "cell_type": "code",
   "execution_count": null,
   "id": "5d056171-a7cc-4d8d-8097-e8d4f776facf",
   "metadata": {},
   "outputs": [],
   "source": []
  },
  {
   "cell_type": "code",
   "execution_count": 35,
   "id": "34a2e288-3c02-4df0-b839-099375d7ca1c",
   "metadata": {},
   "outputs": [],
   "source": [
    "def du_2(a,b=100,c=200):\n",
    "    print(a,b,c)\n",
    "    "
   ]
  },
  {
   "cell_type": "code",
   "execution_count": 36,
   "id": "702b3fcc-0fbc-40ba-9f91-59e5254b036a",
   "metadata": {},
   "outputs": [],
   "source": [
    "def du(a,**kwargs):\n",
    "    # print(a)\n",
    "    du_2(a, **kwargs)\n",
    "    "
   ]
  },
  {
   "cell_type": "code",
   "execution_count": 207,
   "id": "779d1fc9-7ad9-4da1-9b75-76c4266e3347",
   "metadata": {},
   "outputs": [],
   "source": [
    "du(2, b=33, c=44)"
   ]
  },
  {
   "cell_type": "code",
   "execution_count": 196,
   "id": "6f292514-090f-4bbb-b210-4d9510c2d5d1",
   "metadata": {},
   "outputs": [],
   "source": [
    "du(2, **{\"b\": 3, \"c\":4})"
   ]
  },
  {
   "cell_type": "code",
   "execution_count": 78,
   "id": "82554f24-1010-4caf-ac0a-d1257b1cd47a",
   "metadata": {},
   "outputs": [],
   "source": [
    "list(zip(dummy_tr.sparsity_matrix.row, dummy_tr.sparsity_matrix.col))"
   ]
  },
  {
   "cell_type": "code",
   "execution_count": 73,
   "id": "a7782df8-20c6-4b87-a5f5-a864fd4602d1",
   "metadata": {},
   "outputs": [],
   "source": [
    "sp_array_2.toarray()"
   ]
  },
  {
   "cell_type": "code",
   "execution_count": 110,
   "id": "be9ea99a-53ac-448a-a7ba-34ca7e315248",
   "metadata": {},
   "outputs": [],
   "source": [
    "x_out = np.zeros((dummy_tr.fit_transform(data_matrix_).shape[0], len(dummy_tr.coupled_indices_list)))\n",
    "x_out"
   ]
  },
  {
   "cell_type": "code",
   "execution_count": 258,
   "id": "9acb40f2-b41c-40bf-8b51-fdf467d03845",
   "metadata": {},
   "outputs": [],
   "source": [
    "new_data_diff_minus_k[:,3]"
   ]
  },
  {
   "cell_type": "code",
   "execution_count": 262,
   "id": "f97a61af-834c-4334-b505-2ad146011f14",
   "metadata": {},
   "outputs": [],
   "source": [
    "data_matrix_[\"t\"] - data_matrix_[\"y\"] - 2 - new_data_diff_minus_k[:,1]"
   ]
  },
  {
   "cell_type": "code",
   "execution_count": 35,
   "id": "29c45aa3-850d-4078-85c2-c375bfbf4257",
   "metadata": {},
   "outputs": [],
   "source": [
    "dummy_tr.get_feature_names_out()"
   ]
  },
  {
   "cell_type": "code",
   "execution_count": 36,
   "id": "bc4c25da-d77b-4506-8246-335d4958a17c",
   "metadata": {},
   "outputs": [],
   "source": [
    "dummy_tr.get_feature_names_out()"
   ]
  },
  {
   "cell_type": "code",
   "execution_count": null,
   "id": "3b955536-05a9-4cd0-b4f8-6ca28469aeea",
   "metadata": {},
   "outputs": [],
   "source": []
  },
  {
   "cell_type": "code",
   "execution_count": 109,
   "id": "955dc44e-23a9-4e8e-9c39-85b9412aeedc",
   "metadata": {},
   "outputs": [],
   "source": [
    "a= np.array([1,2,3])\n",
    "b = np.array([4,5,6])\n",
    "c = np.array([7,8,9])\n",
    "\n",
    "\n",
    "np.vstack((a,b,c)).transpose()"
   ]
  },
  {
   "cell_type": "code",
   "execution_count": 55,
   "id": "9e32e389-6fe0-41db-a57f-c5812016c9b6",
   "metadata": {},
   "outputs": [],
   "source": [
    "dummy_tr.fit(data_matrix_)\n",
    "dummy_tr.fit_transform(data_matrix_)"
   ]
  },
  {
   "cell_type": "code",
   "execution_count": 30,
   "id": "47bc5d2d-e6d7-44e4-a383-09e5b71e043b",
   "metadata": {},
   "outputs": [],
   "source": [
    "dummy_tr.fit_transform(data_matrix_)[:,0]"
   ]
  },
  {
   "cell_type": "code",
   "execution_count": 27,
   "id": "61750012-1c5d-47af-bda4-04cc89fc7fb3",
   "metadata": {},
   "outputs": [],
   "source": [
    "dummy_tr.get_feature_names_out()"
   ]
  },
  {
   "cell_type": "code",
   "execution_count": 28,
   "id": "a0e0352f-84cb-4a44-ba09-be1bbb0ec4bd",
   "metadata": {},
   "outputs": [],
   "source": [
    "sp_array.coords"
   ]
  },
  {
   "cell_type": "code",
   "execution_count": 29,
   "id": "c0998bd4-c0ff-433c-aaf8-5c4d8dcb419c",
   "metadata": {},
   "outputs": [],
   "source": [
    "sp_array.toarray()"
   ]
  },
  {
   "cell_type": "code",
   "execution_count": 34,
   "id": "7ae82e4f-43a1-46ac-b78c-35ec615fa59a",
   "metadata": {},
   "outputs": [],
   "source": [
    "sp_array.coords"
   ]
  },
  {
   "cell_type": "code",
   "execution_count": 39,
   "id": "46927a2f-b5d0-4d41-bf2d-a5e23d13c616",
   "metadata": {},
   "outputs": [],
   "source": [
    "for el1, el2 in zip(sp_array.row, sp_array.col):\n",
    "    print(el1, el2)"
   ]
  },
  {
   "cell_type": "code",
   "execution_count": 141,
   "id": "1c124045-cab9-4713-8503-cbea50302880",
   "metadata": {},
   "outputs": [],
   "source": [
    "coo_array(sp_array.toarray()).nnz"
   ]
  },
  {
   "cell_type": "code",
   "execution_count": 137,
   "id": "fbd4dac2-22e7-4b86-a452-ed9a73b8c68d",
   "metadata": {},
   "outputs": [],
   "source": [
    "sp_array.size"
   ]
  },
  {
   "cell_type": "code",
   "execution_count": 138,
   "id": "07446528-0310-4625-ab21-8eb7be25abdb",
   "metadata": {},
   "outputs": [],
   "source": [
    "sp_array.nnz"
   ]
  },
  {
   "cell_type": "code",
   "execution_count": 33,
   "id": "e4c09600-1a33-4a44-8648-6e52afb7f658",
   "metadata": {},
   "outputs": [],
   "source": [
    "np.triu(np.ones((4,4)))"
   ]
  },
  {
   "cell_type": "code",
   "execution_count": 41,
   "id": "08ac8022-28e6-4299-9d87-7df9a9a515c8",
   "metadata": {},
   "outputs": [],
   "source": [
    "data_matrix_"
   ]
  },
  {
   "cell_type": "code",
   "execution_count": 107,
   "id": "be5c2e38-d824-4451-986e-d2b8503097aa",
   "metadata": {},
   "outputs": [],
   "source": [
    "sp_array.ndim"
   ]
  },
  {
   "cell_type": "code",
   "execution_count": 115,
   "id": "be1adbcc-c8d0-45c0-abcc-dd17ebd416e6",
   "metadata": {},
   "outputs": [],
   "source": [
    "max(sp_array.col.max(), sp_array.row.max())"
   ]
  },
  {
   "cell_type": "code",
   "execution_count": 114,
   "id": "0e0fe14a-e646-416c-ad80-fe5a0d6f79e7",
   "metadata": {},
   "outputs": [],
   "source": [
    "sp_array.row.max()"
   ]
  },
  {
   "cell_type": "code",
   "execution_count": null,
   "id": "ec91490b-2470-4e6c-bc05-7c920f736aa0",
   "metadata": {},
   "outputs": [],
   "source": []
  },
  {
   "cell_type": "code",
   "execution_count": null,
   "id": "cad517b9-8886-4c2f-99a8-500c714cea00",
   "metadata": {},
   "outputs": [],
   "source": []
  },
  {
   "cell_type": "code",
   "execution_count": 23,
   "id": "a182e5cb-5be1-47dd-9c78-cff31e26fc1a",
   "metadata": {},
   "outputs": [],
   "source": [
    "sp_array.col"
   ]
  },
  {
   "cell_type": "code",
   "execution_count": 24,
   "id": "037d31a4-f461-44b9-ae2c-04e87fc4c3b2",
   "metadata": {},
   "outputs": [],
   "source": [
    "sp_array.toarray()[0]"
   ]
  },
  {
   "cell_type": "code",
   "execution_count": 26,
   "id": "8928c0fe-1d83-49ad-8269-09fd097653be",
   "metadata": {},
   "outputs": [],
   "source": [
    "new_sp = sp_array.tocsr()"
   ]
  },
  {
   "cell_type": "code",
   "execution_count": 148,
   "id": "2a2b77bd-0d86-4000-87db-b6295a808ea5",
   "metadata": {},
   "outputs": [],
   "source": [
    "new_sp.toarray()"
   ]
  },
  {
   "cell_type": "code",
   "execution_count": 152,
   "id": "ed823b0f-de21-4d92-b9e8-99828c8c285c",
   "metadata": {},
   "outputs": [],
   "source": [
    "col_sp = new_sp[[0]]\n",
    "col_sp.col"
   ]
  },
  {
   "cell_type": "code",
   "execution_count": 172,
   "id": "11d2aad0-2c8c-406e-9453-fe6e2a363d25",
   "metadata": {},
   "outputs": [],
   "source": [
    "#Getting rows corresponding to 1 and 2\n",
    "new_sp[[0, 1,2]]"
   ]
  },
  {
   "cell_type": "code",
   "execution_count": 165,
   "id": "e7ad2847-8224-4d5a-8f2c-dcccf9ba6649",
   "metadata": {},
   "outputs": [],
   "source": [
    "#Getting rows corresponding to 0 and 1\n",
    "new_sp[:, [0,1]]"
   ]
  },
  {
   "cell_type": "code",
   "execution_count": 173,
   "id": "2c06183d-7ca8-4f9b-bfc9-752842059e9a",
   "metadata": {},
   "outputs": [],
   "source": [
    "#Getting rows corresponding to 1 and 2\n",
    "new_sp[[0, 1,2]].toarray()"
   ]
  },
  {
   "cell_type": "code",
   "execution_count": 167,
   "id": "c0c22e27-c7ef-4605-b101-7ef7e7c20638",
   "metadata": {},
   "outputs": [],
   "source": [
    "#Getting rows corresponding to 0 and 1\n",
    "new_sp[:, [0,1]].toarray()"
   ]
  },
  {
   "cell_type": "code",
   "execution_count": 175,
   "id": "c4269b0a-1d52-4f92-a77a-7cbd249cd687",
   "metadata": {},
   "outputs": [],
   "source": [
    "#Getting rows corresponding to 1 and 2\n",
    "new_sp[[0, 1,2]].tocoo().row\n",
    "# new_sp[[1,2]].tocoo().col\n"
   ]
  },
  {
   "cell_type": "code",
   "execution_count": 177,
   "id": "61772d13-86fe-42cc-b5f4-8f70102b6bbe",
   "metadata": {},
   "outputs": [],
   "source": [
    "new_sp[[0, 1,2]].tocoo().col\n"
   ]
  },
  {
   "cell_type": "code",
   "execution_count": 167,
   "id": "c57c3301-3c41-498c-8566-4273086b2e6d",
   "metadata": {},
   "outputs": [],
   "source": [
    "#Getting rows corresponding to 0 and 1\n",
    "new_sp[:, [0,1]].toarray()"
   ]
  },
  {
   "cell_type": "code",
   "execution_count": null,
   "id": "47b14e85-b8a5-49f7-858d-231e1b555395",
   "metadata": {},
   "outputs": [],
   "source": []
  },
  {
   "cell_type": "code",
   "execution_count": null,
   "id": "0b4fa110-8a6c-4bc4-aab0-0bb9d5649d26",
   "metadata": {},
   "outputs": [],
   "source": []
  },
  {
   "cell_type": "code",
   "execution_count": null,
   "id": "0573e6d5-5e96-46a4-9b9a-fb05882c0ef4",
   "metadata": {},
   "outputs": [],
   "source": [
    "new_sp[[1,2]]"
   ]
  },
  {
   "cell_type": "code",
   "execution_count": 161,
   "id": "63a1f4cc-bc76-480e-9e63-cf276d146af6",
   "metadata": {},
   "outputs": [],
   "source": [
    "new_sp.getrow(1)"
   ]
  },
  {
   "cell_type": "code",
   "execution_count": 164,
   "id": "73c93b26-851b-4c9a-beeb-9bb4695c2271",
   "metadata": {},
   "outputs": [],
   "source": [
    "new_sp.getcol(1)"
   ]
  },
  {
   "cell_type": "code",
   "execution_count": null,
   "id": "6b4caa5c-2cdb-48ec-903f-5e0f0ac04f7b",
   "metadata": {},
   "outputs": [],
   "source": []
  },
  {
   "cell_type": "code",
   "execution_count": null,
   "id": "b37d15f3-3133-4e0a-980a-0c942e2394e6",
   "metadata": {},
   "outputs": [],
   "source": []
  },
  {
   "cell_type": "code",
   "execution_count": null,
   "id": "4cbe772f-d606-4ff0-9593-741f5174dfb7",
   "metadata": {},
   "outputs": [],
   "source": []
  },
  {
   "cell_type": "code",
   "execution_count": 48,
   "id": "71bc1732-cc38-4ffc-ad50-bcc70dad685b",
   "metadata": {},
   "outputs": [],
   "source": [
    "np.sin(data_matrix_df_with_trig) - sin_trans_obj.fit_transform(data_matrix_df_with_trig)"
   ]
  },
  {
   "cell_type": "code",
   "execution_count": null,
   "id": "84c5e67e-9eca-47c9-a414-79d8616c55a2",
   "metadata": {},
   "outputs": [],
   "source": []
  },
  {
   "cell_type": "code",
   "execution_count": null,
   "id": "5b248a66-d2de-4ed9-910c-12af05f40946",
   "metadata": {},
   "outputs": [],
   "source": []
  },
  {
   "cell_type": "code",
   "execution_count": null,
   "id": "51e29302-8188-466c-bdf3-b4a9da5a852e",
   "metadata": {},
   "outputs": [],
   "source": []
  },
  {
   "cell_type": "code",
   "execution_count": null,
   "id": "f1aabd9e-d071-488c-97f3-06ac49213e4d",
   "metadata": {},
   "outputs": [],
   "source": []
  },
  {
   "cell_type": "code",
   "execution_count": 47,
   "id": "a8ea43a1-abb2-407a-b593-0d2bc960c799",
   "metadata": {},
   "outputs": [],
   "source": [
    "sin_trans_obj = sin_transformer()\n",
    "sin_trans_obj.fit_transform(data_matrix_df_with_trig)"
   ]
  },
  {
   "cell_type": "code",
   "execution_count": 43,
   "id": "39ce585f-a9b4-4632-9dcd-a07293f019ff",
   "metadata": {},
   "outputs": [],
   "source": []
  },
  {
   "cell_type": "code",
   "execution_count": null,
   "id": "a58b590b-1ee9-47c0-8a62-50cd7af07e8d",
   "metadata": {},
   "outputs": [],
   "source": []
  },
  {
   "cell_type": "code",
   "execution_count": null,
   "id": "c70214cd-b4e1-41f9-8209-9dc8f8567e09",
   "metadata": {},
   "outputs": [],
   "source": []
  },
  {
   "cell_type": "code",
   "execution_count": 21,
   "id": "c667a96b-12c0-4bab-808a-5d7b7e884fbb",
   "metadata": {},
   "outputs": [],
   "source": [
    "from dae_finder import PolyFeatureMatrix\n",
    "\n",
    "poly_feature_ob = PolyFeatureMatrix(2)\n",
    "\n",
    "candidate_lib_full = poly_feature_ob.fit_transform(data_matrix_df_smooth)"
   ]
  },
  {
   "cell_type": "code",
   "execution_count": 22,
   "id": "4a11429f-1cc4-4c85-a27a-d10c6aa4e339",
   "metadata": {},
   "outputs": [],
   "source": [
    "candidate_lib_full = candidate_lib_full.drop([\"1\"], axis=1)\n",
    "candidate_lib_full"
   ]
  },
  {
   "cell_type": "markdown",
   "id": "e9b04b81-6990-4940-b0c6-a08228c9bd5d",
   "metadata": {},
   "source": [
    "candid_lib_comb = pd.concat([candidate_lib_full, data_matrix_df_with_trig[[\"cos(theta)\", \"sin(theta)\"]]], axis=1)\n",
    "candid_lib_comb"
   ]
  },
  {
   "cell_type": "markdown",
   "id": "1283b467-fa54-4a0f-adab-fbd8108b142e",
   "metadata": {},
   "source": [
    "### SVD analysis"
   ]
  },
  {
   "cell_type": "code",
   "execution_count": 23,
   "id": "aa17c052-a6be-47e3-aaec-51dc2bf35833",
   "metadata": {},
   "outputs": [],
   "source": [
    "from sklearn import decomposition\n",
    "pca_1 = decomposition.PCA()\n",
    "pca_1.fit(candidate_lib_full)\n",
    "\n",
    "# pca_2 = decomposition.PCA()\n",
    "# pca_2.fit(mean_candidate_lib)\n",
    "\n",
    "# pca_3 = decomposition.PCA()\n",
    "# pca_3.fit(selected_data_matrix_df)\n",
    "\n",
    "pca_2 = decomposition.PCA()\n",
    "pca_2.fit(candidate_lib_full.drop([\"x^2\", \"x d(x) /dt\"],axis=1))\n",
    "\n",
    "pca_3 = decomposition.PCA()\n",
    "pca_3.fit(candidate_lib_full.drop([\"x^2\", \"x d(x) /dt\", \"y\"],axis=1))\n",
    "\n",
    "\n",
    "# singular_values = pca_1.singular_values_\n",
    "# mean_singular_values = pca_2.singular_values_\n",
    "\n",
    "var_expl_ratio = pca_1.explained_variance_ratio_\n",
    "theta_dot_sq_rem_expl_ratio = pca_2.explained_variance_ratio_\n",
    "theta_dot_rem_expl_ratio = pca_3.explained_variance_ratio_\n",
    "# data_var_expl_ratio_E = pca_4.explained_variance_\n",
    "\n",
    "# var_expl_ratio_E_rem = pca_5.explained_variance_\n"
   ]
  },
  {
   "cell_type": "code",
   "execution_count": 24,
   "id": "e4d5314b-0ce0-4734-9143-c0a37e5467e9",
   "metadata": {},
   "outputs": [],
   "source": [
    "from matplotlib import pyplot as plt\n",
    "\n",
    "plt.scatter(np.arange(len(var_expl_ratio)),np.log(var_expl_ratio))\n",
    "plt.grid()\n",
    "# for x, y in zip(np.arange(len(candid_lib_sing_values)),np.log(candid_lib_sing_values)):\n",
    "#     plt.text(x,y,y)"
   ]
  },
  {
   "cell_type": "code",
   "execution_count": 25,
   "id": "2fcc41f2-42e3-4f21-bde5-7e1d2b754630",
   "metadata": {},
   "outputs": [],
   "source": [
    "from matplotlib import pyplot as plt\n",
    "\n",
    "plt.scatter(np.arange(len(theta_dot_sq_rem_expl_ratio)),np.log(theta_dot_sq_rem_expl_ratio))\n",
    "plt.grid()\n",
    "# for x, y in zip(np.arange(len(candid_lib_sing_values)),np.log(candid_lib_sing_values)):\n",
    "#     plt.text(x,y,y)"
   ]
  },
  {
   "cell_type": "code",
   "execution_count": 26,
   "id": "382d4f54-9e25-4477-b043-07a39575acc4",
   "metadata": {},
   "outputs": [],
   "source": [
    "from matplotlib import pyplot as plt\n",
    "\n",
    "plt.scatter(np.arange(len(theta_dot_rem_expl_ratio)),np.log(theta_dot_rem_expl_ratio))\n",
    "plt.grid()\n",
    "# for x, y in zip(np.arange(len(candid_lib_sing_values)),np.log(candid_lib_sing_values)):\n",
    "#     plt.text(x,y,y)"
   ]
  },
  {
   "cell_type": "markdown",
   "id": "c027ef7f-5809-4802-a7da-9003b5d0b876",
   "metadata": {},
   "source": [
    "### Finding the remaining algebraic relationships"
   ]
  },
  {
   "cell_type": "code",
   "execution_count": 27,
   "id": "a62fdc5a-728c-4b84-90a0-dc47f7381842",
   "metadata": {},
   "outputs": [],
   "source": [
    "from dae_finder import AlgModelFinder\n",
    "from dae_finder import sequentialThLin, AlgModelFinder"
   ]
  },
  {
   "cell_type": "markdown",
   "id": "e549109e-1221-4dd5-93bd-96b297a647e8",
   "metadata": {},
   "source": [
    "\n",
    "seq_th_model = sequentialThLin(fit_intercept=True, coef_threshold= 0.1)\n"
   ]
  },
  {
   "cell_type": "markdown",
   "id": "2be90638-6291-4098-9e2e-6bd420b01c20",
   "metadata": {},
   "source": []
  },
  {
   "cell_type": "markdown",
   "id": "6f3ce34d-36c6-41e3-91d6-5617b72e2e20",
   "metadata": {},
   "source": [
    "algebraic_model_th.fit(candidate_lib_full, scale_columns= False)"
   ]
  },
  {
   "cell_type": "code",
   "execution_count": 28,
   "id": "c6a8a0a4-ee69-4262-812f-bfc4cfa3d45d",
   "metadata": {},
   "outputs": [],
   "source": [
    "seq_th_model = sequentialThLin(fit_intercept=True, coef_threshold= 0.05)\n",
    "algebraic_model_th = AlgModelFinder(custom_model=True, custom_model_ob= seq_th_model)\n",
    "\n",
    "algebraic_model_th.fit(candidate_lib_full.drop([\"x^2\", \"x d(x) /dt\"], axis=1), scale_columns= False)"
   ]
  },
  {
   "cell_type": "code",
   "execution_count": 27,
   "id": "31434cc6-0419-4b7a-8600-0c558a96ec6d",
   "metadata": {},
   "outputs": [],
   "source": [
    "algebraic_model_th.best_models(5)"
   ]
  },
  {
   "cell_type": "code",
   "execution_count": 28,
   "id": "0f68fdc2-a2ef-49d0-9be5-a495d3b0224f",
   "metadata": {},
   "outputs": [],
   "source": [
    "#Use lasso model by default\n",
    "algebraic_model_1 = AlgModelFinder(model_id='lasso', alpha=0.3, fit_intercept=True)\n",
    "algebraic_model_1.fit(candidate_lib_full, scale_columns= True)\n",
    "\n",
    "\n",
    "algebraic_model_1.best_models(5)"
   ]
  },
  {
   "cell_type": "code",
   "execution_count": 29,
   "id": "d28f33d3-b4ba-436b-8291-8322234747b7",
   "metadata": {},
   "outputs": [],
   "source": [
    "#Use lasso model by default\n",
    "algebraic_model_1 = AlgModelFinder(model_id='lasso', alpha=0.3, fit_intercept=True)\n",
    "algebraic_model_1.fit(candidate_lib_full.drop([\"x^2\", \"x d(x) /dt\"], axis=1), scale_columns= True)\n",
    "\n",
    "\n",
    "algebraic_model_1.best_models(5)"
   ]
  },
  {
   "cell_type": "code",
   "execution_count": null,
   "id": "16e4e1b8-cfb2-4f13-ba25-dc35b7925a02",
   "metadata": {},
   "outputs": [],
   "source": []
  },
  {
   "cell_type": "code",
   "execution_count": 1701,
   "id": "745f2bc8-9186-4e17-93d0-a9f38d66bc3f",
   "metadata": {},
   "outputs": [],
   "source": [
    "from sklearn.linear_model import LinearRegression"
   ]
  },
  {
   "cell_type": "code",
   "execution_count": 1702,
   "id": "f4a2155a-f18b-43b3-91d3-0e181f8e82fc",
   "metadata": {},
   "outputs": [],
   "source": [
    "model_lin = LinearRegression(fit_intercept= True)\n",
    "\n",
    "model_lin.fit(X=candidate_lib_full[[\"d(y) /dt^2\", \"d(x) /dt^2\"]], y=candidate_lib_full[\"y\"])"
   ]
  },
  {
   "cell_type": "code",
   "execution_count": 1648,
   "id": "46eef7f6-bb9b-463e-8eb6-9bb21a04bc30",
   "metadata": {},
   "outputs": [],
   "source": [
    "dict(zip(model_lin.feature_names_in_, model_lin.coef_))"
   ]
  },
  {
   "cell_type": "code",
   "execution_count": 1555,
   "id": "e89b7a6d-0400-4aa7-92ed-f9228656b857",
   "metadata": {},
   "outputs": [],
   "source": [
    "model_lin.intercept_"
   ]
  },
  {
   "cell_type": "code",
   "execution_count": 1556,
   "id": "e025344a-a133-475a-b710-7b2289d9680f",
   "metadata": {},
   "outputs": [],
   "source": [
    "# Expected coefficient of x_dot^2 and y_dot^2 \n",
    "1/(9.8*2) #1/2 * 1/g"
   ]
  },
  {
   "cell_type": "code",
   "execution_count": 1557,
   "id": "dcbe45d6-7709-4ab8-aa12-a5de1962e898",
   "metadata": {},
   "outputs": [],
   "source": [
    "# Expected intercept (coming from energy)\n",
    "L #L"
   ]
  },
  {
   "cell_type": "code",
   "execution_count": null,
   "id": "f7088f8a-3361-4693-95f9-ca1da81b7137",
   "metadata": {},
   "outputs": [],
   "source": []
  },
  {
   "cell_type": "code",
   "execution_count": 1558,
   "id": "00f3e29d-ead8-4691-a396-2e76684bfc9b",
   "metadata": {},
   "outputs": [],
   "source": [
    "model_lin = LinearRegression(fit_intercept= True)\n",
    "\n",
    "model_lin.fit(X=candidate_lib_full[[\"y^2\", \"d(y) /dt^2\"]], y=candidate_lib_full[\"x^2\"])"
   ]
  },
  {
   "cell_type": "code",
   "execution_count": 1559,
   "id": "fd106e77-0483-44f2-8c21-34c6934e6f4d",
   "metadata": {},
   "outputs": [],
   "source": [
    "dict(zip(model_lin.feature_names_in_, model_lin.coef_))"
   ]
  },
  {
   "cell_type": "code",
   "execution_count": 1446,
   "id": "923d0026-372b-4924-884d-677939bc745e",
   "metadata": {},
   "outputs": [],
   "source": [
    "model_lin.intercept_"
   ]
  },
  {
   "cell_type": "code",
   "execution_count": null,
   "id": "b7033a5f-870c-4fa0-9e3d-fcfa13fbbadd",
   "metadata": {},
   "outputs": [],
   "source": []
  },
  {
   "cell_type": "code",
   "execution_count": null,
   "id": "f24825bf-5b0e-4b3d-b42c-d89c92707b1f",
   "metadata": {},
   "outputs": [],
   "source": []
  },
  {
   "cell_type": "code",
   "execution_count": null,
   "id": "d39abeaa-2e31-4386-b91b-4f3aa55a0c0b",
   "metadata": {},
   "outputs": [],
   "source": []
  },
  {
   "cell_type": "code",
   "execution_count": null,
   "id": "57c26848-3c01-44fb-af7b-81f937384af7",
   "metadata": {},
   "outputs": [],
   "source": []
  }
 ],
 "metadata": {
  "kernelspec": {
   "display_name": "Python 3 (ipykernel)",
   "language": "python",
   "name": "python3"
  },
  "language_info": {
   "codemirror_mode": {
    "name": "ipython",
    "version": 3
   },
   "file_extension": ".py",
   "mimetype": "text/x-python",
   "name": "python",
   "nbconvert_exporter": "python",
   "pygments_lexer": "ipython3",
   "version": "3.12.3"
  }
 },
 "nbformat": 4,
 "nbformat_minor": 5
}
