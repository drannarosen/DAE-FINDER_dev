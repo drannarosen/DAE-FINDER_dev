{
 "cells": [
  {
   "cell_type": "code",
   "execution_count": 1,
   "metadata": {},
   "source": [
    "import pandas as pd\n",
    "import numpy as np\n",
    "import matplotlib.pyplot as plt\n",
    "import ipywidgets as widgets\n",
    "from scipy.integrate import odeint"
   ],
   "outputs": []
  },
  {
   "cell_type": "code",
   "execution_count": 23,
   "metadata": {},
   "source": [
    "def rhs(y, t, ks, P0):\n",
    "    pald, pCoa = y\n",
    "    kcatf_P, Kmf_P, kcatr_P, Kmr_P = ks\n",
    "\n",
    "    f = lambda s, kcat, Km, E0 : (kcat*E0*s)/(Km + s)\n",
    "    fluxf_P = f(pald, kcatf_P, Kmf_P, P0)\n",
    "    fluxr_P = f(pCoa, kcatr_P, Kmr_P, P0)\n",
    "\n",
    "    dydt = [ -fluxf_P + fluxr_P, # pald\n",
    "             -fluxr_P + fluxf_P] # pCoa\n",
    "    return dydt\n",
    "\n",
    "def solveTest(tSolve, IC, ks):\n",
    "    kcatf_P, Kmf_P, kcatr_P, Kmr_P = ks\n",
    "    y0, E0s = IC\n",
    "    P0 = E0s[0]\n",
    "    sol = odeint(lambda y, t: rhs(y, t, ks, E0s[0]), y0, tSolve)\n",
    "   \n",
    "    comP_sol = P0 * sol[:, 0] / (Kmf_P + sol[:, 0]) + P0 * sol[:, 1] / (Kmr_P + sol[:, 1])\n",
    "    P_sol = P0 - comP_sol\n",
    "\n",
    "    all_sol = np.column_stack((sol[:, 0], P_sol, comP_sol, sol[:, 1]))\n",
    "    return all_sol"
   ],
   "outputs": []
  },
  {
   "cell_type": "code",
   "execution_count": 24,
   "metadata": {},
   "source": [
    "# Define all ICs\n",
    "\n",
    "IC1 = ([0.5, 0.], [0.694]) # y0, E0\n",
    "IC2 = ([1., 0.], [0.694])\n",
    "IC3 = ([1.5, 0.], [0.694])\n",
    "IC4 = ([5., 0.], [0.694])\n",
    "IC5 = ([10., 0.], [0.694])\n",
    "IC6 = ([0., 0.5], [0.694])\n",
    "IC7 = ([0., 1.], [0.694])\n",
    "IC8 = ([0., 1.5], [0.694])\n",
    "IC9 =  ([0., 5.], [0.694])\n",
    "IC10 = ([0., 10.], [0.694])\n",
    "ICs = [IC1, IC2, IC3, IC4, IC5, IC6, IC7, IC8, IC9, IC10]\n",
    "\n",
    "ksAll = [55., 15., 6., 95.]\n",
    "\n",
    "tSolve = np.linspace(0, .6, 5000)\n",
    "outs = [solveTest(tSolve, IC, ksAll) for IC in ICs]"
   ],
   "outputs": []
  },
  {
   "cell_type": "code",
   "execution_count": 25,
   "metadata": {},
   "source": [
    "from IPython.display import display, clear_output\n",
    "\n",
    "data = {\n",
    "    'IC1' : outs[0][:, [0,3]],\n",
    "    'IC2' : outs[1][:, [0,3]],\n",
    "    'IC3' : outs[2][:, [0,3]],\n",
    "    'IC4' : outs[3][:, [0,3]],\n",
    "    'IC5' : outs[4][:, [0,3]],\n",
    "    'IC6' : outs[5][:, [0,3]],\n",
    "    'IC7' : outs[6][:, [0,3]],\n",
    "    'IC8' : outs[7][:, [0,3]],\n",
    "    'IC9' : outs[8][:, [0,3]],\n",
    "    'IC10' : outs[9][:, [0,3]]\n",
    "}\n",
    "\n",
    "titles = {\n",
    "    'IC1' : '55mM 1,2-propanediol',\n",
    "    'IC2' : '55mM propionaldehyde',\n",
    "    'IC3' : '55mM 1-propanol',\n",
    "    'IC4' : '55mM propionyl-CoA',\n",
    "    'IC5' : '25mM 1,2-propanediol, 20mM 1-propanol, 10 mM propionyl-CoA',\n",
    "    'IC6' : '25mM 1,2-propanediol, 10mM 1-propanol, 20 mM propionyl-CoA',\n",
    "    'IC7' : '13.75mM all upstream species',\n",
    "    'IC8' : '15mM 1,2-propanediol',\n",
    "    'IC9' : '35mM 1,2-propanediol',\n",
    "    'IC10' :'55mM propionate'\n",
    "}\n",
    "\n",
    "def plotThisIC(dat, title):\n",
    "    plt.plot(tSolve, dat, lw=2, label=['propionaldehyde', 'propionyl-CoA'])\n",
    "    plt.xlabel('time (s)', fontsize=12)\n",
    "    plt.ylabel('concentration (mM)', fontsize=12)\n",
    "    plt.title(title)\n",
    "    plt.legend(fontsize=12)\n",
    "\n",
    "\n",
    "# Dropdown menu setup\n",
    "dropdown = widgets.Dropdown(\n",
    "    options=list(data.keys()),\n",
    "    value='IC1',\n",
    "    description='IC:'\n",
    ")\n",
    "\n",
    "def on_change(change):\n",
    "    if change['name'] == 'value' and (change['new'] != change['old']):\n",
    "        clear_output()\n",
    "        display(dropdown)\n",
    "        plotThisIC(data[change['new']], titles[change['new']])\n",
    "\n",
    "# Display the dropdown menu and the plot\n",
    "display(dropdown)\n",
    "plotThisIC(data['IC1'], titles['IC1'])\n",
    "dropdown.observe(on_change)\n"
   ],
   "outputs": []
  },
  {
   "cell_type": "code",
   "execution_count": 5,
   "metadata": {},
   "source": [
    "from IPython.display import display, clear_output\n",
    "\n",
    "data = {\n",
    "    'IC1' : outs[0][:, [1,2]],\n",
    "    'IC2' : outs[1][:, [1,2]],\n",
    "    'IC3' : outs[2][:, [1,2]],\n",
    "    'IC4' : outs[3][:, [1,2]],\n",
    "    'IC5' : outs[4][:, [1,2]],\n",
    "    'IC6' : outs[5][:, [1,2]],\n",
    "    'IC7' : outs[6][:, [1,2]],\n",
    "    'IC8' : outs[7][:, [1,2]],\n",
    "    'IC9' : outs[8][:, [1,2]],\n",
    "    'IC10' : outs[9][:, [1,2]]\n",
    "}\n",
    "\n",
    "titles = {\n",
    "    'IC1' : '55mM 1,2-propanediol',\n",
    "    'IC2' : '55mM propionaldehyde',\n",
    "    'IC3' : '55mM 1-propanol',\n",
    "    'IC4' : '55mM propionyl-CoA',\n",
    "    'IC5' : '25mM 1,2-propanediol, 20mM 1-propanol, 10 mM propionyl-CoA',\n",
    "    'IC6' : '25mM 1,2-propanediol, 10mM 1-propanol, 20 mM propionyl-CoA',\n",
    "    'IC7' : '13.75mM all upstream species',\n",
    "    'IC8' : '15mM 1,2-propanediol',\n",
    "    'IC9' : '35mM 1,2-propanediol',\n",
    "    'IC10' :'55mM propionate'\n",
    "}\n",
    "\n",
    "def plotThisIC(dat, title):\n",
    "    plt.plot(tSolve, dat, lw=2, label=['unbound PduP', 'bound PduP'])\n",
    "    plt.xlabel('time (s)', fontsize=12)\n",
    "    plt.ylabel('concentration (mM)', fontsize=12)\n",
    "    plt.title(title)\n",
    "    plt.legend(fontsize=12)\n",
    "\n",
    "\n",
    "# Dropdown menu setup\n",
    "dropdown = widgets.Dropdown(\n",
    "    options=list(data.keys()),\n",
    "    value='IC1',\n",
    "    description='IC:'\n",
    ")\n",
    "\n",
    "def on_change(change):\n",
    "    if change['name'] == 'value' and (change['new'] != change['old']):\n",
    "        clear_output()\n",
    "        display(dropdown)\n",
    "        plotThisIC(data[change['new']], titles[change['new']])\n",
    "\n",
    "# Display the dropdown menu and the plot\n",
    "display(dropdown)\n",
    "plotThisIC(data['IC1'], titles['IC1'])\n",
    "dropdown.observe(on_change)\n"
   ],
   "outputs": []
  },
  {
   "cell_type": "code",
   "execution_count": 6,
   "metadata": {},
   "source": [
    "tol = 0.0001\n",
    "\n",
    "# If == 1 then enz is correct\n",
    "isP = np.prod([np.prod(outs[i][:, 1] + outs[i][:, 2] - 0.694 <= tol) for i in range(10)])\n",
    "\n",
    "print(isP)"
   ],
   "outputs": []
  },
  {
   "cell_type": "code",
   "execution_count": 7,
   "metadata": {},
   "source": [
    "for i in range(10):\n",
    "    tot = np.sum(outs[i], axis=1)\n",
    "    print(np.prod(tot-tot[0] <= tol))"
   ],
   "outputs": []
  },
  {
   "cell_type": "code",
   "execution_count": 8,
   "metadata": {},
   "source": [
    "def get_block_symbol(feature_list):\n",
    "    return [\"[{}]\".format(feat) for feat in feature_list]\n",
    "\n",
    "data_matrix_df_list = []\n",
    "for i in range(10):\n",
    "    sol_df = pd.DataFrame(outs[i], columns=['Ald', 'P', 'Pc', 'CoA'])\n",
    "    sol_df[\"t\"] = tSolve\n",
    "    data_matrix_df_list.append(sol_df.rename(columns=dict(zip(sol_df.columns, get_block_symbol(sol_df.columns)))))\n",
    "\n",
    "data_matrix_df = pd.concat(data_matrix_df_list, ignore_index=True)\n",
    "data_matrix_df"
   ],
   "outputs": []
  },
  {
   "cell_type": "code",
   "execution_count": 9,
   "metadata": {},
   "source": [
    "from dae_finder import add_noise_to_df\n",
    "noise_perc = 0\n",
    "\n",
    "\n",
    "data_matrix_features = data_matrix_df_list[0].columns\n",
    "for ind, data_matrix_ in enumerate(data_matrix_df_list):\n",
    "    t_exact = data_matrix_[\"[t]\"]\n",
    "    noisy_data_df = add_noise_to_df(data_matrix_, noise_perc=noise_perc, random_seed=111)\n",
    "    noisy_data_df[\"[t]\"] = t_exact\n",
    "    data_matrix_df_list[ind] = noisy_data_df"
   ],
   "outputs": []
  },
  {
   "cell_type": "code",
   "execution_count": 10,
   "metadata": {},
   "source": [
    "from dae_finder import smooth_data\n",
    "\n",
    "#Calling the smoothening function\n",
    "data_matrix_smooth_df_list = [smooth_data(data_matrix,domain_var=\"[t]\",derr_order=1, noise_perc=noise_perc,\n",
    "                                          eval_points=tSolve) for data_matrix in data_matrix_df_list]\n",
    "\n",
    "if len(data_matrix_df_list) >1:\n",
    "    data_matrix_df_smooth_appended = pd.concat(data_matrix_smooth_df_list, ignore_index=True)\n",
    "else:\n",
    "    data_matrix_df_smooth_appended = data_matrix_smooth_df_list[0]\n",
    "\n",
    "data_matrix_df_smooth = data_matrix_df_smooth_appended[data_matrix_features]\n",
    "if \"[t]\" in data_matrix_df_smooth:\n",
    "    data_matrix_df_smooth = data_matrix_df_smooth.drop(\"[t]\", axis=1)"
   ],
   "outputs": []
  },
  {
   "cell_type": "code",
   "execution_count": 11,
   "metadata": {},
   "source": [
    "data_matrix_df_smooth_appended"
   ],
   "outputs": []
  },
  {
   "cell_type": "code",
   "execution_count": 12,
   "metadata": {},
   "source": [
    "data_matrix_df_smooth = data_matrix_df.drop(\"[t]\", axis=1)"
   ],
   "outputs": []
  },
  {
   "cell_type": "code",
   "execution_count": 13,
   "metadata": {},
   "source": [
    "from dae_finder import PolyFeatureMatrix\n",
    "\n",
    "poly_degree = 3\n",
    "\n",
    "poly_feature_ob = PolyFeatureMatrix(poly_degree)\n",
    "\n",
    "candidate_lib_full = poly_feature_ob.fit_transform(data_matrix_df_smooth)\n",
    "\n",
    "#Dropping 1 from the candidate library since we use fit_with_intercept flag instead of using constants directly\n",
    "# in the candidate library\n",
    "candidate_lib_full = candidate_lib_full.drop([\"1\"], axis=1)\n",
    "candidate_lib_full"
   ],
   "outputs": []
  },
  {
   "cell_type": "code",
   "execution_count": 14,
   "metadata": {},
   "source": [
    "#scaling the candidate columns to set std of 1\n",
    "from sklearn.preprocessing import StandardScaler\n",
    "s_scaler = StandardScaler(with_std=True, with_mean=False)\n",
    "scaled_cand_lib = pd.DataFrame(s_scaler.fit_transform(candidate_lib_full), columns=s_scaler.feature_names_in_)\n",
    "if '1' in scaled_cand_lib.columns:\n",
    "        scaled_cand_lib['1'] = 1"
   ],
   "outputs": []
  },
  {
   "cell_type": "code",
   "execution_count": 15,
   "metadata": {},
   "source": [
    "scaled_cand_lib.describe()"
   ],
   "outputs": []
  },
  {
   "cell_type": "code",
   "execution_count": 16,
   "metadata": {},
   "source": [
    "import sympy\n",
    "\n",
    "from dae_finder import get_refined_lib, remove_paranth_from_feat\n",
    "\n",
    "# Adding the state variables as scipy symbols\n",
    "feat_list = list(data_matrix_df.columns)\n",
    "feat_list_str = \", \".join(remove_paranth_from_feat(data_matrix_df.columns))\n",
    "exec(feat_list_str+ \"= sympy.symbols(\"+str(feat_list)+\")\")"
   ],
   "outputs": []
  },
  {
   "cell_type": "code",
   "execution_count": 17,
   "metadata": {},
   "source": [
    "from dae_finder import sequentialThLin, AlgModelFinder\n",
    "algebraic_model_lasso = AlgModelFinder(model_id='lasso',\n",
    "                                       fit_intercept=True)\n",
    "\n",
    "algebraic_model_lasso.fit(data_matrix_df_smooth, scale_columns= True)\n",
    "algebraic_model_lasso.best_models(10) # Best 10 models using R2 matrix"
   ],
   "outputs": []
  },
  {
   "cell_type": "code",
   "execution_count": 18,
   "metadata": {},
   "source": [
    "algebraic_model_lasso.get_fitted_intercepts()"
   ],
   "outputs": []
  },
  {
   "cell_type": "code",
   "execution_count": 19,
   "metadata": {},
   "source": [
    "from sklearn.linear_model import LinearRegression\n",
    "\n",
    "lin_model = LinearRegression()\n",
    "lin_model.fit(candidate_lib_full[[\"[Pc]\"]], candidate_lib_full[\"[P]\"])\n",
    "print(dict(zip(lin_model.feature_names_in_, lin_model.coef_)))\n",
    "print(lin_model.intercept_)"
   ],
   "outputs": []
  },
  {
   "cell_type": "code",
   "execution_count": 20,
   "metadata": {},
   "source": [
    "features_to_remove = {P}\n",
    "\n",
    "features_to_remove, refined_candid_lib = get_refined_lib(features_to_remove, data_matrix_df,\n",
    "                                                  candidate_lib_full, get_dropped_feat=True)"
   ],
   "outputs": []
  },
  {
   "cell_type": "code",
   "execution_count": 21,
   "metadata": {},
   "source": [
    "refined_candid_lib"
   ],
   "outputs": []
  },
  {
   "cell_type": "markdown",
   "metadata": {},
   "source": [
    "<img src=\"deriv.jpeg\" width=\"600\">"
   ]
  },
  {
   "cell_type": "code",
   "execution_count": 22,
   "metadata": {},
   "source": [
    "algebraic_model_lasso = AlgModelFinder(model_id='lasso',\n",
    "                                       fit_intercept=False, alpha=0.01)\n",
    "algebraic_model_lasso.fit(refined_candid_lib, scale_columns= True)"
   ],
   "outputs": []
  },
  {
   "cell_type": "code",
   "execution_count": 181,
   "metadata": {},
   "source": [
    "best_models_full = algebraic_model_lasso.best_models()"
   ],
   "outputs": []
  },
  {
   "cell_type": "code",
   "execution_count": 182,
   "metadata": {},
   "source": [
    "best_models_full"
   ],
   "outputs": []
  },
  {
   "cell_type": "code",
   "execution_count": 152,
   "metadata": {},
   "source": [
    "from dae_finder import get_simplified_equation_list\n",
    "\n",
    "intercept_dictionary = algebraic_model_lasso.get_fitted_intercepts()\n",
    "\n",
    "simplified_equations = get_simplified_equation_list(best_model_df=best_models_full.fillna(0)[:-1],\n",
    "                            coef_threshold=0.025,\n",
    "                            intercept_threshold= 0.01,\n",
    "                             global_feature_list=data_matrix_df.columns,\n",
    "                             intercept_dict= intercept_dictionary,\n",
    "                             simplified = True)"
   ],
   "outputs": []
  },
  {
   "cell_type": "code",
   "execution_count": 154,
   "metadata": {},
   "source": [
    "simplified_equations['[Ald] [Pc] [CoA]']"
   ],
   "outputs": []
  },
  {
   "cell_type": "code",
   "execution_count": 155,
   "metadata": {},
   "source": [
    "from dae_finder import construct_reduced_fit_list\n",
    "\n",
    "reduced_relationship_features = construct_reduced_fit_list(best_models_full.fillna(0)[:-1], simplified_eqs=simplified_equations)\n",
    "\n",
    "reduced_relationship_features"
   ],
   "outputs": []
  },
  {
   "cell_type": "code",
   "execution_count": 54,
   "metadata": {},
   "source": [
    "from sklearn.linear_model import LinearRegression\n",
    "\n",
    "#Removing None from reduced relationship features if it is present. Whenever a constant appears in either LHS or RHS of the relationship,\n",
    "# while converting the sympy symbol to feature name corresponding to the canddiate library, a None is returned. \n",
    "\n",
    "best_relationship = reduced_relationship_features[0]\n",
    "if None in best_relationship:\n",
    "    best_relationship.remove(None)\n",
    "    \n",
    "lin_model = LinearRegression()\n",
    "\n",
    "best_relation_lhs = best_relationship[0]\n",
    "best_relation_rhs = best_relationship[1:]\n",
    "lin_model.fit(candidate_lib_full[best_relation_rhs], candidate_lib_full[best_relation_lhs])\n",
    "lin_model.score(candidate_lib_full[best_relation_rhs], candidate_lib_full[best_relation_lhs])"
   ],
   "outputs": []
  },
  {
   "cell_type": "code",
   "execution_count": 74,
   "metadata": {},
   "source": [
    "dict(zip(lin_model.feature_names_in_, lin_model.coef_))"
   ],
   "outputs": []
  },
  {
   "cell_type": "code",
   "execution_count": 62,
   "metadata": {},
   "source": [
    "df_ = algebraic_model_lasso.best_models()\n",
    "{key_: value_ for key_, value_ in dict(df_[\"[Ald] [Pc] [CoA]\"]).items() if abs(value_)>0.01}"
   ],
   "outputs": []
  },
  {
   "cell_type": "code",
   "execution_count": 167,
   "metadata": {},
   "source": [
    "from sklearn.linear_model import LinearRegression\n",
    "\n",
    "lin_model = LinearRegression()\n",
    "lin_model.fit(candidate_lib_full[[\"[Ald] [CoA]\", \"[Ald]\", \"[CoA]\", \"[Ald] [Pc]\", \"[Pc] [CoA]\", \"[Pc]\"]], candidate_lib_full[\"[Ald] [Pc] [CoA]\"]).score(candidate_lib_full[[\"[Ald] [CoA]\", \"[Ald]\", \"[CoA]\", \"[Ald] [Pc]\", \"[Pc] [CoA]\", \"[Pc]\"]], candidate_lib_full[\"[Ald] [Pc] [CoA]\"])"
   ],
   "outputs": []
  },
  {
   "cell_type": "code",
   "execution_count": 166,
   "metadata": {},
   "source": [
    "lin_model.intercept_"
   ],
   "outputs": []
  },
  {
   "cell_type": "code",
   "execution_count": null,
   "metadata": {},
   "source": [],
   "outputs": []
  },
  {
   "cell_type": "code",
   "execution_count": 71,
   "metadata": {},
   "source": [
    "testAld = outs[0][:, 0]\n",
    "testPc = outs[0][:, 2]\n",
    "\n",
    "testLHS = np.multiply(testAld, testPc)\n",
    "testRel = .054198*testAld + 23.02722*np.square(testPc)\n",
    "\n",
    "\n",
    "plt.subplot(1, 2, 1)\n",
    "plt.plot(tSolve, testLHS, lw=4, label='[CoA]', alpha=.5)\n",
    "plt.plot(tSolve, testRel, '--k', lw=2, label='discovered algebraic expr for [CoA]')\n",
    "plt.xlabel('time (s)', fontsize=12)\n",
    "plt.ylabel('concentration (mM)', fontsize=12)\n",
    "plt.legend(fontsize=12, loc=9, bbox_to_anchor=(0.5, -0.2))\n",
    "\n",
    "plt.subplot(1, 2, 2)\n",
    "plt.semilogy(tSolve, np.abs(np.subtract(testLHS, testRel)), '.')\n",
    "plt.xlabel('time (s)', fontsize=12)\n",
    "plt.ylabel('|error|', fontsize=12)\n",
    "\n",
    "plt.tight_layout()\n",
    "plt.show()"
   ],
   "outputs": []
  },
  {
   "cell_type": "code",
   "execution_count": null,
   "metadata": {},
   "source": [],
   "outputs": []
  }
 ],
 "metadata": {
  "kernelspec": {
   "display_name": "Python 3 (ipykernel)",
   "language": "python",
   "name": "python3"
  },
  "language_info": {
   "codemirror_mode": {
    "name": "ipython",
    "version": 3
   },
   "file_extension": ".py",
   "mimetype": "text/x-python",
   "name": "python",
   "nbconvert_exporter": "python",
   "pygments_lexer": "ipython3",
   "version": "3.12.3"
  }
 },
 "nbformat": 4,
 "nbformat_minor": 4
}
