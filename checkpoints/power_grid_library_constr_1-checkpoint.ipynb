{
 "cells": [
  {
   "cell_type": "markdown",
   "id": "6f2b32ed-1efe-402f-963a-44a020baad17",
   "metadata": {},
   "source": [
    "# Powergrid library construction"
   ]
  },
  {
   "cell_type": "code",
   "execution_count": 1,
   "id": "2f352add-6385-4885-8a9e-6d29c23137db",
   "metadata": {},
   "source": [
    "import numpy as np\n",
    "from scipy.integrate import odeint\n",
    "import pandas as pd\n",
    "import warnings\n",
    "pd.set_option('display.float_format', '{:0.8f}'.format)\n",
    "import operator"
   ],
   "outputs": []
  },
  {
   "cell_type": "code",
   "execution_count": 2,
   "id": "dc62d1e7-ff4d-41b6-8afd-4a365dc02976",
   "metadata": {},
   "source": [
    "import numpy as np\n",
    "import matplotlib.pyplot as plt\n",
    "from scipy.integrate import solve_ivp\n",
    "\n",
    "# Function to compute derivatives\n",
    "def pendulum_rhs(t, y, gamma, L=1):\n",
    "    \"\"\"\n",
    "    Function to compute derivatives for simple pendulum with damping\n",
    "    \n",
    "    Parameters:\n",
    "        t : float\n",
    "            Time\n",
    "        y : array_like\n",
    "            Vector containing [theta, omega], where\n",
    "            theta is the angle and omega is the angular velocity\n",
    "        gamma : float\n",
    "            Damping coefficient\n",
    "        L : float\n",
    "            Length of the pendulum\n",
    "        \n",
    "    Returns:\n",
    "        dydt : array_like\n",
    "            Vector containing [omega, alpha], where\n",
    "            omega is the angular velocity and alpha is the angular acceleration\n",
    "    \"\"\"\n",
    "    theta, omega = y\n",
    "    alpha = - (9.81 / L) * np.sin(theta) - gamma * omega\n",
    "    return [omega, alpha]\n",
    "\n",
    "# Parameters\n",
    "theta0 = np.pi / 4  # Initial angle (radians)\n",
    "omega0 = 0.0        # Initial angular velocity (radians per second)\n",
    "gamma = 0.0       # Damping coefficient\n",
    "L = 1.0             # Length of the pendulum (meters)\n",
    "t_span = (0, 10)    # Time span for the simulation\n",
    "\n",
    "# Function to integrate the system of ODEs\n",
    "def integrate_pendulum(t_span, y0, gamma, L):\n",
    "\n",
    "    sol = solve_ivp(lambda t, y: pendulum_rhs(t, y, gamma, L), t_span, y0, method='RK45', t_eval=np.linspace(*t_span, 1000))\n",
    "    return sol\n",
    "\n",
    "# Integrate the pendulum system\n",
    "sol = integrate_pendulum(t_span, [theta0, omega0], gamma, L)\n",
    "\n",
    "# Plot the results\n",
    "plt.figure(figsize=(10, 5))\n",
    "plt.plot(sol.t, sol.y[0], label='Angle (radians)')\n",
    "plt.plot(sol.t, sol.y[1], label='Angular velocity (rad/s)')\n",
    "plt.title('Damped Simple Pendulum Simulation using scipy.solve_ivp')\n",
    "plt.xlabel('Time (s)')\n",
    "plt.ylabel('Value')\n",
    "plt.legend()\n",
    "plt.grid(True)\n",
    "plt.show()"
   ],
   "outputs": []
  },
  {
   "cell_type": "code",
   "execution_count": 3,
   "id": "d08d685a-49c2-4618-ab7c-9f4f4a08e00c",
   "metadata": {
    "ExecuteTime": {
     "end_time": "2023-12-19T01:33:54.790920Z",
     "start_time": "2023-12-19T01:33:54.739046Z"
    }
   },
   "source": [
    "IC_df = pd.read_csv(\"parameters/init_cond_simp_pend.csv\")"
   ],
   "outputs": []
  },
  {
   "cell_type": "code",
   "execution_count": 4,
   "id": "05638299-c496-4b49-853c-9679afd9f0cb",
   "metadata": {
    "ExecuteTime": {
     "end_time": "2023-12-19T01:33:55.045040Z",
     "start_time": "2023-12-19T01:33:54.768538Z"
    }
   },
   "source": [
    "IC_df = IC_df[0:2]\n",
    "IC_df"
   ],
   "outputs": []
  },
  {
   "cell_type": "code",
   "execution_count": 5,
   "id": "801569fb-a75c-46ff-adc2-88b667dfe0ef",
   "metadata": {},
   "source": [
    "# Mechanical eEnergy level\n",
    "0.5*(IC_df[\"omega\"])**2 + 9.81*(1-np.cos(IC_df[\"theta\"]))"
   ],
   "outputs": []
  },
  {
   "cell_type": "code",
   "execution_count": 6,
   "id": "33254d67-4830-41f4-8763-977fb6b9f88e",
   "metadata": {
    "ExecuteTime": {
     "end_time": "2023-12-19T01:33:54.174589Z",
     "start_time": "2023-12-19T01:33:54.090332Z"
    }
   },
   "source": [
    "params_df = pd.read_csv(\"parameters/pend_param.csv\")\n",
    "params_df\n"
   ],
   "outputs": []
  },
  {
   "cell_type": "code",
   "execution_count": 7,
   "id": "8bb2a132-b59f-4512-8910-de817ff5cacf",
   "metadata": {},
   "source": [
    "g = 9.81   # Acceleration due to gravity (m/s^2)\n"
   ],
   "outputs": []
  },
  {
   "cell_type": "markdown",
   "id": "756d9ec5-4360-4d34-a1ac-82a7d713ebca",
   "metadata": {},
   "source": [
    "### Synthesizing data from different ICs"
   ]
  },
  {
   "cell_type": "markdown",
   "id": "a3686d5e-cb41-4045-a68d-37c2dd4fdc97",
   "metadata": {},
   "source": [
    "### Synthesizing data from different ICs"
   ]
  },
  {
   "cell_type": "code",
   "execution_count": 8,
   "id": "eb2f7a58-2a07-4f93-b7c1-649b2453553c",
   "metadata": {
    "ExecuteTime": {
     "end_time": "2023-12-19T01:33:55.410915Z",
     "start_time": "2023-12-19T01:33:55.304700Z"
    }
   },
   "source": [
    "L = 5.0\n",
    "# y_shift = 0.9 * L\n",
    "# y_shift = 0\n",
    "\n",
    "num_time_points = 20\n",
    "# Time span\n",
    "t_span = (0.0, 10)  # from 0 to 10 seconds\n",
    "#Valuation points\n",
    "t_eval_ = np.linspace(t_span[0], t_span[1], num_time_points)\n",
    "data_matrix_df_list = []\n",
    "\n",
    "\n",
    "for param_index in params_df.index:\n",
    "    params = params_df.loc[param_index]\n",
    "    # Define parameters\n",
    "    m_c = params['m_c']  # Mass of the cart (kg)\n",
    "    m_p = params['m_p']  # Mass of the pendulum (kg)\n",
    "    l = params['l']    # Length of the pendulum (m)\n",
    "    for IC_index in IC_df.index:\n",
    "        IC = IC_df.loc[IC_index]\n",
    "        y0 = IC.values\n",
    "                # Parameters\n",
    "        theta0 = IC[\"theta\"]  # Initial angle (radians)\n",
    "        omega0 = IC[\"omega\"]        # Initial angular velocity (radians per second)\n",
    "        gamma = 0.0         # Damping coefficient\n",
    "        # Solve the ODEs\n",
    "        sol = solve_ivp(lambda t, y: pendulum_rhs(t, y, gamma, L), t_span, [theta0, omega0], method='RK45', t_eval=t_eval_)\n",
    "        sol_df = pd.DataFrame(sol.y.T, columns=[\"theta\", \"omega\"])\n",
    "        sol_df[\"x\"] = L*np.sin(sol_df[\"theta\"])\n",
    "        sol_df[\"y\"] = -L*np.cos(sol_df[\"theta\"])\n",
    "        sol_df[\"t\"] = t_eval_\n",
    "        data_matrix_df_list.append(sol_df[[\"t\", \"x\", \"y\"]])\n",
    "        # if IC_index == 0:\n",
    "        #     # Plot the results\n",
    "        #     plt.figure(figsize=(10, 6))\n",
    "        #     plt.plot(sol.t, sol.y[0], label='Cart Position (x)')\n",
    "        #     plt.plot(sol.t, sol.y[2], label='Pendulum Angle (theta)')\n",
    "        #     plt.xlabel('Time (s)')\n",
    "        #     plt.ylabel('Position (m) / Angle (rad)')\n",
    "        #     plt.title('Upright Pendulum on Moving Cart')\n",
    "        #     plt.legend()\n",
    "        #     plt.grid(True)\n",
    "        #     plt.show()\n",
    "\n",
    "data_matrix_df = pd.concat(data_matrix_df_list, ignore_index=True)\n",
    "data_matrix_df"
   ],
   "outputs": []
  },
  {
   "cell_type": "code",
   "execution_count": 9,
   "id": "89f30503-7815-4999-8e45-46896bd8c4fe",
   "metadata": {},
   "source": [
    "from dae_finder import add_noise_to_df\n",
    "noise_perc = 10\n",
    "\n",
    "\n",
    "data_matrix_features = data_matrix_df_list[0].columns\n",
    "for ind, data_matrix_ in enumerate(data_matrix_df_list):\n",
    "    t_exact = data_matrix_[\"t\"]\n",
    "    noisy_data_df = add_noise_to_df(data_matrix_, noise_perc=noise_perc, random_seed=111)\n",
    "    noisy_data_df[\"t\"] = t_exact\n",
    "    data_matrix_df_list[ind] = noisy_data_df"
   ],
   "outputs": []
  },
  {
   "cell_type": "code",
   "execution_count": 10,
   "id": "ca89addb-3128-4023-aa57-56654fa2f9c6",
   "metadata": {},
   "source": [
    "from scipy import interpolate"
   ],
   "outputs": []
  },
  {
   "cell_type": "code",
   "execution_count": 11,
   "id": "37b58adc-431d-4414-9fc6-dd72f0ecbe7e",
   "metadata": {},
   "source": [
    "#smoothing parameter: when equal weightage: num_data_points * std of data\n",
    "s_param = num_time_points * (0.01*noise_perc*data_matrix_df_list[1].std()[\"x\"])**2\n",
    "\n",
    "tck = interpolate.splrep(data_matrix_df_list[1][\"t\"], data_matrix_df_list[1][\"x\"], s=s_param)\n",
    "t_eval_new = np.linspace(t_span[0], t_span[1], 500)\n",
    "x_new = interpolate.splev(t_eval_new, tck, der=0)\n",
    "\n",
    "plt.figure()\n",
    "plt.plot(data_matrix_df_list[1][\"t\"], data_matrix_df_list[1][\"x\"], \"x\", t_eval_new, x_new,\n",
    "        data_matrix_df[50:100][\"t\"], data_matrix_df[50:100][\"x\"], \"o\")\n",
    "plt.legend(['Linear', 'Cubic Spline', 'True'])\n",
    "# plt.axis([-0.05, 6.33, -1.05, 1.05])\n",
    "plt.title('Cubic-spline interpolation')\n",
    "plt.show()"
   ],
   "outputs": []
  },
  {
   "cell_type": "code",
   "execution_count": 12,
   "id": "0cbaa92b-49d1-4c82-845e-50ef0396753e",
   "metadata": {},
   "source": [
    "(3/4)*np.pi"
   ],
   "outputs": []
  },
  {
   "cell_type": "code",
   "execution_count": 13,
   "id": "cb578091-f24d-45ca-a666-4ffbff1d84f3",
   "metadata": {},
   "source": [
    "data_matrix_df[[\"x\",\"y\"]].plot()"
   ],
   "outputs": []
  },
  {
   "cell_type": "markdown",
   "id": "386adc28-f9d5-4e0c-b678-6f6cc0b7be15",
   "metadata": {},
   "source": [
    "### Smoothing data and finding derivatives"
   ]
  },
  {
   "attachments": {
    "c77aa784-201b-4c9a-b1b3-32fd7b314f37.png": {
     "image/png": "[encoded data removed]"
    }
   },
   "cell_type": "markdown",
   "id": "4fc6e9e9-8968-48c8-94be-658040df22bf",
   "metadata": {},
   "source": [
    "![Screenshot 2024-03-19 at 6.16.04 PM.png](attachment:c77aa784-201b-4c9a-b1b3-32fd7b314f37.png)"
   ]
  },
  {
   "cell_type": "markdown",
   "id": "f0516a86-c43a-4951-a950-20a6241c0c60",
   "metadata": {},
   "source": [
    "from dae_finder import der_matrix_calculator\n",
    "\n",
    "from scipy import interpolate"
   ]
  },
  {
   "cell_type": "markdown",
   "id": "a204092d-b2ad-4c30-8b6d-53679cc85656",
   "metadata": {},
   "source": [
    "def der_label(feature, der=1):\n",
    "    if der==0:\n",
    "        return feature\n",
    "    elif der==1:\n",
    "        return \"d({}) /dt\".format(feature)\n",
    "    else:\n",
    "        return \"d^{}({}) /dt^{}\".format(der, feature, der)\n",
    "\n",
    "def smooth_data(data_matrix, domain_var = \"t\", s_param=None, noise_perc=0, derr_order = 1, eval_points = []):\n",
    "    assert domain_var in data_matrix, \"domain variable not found in the data matrix\"\n",
    "\n",
    "    data_t = data_matrix[domain_var]\n",
    "    num_time_points = len(data_matrix)\n",
    "    find_s_param = !s_param and s_param !=0\n",
    "\n",
    "    if len(eval_points)==0:\n",
    "        eval_points = np.linspace(data_t.iloc[0], data_t.iloc[-1], 10*num_time_points)\n",
    "    t_eval_new = eval_points\n",
    "               \n",
    "    data_matrix_ = data_matrix.drop(domain_var, axis=1)\n",
    "    data_matrix_std = data_matrix_.std()\n",
    "\n",
    "    data_matrix_smooth = pd.DataFrame(t_eval_new, columns=[domain_var])\n",
    "    for feature in data_matrix_:\n",
    "        if find_s_param:\n",
    "            #smoothing parameter: when equal weightage: num_data_points * std of data\n",
    "            s_param = num_time_points * (0.01*noise_perc*data_matrix_std[feature])**2\n",
    "        tck = interpolate.splrep(data_t, data_matrix_[feature], s=s_param)\n",
    "        for der_ind in range(derr_order+1):\n",
    "            smoothed_data = interpolate.splev(t_eval_new, tck, der=der_ind)\n",
    "            data_matrix_smooth[der_label(feature, der_ind)] = smoothed_data\n",
    "\n",
    "    return data_matrix_smooth\n",
    "    "
   ]
  },
  {
   "cell_type": "markdown",
   "id": "bf603129-05a9-4463-8adf-42ca57c90f59",
   "metadata": {},
   "source": [
    "\n",
    "\n",
    "t_eval_new = np.linspace(data_matrix_df_list[1][\"t\"].iloc[0], data_matrix_df_list[1][\"t\"].iloc[-1], num_smoothed_points)\n",
    "\n",
    "smooth_data(data_matrix_df_list[1],derr_order=1, eval_points=t_eval_new, noise_perc=noise_perc) - data_matrix_smooth_df_list[1]"
   ]
  },
  {
   "cell_type": "code",
   "execution_count": null,
   "id": "b08ad0fa-115b-4b39-92c6-358187d64d7c",
   "metadata": {},
   "source": [],
   "outputs": []
  },
  {
   "cell_type": "markdown",
   "id": "b3d67a63-657f-4602-83ee-21dd2b687f5a",
   "metadata": {},
   "source": [
    "delta_t = t_eval_[1]- t_eval_[0]\n",
    "data_matrix_features = data_matrix_df_list[0].columns\n",
    "num_smoothed_points = num_time_points*10\n",
    "data_matrix_smooth_df_list = []\n",
    "\n",
    "for ind, data_matrix in enumerate(data_matrix_df_list):\n",
    "    data_t = data_matrix[\"t\"]\n",
    "    num_time_points = len(data_matrix)\n",
    "    data_matrix_ = data_matrix.drop([\"t\"], axis=1)\n",
    "    data_matrix_std = data_matrix_.std()\n",
    "    # print(data_matrix_std)\n",
    "    t_eval_new = np.linspace(data_t.iloc[0], data_t.iloc[-1], num_smoothed_points)\n",
    "    data_matrix_smooth = pd.DataFrame(t_eval_new, columns=[\"t\"])\n",
    "    for feature in data_matrix_:\n",
    "        #smoothing parameter: when equal weightage: num_data_points * std of data\n",
    "        s_param = num_time_points * (0.01*noise_perc*data_matrix_std[feature])**2\n",
    "        # print(s_param)\n",
    "        # s_param = 0\n",
    "        \n",
    "        tck = interpolate.splrep(data_t, data_matrix_[feature], s=s_param)\n",
    "        smoothed_data = interpolate.splev(t_eval_new, tck, der=0)\n",
    "        smoothed_derr = interpolate.splev(t_eval_new, tck, der=1)\n",
    "        data_matrix_smooth[feature] = smoothed_data\n",
    "        data_matrix_smooth[\"d({}) /dt\".format(feature)] = smoothed_derr\n",
    "\n",
    "    data_matrix_smooth_df_list.append(data_matrix_smooth)\n",
    "\n",
    "    \n",
    "    # derr_matrix = der_matrix_calculator(data_matrix_, delta_t)\n",
    "    # data_matrix_df_list[ind] = pd.concat([data_matrix_.iloc[:-1], derr_matrix], axis=1)\n",
    "\n",
    "data_matrix_df_smooth_appended = pd.concat(data_matrix_smooth_df_list[:-1], ignore_index=True)"
   ]
  },
  {
   "cell_type": "code",
   "execution_count": 14,
   "id": "774b6c99-506f-4371-b688-ebb87dfe4205",
   "metadata": {},
   "source": [
    "from dae_finder import smooth_data\n",
    "\n",
    "num_smoothed_points = num_time_points*10\n",
    "\n",
    "t_eval_new = np.linspace(data_matrix_df_list[0][\"t\"].iloc[0], data_matrix_df_list[0][\"t\"].iloc[-1], num_smoothed_points)\n",
    "\n",
    "#Calling the smoothening function\n",
    "data_matrix_smooth_df_list = [smooth_data(data_matrix,derr_order=1, noise_perc=noise_perc, eval_points=t_eval_new) for data_matrix in data_matrix_df_list]\n",
    "\n",
    "data_matrix_df_smooth_appended = pd.concat(data_matrix_smooth_df_list[:-1], ignore_index=True)"
   ],
   "outputs": []
  },
  {
   "cell_type": "code",
   "execution_count": null,
   "id": "c92bb674-b5cf-478e-a787-81d0b4520f11",
   "metadata": {},
   "source": [],
   "outputs": []
  },
  {
   "cell_type": "code",
   "execution_count": 15,
   "id": "1130b677-3079-4f26-b6ae-821866e20307",
   "metadata": {},
   "source": [
    "ind = 1\n",
    "feature_ = \"y\"\n",
    "\n",
    "plt.figure()\n",
    "# plt.plot(data_matrix_df_list[1][\"t\"], data_matrix_df_list[1][\"x\"], \"x\", t_eval_new, x_new,\n",
    "#         data_matrix_df[50:100][\"t\"], data_matrix_df[50:100][\"x\"], \"o\")\n",
    "\n",
    "plt.plot(data_matrix_df_list[ind][\"t\"], data_matrix_df_list[ind][feature_], \"x\", data_matrix_smooth_df_list[ind][\"t\"],\n",
    "         data_matrix_smooth_df_list[ind][feature_],data_matrix_df[ind*num_time_points:(ind+1)*num_time_points][\"t\"], data_matrix_df[ind*num_time_points:(ind+1)*num_time_points][feature_], \"o\")\n",
    "plt.legend(['Noisy', 'Cubic Spline', 'True'])\n",
    "# plt.axis([-0.05, 6.33, -1.05, 1.05])\n",
    "plt.title('Cubic-spline interpolation of {} - Noise: {}%'.format(feature_, noise_perc))\n",
    "plt.show()"
   ],
   "outputs": []
  },
  {
   "cell_type": "code",
   "execution_count": 16,
   "id": "c924d8cb-183a-4655-8c72-39fc680afea9",
   "metadata": {},
   "source": [
    "data_matrix_smooth_df_list[0][[\"d(x) /dt\"]].plot()"
   ],
   "outputs": []
  },
  {
   "cell_type": "code",
   "execution_count": 17,
   "id": "f081dd15-d33b-42f3-a6e1-b04d200b495f",
   "metadata": {},
   "source": [
    "data_matrix_smooth_df_list[0][[\"d(x) /dt\"]].plot()"
   ],
   "outputs": []
  },
  {
   "cell_type": "code",
   "execution_count": null,
   "id": "c71ce1ce-c6b0-44b6-b71e-f150c72de03d",
   "metadata": {},
   "source": [],
   "outputs": []
  },
  {
   "cell_type": "markdown",
   "id": "919ee083-27cc-46a9-aa63-80012571171e",
   "metadata": {},
   "source": [
    "#Taking second derivatives\n",
    "delta_t = t_eval_[1]- t_eval_[0]\n",
    "data_matrix_features = data_matrix_df_list[0].columns\n",
    "for ind, data_matrix_ in enumerate(data_matrix_df_list):\n",
    "    derr_matrix = der_matrix_calculator(data_matrix_, delta_t)\n",
    "    data_matrix_df_list[ind] = pd.concat([data_matrix_.iloc[:-1], derr_matrix], axis=1)\n",
    "\n",
    "data_matrix_df_appended = pd.concat(data_matrix_df_list, ignore_index=True)\n",
    "data_matrix_df_appended"
   ]
  },
  {
   "cell_type": "code",
   "execution_count": 18,
   "id": "acfdcd4c-ef3f-46b0-90bf-cf1d8a5ea85b",
   "metadata": {},
   "source": [
    "# data_matrix_df = data_matrix_df_appended[[\"x\",\"y\"]]\n",
    "# data_matrix_df = pd.concat([data_matrix_df, data_matrix_df_appended[[\"d(u) /dt\"]]], axis=1)\n",
    "data_matrix_df_smooth = data_matrix_df_smooth_appended[[\"x\",\"y\", \"d(x) /dt\", \"d(y) /dt\"]]\n",
    "data_matrix_df_smooth"
   ],
   "outputs": []
  },
  {
   "cell_type": "code",
   "execution_count": 19,
   "id": "4c78e05a-016f-4a64-ae02-94d942da230e",
   "metadata": {},
   "source": [
    "from copy import deepcopy\n",
    "new_df = deepcopy(data_matrix_df_smooth)\n",
    "\n",
    "new_df[\"energy\"] = 0.5*((new_df[\"d(x) /dt\"])**2 + (new_df[\"d(y) /dt\"])**2) +  9.81*new_df[\"y\"]\n",
    "\n",
    "new_df.plot()"
   ],
   "outputs": []
  },
  {
   "cell_type": "markdown",
   "id": "083b7d72-e44a-4fb8-8fc4-4cf8b95cbaba",
   "metadata": {},
   "source": [
    "## Forming candiate library"
   ]
  },
  {
   "cell_type": "code",
   "execution_count": 20,
   "id": "2363240e-706e-499d-98d4-4fb5beceab82",
   "metadata": {},
   "source": [
    "from sklearn.preprocessing import FunctionTransformer\n",
    "from copy import deepcopy\n",
    "\n",
    "def sin_transformer(period = 2*np.pi):\n",
    "    return FunctionTransformer(lambda x: np.sin(x / period * 2 * np.pi))\n",
    "\n",
    "\n",
    "def sin_diff_transformer(period = 2*np.pi):\n",
    "    return FunctionTransformer(lambda x,y: np.sin((x-y) / period * 2 * np.pi))\n",
    "\n",
    "def cos_transformer(period = 2*np.pi):\n",
    "    return FunctionTransformer(lambda x: np.cos(x / period * 2 * np.pi))\n",
    "\n",
    "\n",
    "data_matrix_df_with_trig = deepcopy(data_matrix_df)\n",
    "# data_matrix_df_with_trig[\"sin(theta)\"] = sin_transformer(1).fit_transform(data_matrix_df_with_trig)[\"theta\"]\n",
    "# data_matrix_df_with_trig[\"cos(theta)\"] = cos_transformer(1).fit_transform(data_matrix_df_with_trig)[\"theta\"]"
   ],
   "outputs": []
  },
  {
   "cell_type": "code",
   "execution_count": null,
   "id": "6aeef1e1-372c-4588-a5c8-0ad721db7a27",
   "metadata": {},
   "source": [],
   "outputs": []
  },
  {
   "cell_type": "code",
   "execution_count": 32,
   "id": "1911862f-07ac-44fa-aff2-6a9d041c5c4b",
   "metadata": {},
   "source": [
    "from scipy.sparse import coo_array\n",
    "\n",
    "row  = np.array([0, 3, 1, 0, 0, 0])\n",
    "col  = np.array([0, 3, 1, 1, 2, 4])\n",
    "data = np.array([4, 5, 7, 9, 100, 101])\n",
    "# sp_array = coo_array((data, (row, col)), shape=(4, 4))\n",
    "sp_array = coo_array((data, (row, col)))\n"
   ],
   "outputs": []
  },
  {
   "cell_type": "code",
   "execution_count": 22,
   "id": "06817ca3-eaff-4141-b7bb-752059ea00ae",
   "metadata": {},
   "source": [
    "list(zip(sp_array.row, sp_array.col))"
   ],
   "outputs": []
  },
  {
   "cell_type": "code",
   "execution_count": 130,
   "id": "2715d678-4ba3-4091-9a2e-42a84087d060",
   "metadata": {},
   "source": [
    "from sklearn.base import BaseEstimator, TransformerMixin\n",
    "from scipy.sparse import coo_array\n",
    "from sklearn.utils.validation import (\n",
    "    FLOAT_DTYPES,\n",
    "    _check_feature_names_in,\n",
    "    _check_sample_weight,\n",
    "    check_is_fitted,\n",
    ")\n",
    "\n",
    "class FeatureDiffTransformer(TransformerMixin, BaseEstimator):\n",
    "\n",
    "    def __init__(self, sparsity_matrix, power=1, comp_function=None):\n",
    "\n",
    "        assert isinstance(sparsity_matrix, coo_array), \"FeatureDiffTransformer only support sparsity matrix\\\n",
    "        in the scipy.sparse.coo_array format\"\n",
    "        self.sparsity_matrix = sparsity_matrix\n",
    "        if not comp_function:\n",
    "            self.comp_function = comp_function\n",
    "        else:\n",
    "            self.comp_function = lambda x: x\n",
    "        assert power>=1, \"difference power needs to be atleast 1\"\n",
    "        self.power = power\n",
    "\n",
    "        self.n_features_in_ = 0\n",
    "        self.feature_names_in_ = None\n",
    "\n",
    "\n",
    "    def get_feature_names_out(self, input_features=None):\n",
    "        \"\"\"Get output feature names for transformation.\n",
    "\n",
    "        Parameters\n",
    "        ----------\n",
    "        input_features : array-like of str or None, default=None\n",
    "            Input features.\n",
    "\n",
    "            - If `input_features is None`, then `feature_names_in_` is\n",
    "              used as feature names in. If `feature_names_in_` is not defined,\n",
    "              then the following input feature names are generated:\n",
    "              `[\"x0\", \"x1\", ..., \"x(n_features_in_ - 1)\"]`.\n",
    "            - If `input_features` is an array-like, then `input_features` must\n",
    "              match `feature_names_in_` if `feature_names_in_` is defined.\n",
    "\n",
    "        Returns\n",
    "        -------\n",
    "        feature_names_out : ndarray of str objects\n",
    "            Transformed feature names.\n",
    "        \"\"\"\n",
    "        power = self.power\n",
    "        input_features = _check_feature_names_in(self, input_features)\n",
    "        feature_names = [feature for feature in input_features]\n",
    "        # for row in powers:\n",
    "        #     inds = np.where(row)[0]\n",
    "        #     if len(inds):\n",
    "        #         name = \" \".join(\n",
    "        #             (\n",
    "        #                 \"%s^%d\" % (input_features[ind], exp)\n",
    "        #                 if exp != 1\n",
    "        #                 else input_features[ind]\n",
    "        #             )\n",
    "        #             for ind, exp in zip(inds, row[inds])\n",
    "        #         )\n",
    "        #     else:\n",
    "        #         name = \"1\"\n",
    "        #     feature_names.append(name)\n",
    "        return np.asarray(feature_names, dtype=object)\n",
    "\n",
    "    def fit(self, X, y=None):\n",
    "        self.n_features_in_ = X.shape[1]\n",
    "        assert max(self.sparsity_matrix.col.max(), self.sparsity_matrix.row.max()) <=self.n_features_in_-1, \\\n",
    "        \"sparsity matrix has indices out of bound of the number of features\"\n",
    "        if len(X.columns) >0:\n",
    "            self.feature_names_in_ = X.columns\n",
    "        return self\n",
    "\n",
    "    def transform(self, X):\n",
    "        \"\"\"Transform data to specified difference feature\n",
    "\n",
    "        Parameters\n",
    "        ----------\n",
    "        X : {array-like, sparse matrix} of shape (n_samples, n_features)\n",
    "            The data to transform, row by row.\n",
    "\n",
    "        Returns\n",
    "        -------\n",
    "        XP : {ndarray, sparse matrix} of shape (n_samples, NS)\n",
    "            The matrix of features, where `NS` is the number of non-zero\n",
    "            connections implied from the sparsity matrix.\n",
    "        \"\"\"\n",
    "        check_is_fitted(self)\n",
    "\n",
    "        X = self._validate_data(\n",
    "            X, order=\"F\", dtype=FLOAT_DTYPES, reset=False, accept_sparse=(\"csr\", \"csc\")\n",
    "        )\n",
    "        # self.n_features_in_ = X.shape[1]\n",
    "        # if len(X.columns) >0:\n",
    "        #     self.feature_names_in_ = X.columns\n",
    "        # n_samples, n_features = X.shape\n",
    "        # max_int32 = np.iinfo(np.int32).max\n",
    "        # if sparse.issparse(X) and X.format == \"csr\":\n",
    "        #     if self._max_degree > 3:\n",
    "        #         return self.transform(X.tocsc()).tocsr()\n",
    "        #     to_stack = []\n",
    "        #     if self.include_bias:\n",
    "        #         to_stack.append(\n",
    "        #             sparse.csr_matrix(np.ones(shape=(n_samples, 1), dtype=X.dtype))\n",
    "        #         )\n",
    "        #     if self._min_degree <= 1 and self._max_degree > 0:\n",
    "        #         to_stack.append(X)\n",
    "\n",
    "        #     cumulative_size = sum(mat.shape[1] for mat in to_stack)\n",
    "        #     for deg in range(max(2, self._min_degree), self._max_degree + 1):\n",
    "        #         expanded = _create_expansion(\n",
    "        #             X=X,\n",
    "        #             interaction_only=self.interaction_only,\n",
    "        #             deg=deg,\n",
    "        #             n_features=n_features,\n",
    "        #             cumulative_size=cumulative_size,\n",
    "        #         )\n",
    "        #         if expanded is not None:\n",
    "        #             to_stack.append(expanded)\n",
    "        #             cumulative_size += expanded.shape[1]\n",
    "        #     if len(to_stack) == 0:\n",
    "        #         # edge case: deal with empty matrix\n",
    "        #         XP = sparse.csr_matrix((n_samples, 0), dtype=X.dtype)\n",
    "        #     else:\n",
    "        #         # `scipy.sparse.hstack` breaks in scipy<1.9.2\n",
    "        #         # when `n_output_features_ > max_int32`\n",
    "        #         all_int32 = all(mat.indices.dtype == np.int32 for mat in to_stack)\n",
    "        #         if (\n",
    "        #             sp_version < parse_version(\"1.9.2\")\n",
    "        #             and self.n_output_features_ > max_int32\n",
    "        #             and all_int32\n",
    "        #         ):\n",
    "        #             raise ValueError(  # pragma: no cover\n",
    "        #                 \"In scipy versions `<1.9.2`, the function `scipy.sparse.hstack`\"\n",
    "        #                 \" produces negative columns when:\\n1. The output shape contains\"\n",
    "        #                 \" `n_cols` too large to be represented by a 32bit signed\"\n",
    "        #                 \" integer.\\n2. All sub-matrices to be stacked have indices of\"\n",
    "        #                 \" dtype `np.int32`.\\nTo avoid this error, either use a version\"\n",
    "        #                 \" of scipy `>=1.9.2` or alter the `PolynomialFeatures`\"\n",
    "        #                 \" transformer to produce fewer than 2^31 output features\"\n",
    "        #             )\n",
    "        #         XP = sparse.hstack(to_stack, dtype=X.dtype, format=\"csr\")\n",
    "        # elif sparse.issparse(X) and X.format == \"csc\" and self._max_degree < 4:\n",
    "        #     return self.transform(X.tocsr()).tocsc()\n",
    "        # elif sparse.issparse(X):\n",
    "        #     combinations = self._combinations(\n",
    "        #         n_features=n_features,\n",
    "        #         min_degree=self._min_degree,\n",
    "        #         max_degree=self._max_degree,\n",
    "        #         interaction_only=self.interaction_only,\n",
    "        #         include_bias=self.include_bias,\n",
    "        #     )\n",
    "        #     columns = []\n",
    "        #     for combi in combinations:\n",
    "        #         if combi:\n",
    "        #             out_col = 1\n",
    "        #             for col_idx in combi:\n",
    "        #                 out_col = X[:, [col_idx]].multiply(out_col)\n",
    "        #             columns.append(out_col)\n",
    "        #         else:\n",
    "        #             bias = sparse.csc_matrix(np.ones((X.shape[0], 1)))\n",
    "        #             columns.append(bias)\n",
    "        #     XP = sparse.hstack(columns, dtype=X.dtype).tocsc()\n",
    "        # else:\n",
    "        #     # Do as if _min_degree = 0 and cut down array after the\n",
    "        #     # computation, i.e. use _n_out_full instead of n_output_features_.\n",
    "        #     XP = np.empty(\n",
    "        #         shape=(n_samples, self._n_out_full), dtype=X.dtype, order=self.order\n",
    "        #     )\n",
    "\n",
    "        #     # What follows is a faster implementation of:\n",
    "        #     # for i, comb in enumerate(combinations):\n",
    "        #     #     XP[:, i] = X[:, comb].prod(1)\n",
    "        #     # This implementation uses two optimisations.\n",
    "        #     # First one is broadcasting,\n",
    "        #     # multiply ([X1, ..., Xn], X1) -> [X1 X1, ..., Xn X1]\n",
    "        #     # multiply ([X2, ..., Xn], X2) -> [X2 X2, ..., Xn X2]\n",
    "        #     # ...\n",
    "        #     # multiply ([X[:, start:end], X[:, start]) -> ...\n",
    "        #     # Second optimisation happens for degrees >= 3.\n",
    "        #     # Xi^3 is computed reusing previous computation:\n",
    "        #     # Xi^3 = Xi^2 * Xi.\n",
    "\n",
    "        #     # degree 0 term\n",
    "        #     if self.include_bias:\n",
    "        #         XP[:, 0] = 1\n",
    "        #         current_col = 1\n",
    "        #     else:\n",
    "        #         current_col = 0\n",
    "\n",
    "        #     if self._max_degree == 0:\n",
    "        #         return XP\n",
    "\n",
    "        #     # degree 1 term\n",
    "        #     XP[:, current_col : current_col + n_features] = X\n",
    "        #     index = list(range(current_col, current_col + n_features))\n",
    "        #     current_col += n_features\n",
    "        #     index.append(current_col)\n",
    "\n",
    "        #     # loop over degree >= 2 terms\n",
    "        #     for _ in range(2, self._max_degree + 1):\n",
    "        #         new_index = []\n",
    "        #         end = index[-1]\n",
    "        #         for feature_idx in range(n_features):\n",
    "        #             start = index[feature_idx]\n",
    "        #             new_index.append(current_col)\n",
    "        #             if self.interaction_only:\n",
    "        #                 start += index[feature_idx + 1] - index[feature_idx]\n",
    "        #             next_col = current_col + end - start\n",
    "        #             if next_col <= current_col:\n",
    "        #                 break\n",
    "        #             # XP[:, start:end] are terms of degree d - 1\n",
    "        #             # that exclude feature #feature_idx.\n",
    "        #             np.multiply(\n",
    "        #                 XP[:, start:end],\n",
    "        #                 X[:, feature_idx : feature_idx + 1],\n",
    "        #                 out=XP[:, current_col:next_col],\n",
    "        #                 casting=\"no\",\n",
    "        #             )\n",
    "        #             current_col = next_col\n",
    "\n",
    "        #         new_index.append(current_col)\n",
    "        #         index = new_index\n",
    "\n",
    "        #     if self._min_degree > 1:\n",
    "        #         n_XP, n_Xout = self._n_out_full, self.n_output_features_\n",
    "        #         if self.include_bias:\n",
    "        #             Xout = np.empty(\n",
    "        #                 shape=(n_samples, n_Xout), dtype=XP.dtype, order=self.order\n",
    "        #             )\n",
    "        #             Xout[:, 0] = 1\n",
    "        #             Xout[:, 1:] = XP[:, n_XP - n_Xout + 1 :]\n",
    "        #         else:\n",
    "        #             Xout = XP[:, n_XP - n_Xout :].copy()\n",
    "        #         XP = Xout\n",
    "        return X"
   ],
   "outputs": []
  },
  {
   "cell_type": "code",
   "execution_count": 126,
   "id": "5f88e8f6-7cfd-4922-a29d-6d33303bae00",
   "metadata": {},
   "source": [
    "from scipy.sparse import coo_array\n",
    "\n",
    "row  = np.array([0, 0, 1])\n",
    "col  = np.array([0, 2, 2])\n",
    "data = np.array([4, 5, 7])\n",
    "# sp_array = coo_array((data, (row, col)), shape=(4, 4))\n",
    "sp_array_2 = coo_array((data, (row, col)))\n",
    "\n",
    "\n",
    "dummy_tr = FeatureDiffTransformer(sp_array_2, power=1)"
   ],
   "outputs": []
  },
  {
   "cell_type": "code",
   "execution_count": 127,
   "id": "9315f269-2867-42ce-87f4-288032c13731",
   "metadata": {},
   "source": [
    "# dummy_tr._check_n_features(data_matrix_, 0)\n",
    "# dummy_tr._check_feature_names(data_matrix_, reset = 0)"
   ],
   "outputs": []
  },
  {
   "cell_type": "code",
   "execution_count": 128,
   "id": "9e32e389-6fe0-41db-a57f-c5812016c9b6",
   "metadata": {},
   "source": [
    "# dummy_tr.fit(data_matrix_)\n",
    "dummy_tr.fit_transform(data_matrix_)"
   ],
   "outputs": []
  },
  {
   "cell_type": "code",
   "execution_count": 129,
   "id": "61750012-1c5d-47af-bda4-04cc89fc7fb3",
   "metadata": {},
   "source": [
    "dummy_tr.get_feature_names_out()"
   ],
   "outputs": []
  },
  {
   "cell_type": "code",
   "execution_count": 132,
   "id": "a0e0352f-84cb-4a44-ba09-be1bbb0ec4bd",
   "metadata": {},
   "source": [
    "sp_array.coords"
   ],
   "outputs": []
  },
  {
   "cell_type": "code",
   "execution_count": 134,
   "id": "c0998bd4-c0ff-433c-aaf8-5c4d8dcb419c",
   "metadata": {},
   "source": [
    "sp_array.toarray()"
   ],
   "outputs": []
  },
  {
   "cell_type": "code",
   "execution_count": 141,
   "id": "1c124045-cab9-4713-8503-cbea50302880",
   "metadata": {},
   "source": [
    "coo_array(sp_array.toarray()).nnz"
   ],
   "outputs": []
  },
  {
   "cell_type": "code",
   "execution_count": 137,
   "id": "fbd4dac2-22e7-4b86-a452-ed9a73b8c68d",
   "metadata": {},
   "source": [
    "sp_array.size"
   ],
   "outputs": []
  },
  {
   "cell_type": "code",
   "execution_count": 138,
   "id": "07446528-0310-4625-ab21-8eb7be25abdb",
   "metadata": {},
   "source": [
    "sp_array.nnz"
   ],
   "outputs": []
  },
  {
   "cell_type": "code",
   "execution_count": 41,
   "id": "08ac8022-28e6-4299-9d87-7df9a9a515c8",
   "metadata": {},
   "source": [
    "data_matrix_"
   ],
   "outputs": []
  },
  {
   "cell_type": "code",
   "execution_count": 107,
   "id": "be5c2e38-d824-4451-986e-d2b8503097aa",
   "metadata": {},
   "source": [
    "sp_array.ndim"
   ],
   "outputs": []
  },
  {
   "cell_type": "code",
   "execution_count": 115,
   "id": "be1adbcc-c8d0-45c0-abcc-dd17ebd416e6",
   "metadata": {},
   "source": [
    "max(sp_array.col.max(), sp_array.row.max())"
   ],
   "outputs": []
  },
  {
   "cell_type": "code",
   "execution_count": 114,
   "id": "0e0fe14a-e646-416c-ad80-fe5a0d6f79e7",
   "metadata": {},
   "source": [
    "sp_array.row.max()"
   ],
   "outputs": []
  },
  {
   "cell_type": "code",
   "execution_count": null,
   "id": "ec91490b-2470-4e6c-bc05-7c920f736aa0",
   "metadata": {},
   "source": [],
   "outputs": []
  },
  {
   "cell_type": "code",
   "execution_count": null,
   "id": "cad517b9-8886-4c2f-99a8-500c714cea00",
   "metadata": {},
   "source": [],
   "outputs": []
  },
  {
   "cell_type": "code",
   "execution_count": 23,
   "id": "a182e5cb-5be1-47dd-9c78-cff31e26fc1a",
   "metadata": {},
   "source": [
    "sp_array.col"
   ],
   "outputs": []
  },
  {
   "cell_type": "code",
   "execution_count": 24,
   "id": "037d31a4-f461-44b9-ae2c-04e87fc4c3b2",
   "metadata": {},
   "source": [
    "sp_array.toarray()[0]"
   ],
   "outputs": []
  },
  {
   "cell_type": "code",
   "execution_count": 26,
   "id": "8928c0fe-1d83-49ad-8269-09fd097653be",
   "metadata": {},
   "source": [
    "new_sp = sp_array.tocsr()"
   ],
   "outputs": []
  },
  {
   "cell_type": "code",
   "execution_count": 148,
   "id": "2a2b77bd-0d86-4000-87db-b6295a808ea5",
   "metadata": {},
   "source": [
    "new_sp.toarray()"
   ],
   "outputs": []
  },
  {
   "cell_type": "code",
   "execution_count": 152,
   "id": "ed823b0f-de21-4d92-b9e8-99828c8c285c",
   "metadata": {},
   "source": [
    "col_sp = new_sp[[0]]\n",
    "col_sp.col"
   ],
   "outputs": []
  },
  {
   "cell_type": "code",
   "execution_count": 172,
   "id": "11d2aad0-2c8c-406e-9453-fe6e2a363d25",
   "metadata": {},
   "source": [
    "#Getting rows corresponding to 1 and 2\n",
    "new_sp[[0, 1,2]]"
   ],
   "outputs": []
  },
  {
   "cell_type": "code",
   "execution_count": 165,
   "id": "e7ad2847-8224-4d5a-8f2c-dcccf9ba6649",
   "metadata": {},
   "source": [
    "#Getting rows corresponding to 0 and 1\n",
    "new_sp[:, [0,1]]"
   ],
   "outputs": []
  },
  {
   "cell_type": "code",
   "execution_count": 173,
   "id": "2c06183d-7ca8-4f9b-bfc9-752842059e9a",
   "metadata": {},
   "source": [
    "#Getting rows corresponding to 1 and 2\n",
    "new_sp[[0, 1,2]].toarray()"
   ],
   "outputs": []
  },
  {
   "cell_type": "code",
   "execution_count": 167,
   "id": "c0c22e27-c7ef-4605-b101-7ef7e7c20638",
   "metadata": {},
   "source": [
    "#Getting rows corresponding to 0 and 1\n",
    "new_sp[:, [0,1]].toarray()"
   ],
   "outputs": []
  },
  {
   "cell_type": "code",
   "execution_count": 175,
   "id": "c4269b0a-1d52-4f92-a77a-7cbd249cd687",
   "metadata": {},
   "source": [
    "#Getting rows corresponding to 1 and 2\n",
    "new_sp[[0, 1,2]].tocoo().row\n",
    "# new_sp[[1,2]].tocoo().col\n"
   ],
   "outputs": []
  },
  {
   "cell_type": "code",
   "execution_count": 177,
   "id": "61772d13-86fe-42cc-b5f4-8f70102b6bbe",
   "metadata": {},
   "source": [
    "new_sp[[0, 1,2]].tocoo().col\n"
   ],
   "outputs": []
  },
  {
   "cell_type": "code",
   "execution_count": 167,
   "id": "c57c3301-3c41-498c-8566-4273086b2e6d",
   "metadata": {},
   "source": [
    "#Getting rows corresponding to 0 and 1\n",
    "new_sp[:, [0,1]].toarray()"
   ],
   "outputs": []
  },
  {
   "cell_type": "code",
   "execution_count": null,
   "id": "47b14e85-b8a5-49f7-858d-231e1b555395",
   "metadata": {},
   "source": [],
   "outputs": []
  },
  {
   "cell_type": "code",
   "execution_count": null,
   "id": "0b4fa110-8a6c-4bc4-aab0-0bb9d5649d26",
   "metadata": {},
   "source": [],
   "outputs": []
  },
  {
   "cell_type": "code",
   "execution_count": null,
   "id": "0573e6d5-5e96-46a4-9b9a-fb05882c0ef4",
   "metadata": {},
   "source": [
    "new_sp[[1,2]]"
   ],
   "outputs": []
  },
  {
   "cell_type": "code",
   "execution_count": 161,
   "id": "63a1f4cc-bc76-480e-9e63-cf276d146af6",
   "metadata": {},
   "source": [
    "new_sp.getrow(1)"
   ],
   "outputs": []
  },
  {
   "cell_type": "code",
   "execution_count": 164,
   "id": "73c93b26-851b-4c9a-beeb-9bb4695c2271",
   "metadata": {},
   "source": [
    "new_sp.getcol(1)"
   ],
   "outputs": []
  },
  {
   "cell_type": "code",
   "execution_count": null,
   "id": "6b4caa5c-2cdb-48ec-903f-5e0f0ac04f7b",
   "metadata": {},
   "source": [],
   "outputs": []
  },
  {
   "cell_type": "code",
   "execution_count": null,
   "id": "b37d15f3-3133-4e0a-980a-0c942e2394e6",
   "metadata": {},
   "source": [],
   "outputs": []
  },
  {
   "cell_type": "code",
   "execution_count": null,
   "id": "4cbe772f-d606-4ff0-9593-741f5174dfb7",
   "metadata": {},
   "source": [],
   "outputs": []
  },
  {
   "cell_type": "code",
   "execution_count": 48,
   "id": "71bc1732-cc38-4ffc-ad50-bcc70dad685b",
   "metadata": {},
   "source": [
    "np.sin(data_matrix_df_with_trig) - sin_trans_obj.fit_transform(data_matrix_df_with_trig)"
   ],
   "outputs": []
  },
  {
   "cell_type": "code",
   "execution_count": null,
   "id": "84c5e67e-9eca-47c9-a414-79d8616c55a2",
   "metadata": {},
   "source": [],
   "outputs": []
  },
  {
   "cell_type": "code",
   "execution_count": null,
   "id": "5b248a66-d2de-4ed9-910c-12af05f40946",
   "metadata": {},
   "source": [],
   "outputs": []
  },
  {
   "cell_type": "code",
   "execution_count": null,
   "id": "51e29302-8188-466c-bdf3-b4a9da5a852e",
   "metadata": {},
   "source": [],
   "outputs": []
  },
  {
   "cell_type": "code",
   "execution_count": null,
   "id": "f1aabd9e-d071-488c-97f3-06ac49213e4d",
   "metadata": {},
   "source": [],
   "outputs": []
  },
  {
   "cell_type": "code",
   "execution_count": 47,
   "id": "a8ea43a1-abb2-407a-b593-0d2bc960c799",
   "metadata": {},
   "source": [
    "sin_trans_obj = sin_transformer()\n",
    "sin_trans_obj.fit_transform(data_matrix_df_with_trig)"
   ],
   "outputs": []
  },
  {
   "cell_type": "code",
   "execution_count": 43,
   "id": "39ce585f-a9b4-4632-9dcd-a07293f019ff",
   "metadata": {},
   "source": [],
   "outputs": []
  },
  {
   "cell_type": "code",
   "execution_count": null,
   "id": "a58b590b-1ee9-47c0-8a62-50cd7af07e8d",
   "metadata": {},
   "source": [],
   "outputs": []
  },
  {
   "cell_type": "code",
   "execution_count": null,
   "id": "c70214cd-b4e1-41f9-8209-9dc8f8567e09",
   "metadata": {},
   "source": [],
   "outputs": []
  },
  {
   "cell_type": "code",
   "execution_count": 21,
   "id": "c667a96b-12c0-4bab-808a-5d7b7e884fbb",
   "metadata": {},
   "source": [
    "from dae_finder import PolyFeatureMatrix\n",
    "\n",
    "poly_feature_ob = PolyFeatureMatrix(2)\n",
    "\n",
    "candidate_lib_full = poly_feature_ob.fit_transform(data_matrix_df_smooth)"
   ],
   "outputs": []
  },
  {
   "cell_type": "code",
   "execution_count": 22,
   "id": "4a11429f-1cc4-4c85-a27a-d10c6aa4e339",
   "metadata": {},
   "source": [
    "candidate_lib_full = candidate_lib_full.drop([\"1\"], axis=1)\n",
    "candidate_lib_full"
   ],
   "outputs": []
  },
  {
   "cell_type": "markdown",
   "id": "e9b04b81-6990-4940-b0c6-a08228c9bd5d",
   "metadata": {},
   "source": [
    "candid_lib_comb = pd.concat([candidate_lib_full, data_matrix_df_with_trig[[\"cos(theta)\", \"sin(theta)\"]]], axis=1)\n",
    "candid_lib_comb"
   ]
  },
  {
   "cell_type": "markdown",
   "id": "1283b467-fa54-4a0f-adab-fbd8108b142e",
   "metadata": {},
   "source": [
    "### SVD analysis"
   ]
  },
  {
   "cell_type": "code",
   "execution_count": 23,
   "id": "aa17c052-a6be-47e3-aaec-51dc2bf35833",
   "metadata": {},
   "source": [
    "from sklearn import decomposition\n",
    "pca_1 = decomposition.PCA()\n",
    "pca_1.fit(candidate_lib_full)\n",
    "\n",
    "# pca_2 = decomposition.PCA()\n",
    "# pca_2.fit(mean_candidate_lib)\n",
    "\n",
    "# pca_3 = decomposition.PCA()\n",
    "# pca_3.fit(selected_data_matrix_df)\n",
    "\n",
    "pca_2 = decomposition.PCA()\n",
    "pca_2.fit(candidate_lib_full.drop([\"x^2\", \"x d(x) /dt\"],axis=1))\n",
    "\n",
    "pca_3 = decomposition.PCA()\n",
    "pca_3.fit(candidate_lib_full.drop([\"x^2\", \"x d(x) /dt\", \"y\"],axis=1))\n",
    "\n",
    "\n",
    "# singular_values = pca_1.singular_values_\n",
    "# mean_singular_values = pca_2.singular_values_\n",
    "\n",
    "var_expl_ratio = pca_1.explained_variance_ratio_\n",
    "theta_dot_sq_rem_expl_ratio = pca_2.explained_variance_ratio_\n",
    "theta_dot_rem_expl_ratio = pca_3.explained_variance_ratio_\n",
    "# data_var_expl_ratio_E = pca_4.explained_variance_\n",
    "\n",
    "# var_expl_ratio_E_rem = pca_5.explained_variance_\n"
   ],
   "outputs": []
  },
  {
   "cell_type": "code",
   "execution_count": 24,
   "id": "e4d5314b-0ce0-4734-9143-c0a37e5467e9",
   "metadata": {},
   "source": [
    "from matplotlib import pyplot as plt\n",
    "\n",
    "plt.scatter(np.arange(len(var_expl_ratio)),np.log(var_expl_ratio))\n",
    "plt.grid()\n",
    "# for x, y in zip(np.arange(len(candid_lib_sing_values)),np.log(candid_lib_sing_values)):\n",
    "#     plt.text(x,y,y)"
   ],
   "outputs": []
  },
  {
   "cell_type": "code",
   "execution_count": 25,
   "id": "2fcc41f2-42e3-4f21-bde5-7e1d2b754630",
   "metadata": {},
   "source": [
    "from matplotlib import pyplot as plt\n",
    "\n",
    "plt.scatter(np.arange(len(theta_dot_sq_rem_expl_ratio)),np.log(theta_dot_sq_rem_expl_ratio))\n",
    "plt.grid()\n",
    "# for x, y in zip(np.arange(len(candid_lib_sing_values)),np.log(candid_lib_sing_values)):\n",
    "#     plt.text(x,y,y)"
   ],
   "outputs": []
  },
  {
   "cell_type": "code",
   "execution_count": 26,
   "id": "382d4f54-9e25-4477-b043-07a39575acc4",
   "metadata": {},
   "source": [
    "from matplotlib import pyplot as plt\n",
    "\n",
    "plt.scatter(np.arange(len(theta_dot_rem_expl_ratio)),np.log(theta_dot_rem_expl_ratio))\n",
    "plt.grid()\n",
    "# for x, y in zip(np.arange(len(candid_lib_sing_values)),np.log(candid_lib_sing_values)):\n",
    "#     plt.text(x,y,y)"
   ],
   "outputs": []
  },
  {
   "cell_type": "markdown",
   "id": "c027ef7f-5809-4802-a7da-9003b5d0b876",
   "metadata": {},
   "source": [
    "### Finding the remaining algebraic relationships"
   ]
  },
  {
   "cell_type": "code",
   "execution_count": 27,
   "id": "a62fdc5a-728c-4b84-90a0-dc47f7381842",
   "metadata": {},
   "source": [
    "from dae_finder import AlgModelFinder\n",
    "from dae_finder import sequentialThLin, AlgModelFinder"
   ],
   "outputs": []
  },
  {
   "cell_type": "markdown",
   "id": "e549109e-1221-4dd5-93bd-96b297a647e8",
   "metadata": {},
   "source": [
    "\n",
    "seq_th_model = sequentialThLin(fit_intercept=True, coef_threshold= 0.1)\n"
   ]
  },
  {
   "cell_type": "markdown",
   "id": "2be90638-6291-4098-9e2e-6bd420b01c20",
   "metadata": {},
   "source": []
  },
  {
   "cell_type": "markdown",
   "id": "6f3ce34d-36c6-41e3-91d6-5617b72e2e20",
   "metadata": {},
   "source": [
    "algebraic_model_th.fit(candidate_lib_full, scale_columns= False)"
   ]
  },
  {
   "cell_type": "code",
   "execution_count": 28,
   "id": "c6a8a0a4-ee69-4262-812f-bfc4cfa3d45d",
   "metadata": {},
   "source": [
    "seq_th_model = sequentialThLin(fit_intercept=True, coef_threshold= 0.05)\n",
    "algebraic_model_th = AlgModelFinder(custom_model=True, custom_model_ob= seq_th_model)\n",
    "\n",
    "algebraic_model_th.fit(candidate_lib_full.drop([\"x^2\", \"x d(x) /dt\"], axis=1), scale_columns= False)"
   ],
   "outputs": []
  },
  {
   "cell_type": "code",
   "execution_count": 27,
   "id": "31434cc6-0419-4b7a-8600-0c558a96ec6d",
   "metadata": {},
   "source": [
    "algebraic_model_th.best_models(5)"
   ],
   "outputs": []
  },
  {
   "cell_type": "code",
   "execution_count": 28,
   "id": "0f68fdc2-a2ef-49d0-9be5-a495d3b0224f",
   "metadata": {},
   "source": [
    "#Use lasso model by default\n",
    "algebraic_model_1 = AlgModelFinder(model_id='lasso', alpha=0.3, fit_intercept=True)\n",
    "algebraic_model_1.fit(candidate_lib_full, scale_columns= True)\n",
    "\n",
    "\n",
    "algebraic_model_1.best_models(5)"
   ],
   "outputs": []
  },
  {
   "cell_type": "code",
   "execution_count": 29,
   "id": "d28f33d3-b4ba-436b-8291-8322234747b7",
   "metadata": {},
   "source": [
    "#Use lasso model by default\n",
    "algebraic_model_1 = AlgModelFinder(model_id='lasso', alpha=0.3, fit_intercept=True)\n",
    "algebraic_model_1.fit(candidate_lib_full.drop([\"x^2\", \"x d(x) /dt\"], axis=1), scale_columns= True)\n",
    "\n",
    "\n",
    "algebraic_model_1.best_models(5)"
   ],
   "outputs": []
  },
  {
   "cell_type": "code",
   "execution_count": null,
   "id": "16e4e1b8-cfb2-4f13-ba25-dc35b7925a02",
   "metadata": {},
   "source": [],
   "outputs": []
  },
  {
   "cell_type": "code",
   "execution_count": 1701,
   "id": "745f2bc8-9186-4e17-93d0-a9f38d66bc3f",
   "metadata": {},
   "source": [
    "from sklearn.linear_model import LinearRegression"
   ],
   "outputs": []
  },
  {
   "cell_type": "code",
   "execution_count": 1702,
   "id": "f4a2155a-f18b-43b3-91d3-0e181f8e82fc",
   "metadata": {},
   "source": [
    "model_lin = LinearRegression(fit_intercept= True)\n",
    "\n",
    "model_lin.fit(X=candidate_lib_full[[\"d(y) /dt^2\", \"d(x) /dt^2\"]], y=candidate_lib_full[\"y\"])"
   ],
   "outputs": []
  },
  {
   "cell_type": "code",
   "execution_count": 1648,
   "id": "46eef7f6-bb9b-463e-8eb6-9bb21a04bc30",
   "metadata": {},
   "source": [
    "dict(zip(model_lin.feature_names_in_, model_lin.coef_))"
   ],
   "outputs": []
  },
  {
   "cell_type": "code",
   "execution_count": 1555,
   "id": "e89b7a6d-0400-4aa7-92ed-f9228656b857",
   "metadata": {},
   "source": [
    "model_lin.intercept_"
   ],
   "outputs": []
  },
  {
   "cell_type": "code",
   "execution_count": 1556,
   "id": "e025344a-a133-475a-b710-7b2289d9680f",
   "metadata": {},
   "source": [
    "# Expected coefficient of x_dot^2 and y_dot^2 \n",
    "1/(9.8*2) #1/2 * 1/g"
   ],
   "outputs": []
  },
  {
   "cell_type": "code",
   "execution_count": 1557,
   "id": "dcbe45d6-7709-4ab8-aa12-a5de1962e898",
   "metadata": {},
   "source": [
    "# Expected intercept (coming from energy)\n",
    "L #L"
   ],
   "outputs": []
  },
  {
   "cell_type": "code",
   "execution_count": null,
   "id": "f7088f8a-3361-4693-95f9-ca1da81b7137",
   "metadata": {},
   "source": [],
   "outputs": []
  },
  {
   "cell_type": "code",
   "execution_count": 1558,
   "id": "00f3e29d-ead8-4691-a396-2e76684bfc9b",
   "metadata": {},
   "source": [
    "model_lin = LinearRegression(fit_intercept= True)\n",
    "\n",
    "model_lin.fit(X=candidate_lib_full[[\"y^2\", \"d(y) /dt^2\"]], y=candidate_lib_full[\"x^2\"])"
   ],
   "outputs": []
  },
  {
   "cell_type": "code",
   "execution_count": 1559,
   "id": "fd106e77-0483-44f2-8c21-34c6934e6f4d",
   "metadata": {},
   "source": [
    "dict(zip(model_lin.feature_names_in_, model_lin.coef_))"
   ],
   "outputs": []
  },
  {
   "cell_type": "code",
   "execution_count": 1446,
   "id": "923d0026-372b-4924-884d-677939bc745e",
   "metadata": {},
   "source": [
    "model_lin.intercept_"
   ],
   "outputs": []
  },
  {
   "cell_type": "code",
   "execution_count": null,
   "id": "b7033a5f-870c-4fa0-9e3d-fcfa13fbbadd",
   "metadata": {},
   "source": [],
   "outputs": []
  },
  {
   "cell_type": "code",
   "execution_count": null,
   "id": "f24825bf-5b0e-4b3d-b42c-d89c92707b1f",
   "metadata": {},
   "source": [],
   "outputs": []
  },
  {
   "cell_type": "code",
   "execution_count": null,
   "id": "d39abeaa-2e31-4386-b91b-4f3aa55a0c0b",
   "metadata": {},
   "source": [],
   "outputs": []
  },
  {
   "cell_type": "code",
   "execution_count": null,
   "id": "57c26848-3c01-44fb-af7b-81f937384af7",
   "metadata": {},
   "source": [],
   "outputs": []
  }
 ],
 "metadata": {
  "kernelspec": {
   "display_name": "Python 3 (ipykernel)",
   "language": "python",
   "name": "python3"
  },
  "language_info": {
   "codemirror_mode": {
    "name": "ipython",
    "version": 3
   },
   "file_extension": ".py",
   "mimetype": "text/x-python",
   "name": "python",
   "nbconvert_exporter": "python",
   "pygments_lexer": "ipython3",
   "version": "3.12.3"
  }
 },
 "nbformat": 4,
 "nbformat_minor": 5
}
